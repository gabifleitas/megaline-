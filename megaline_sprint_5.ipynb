{
 "cells": [
  {
   "cell_type": "markdown",
   "metadata": {
    "id": "3rYiDeEH0q0f"
   },
   "source": [
    "# ¿Cuál es la mejor tarifa?\n",
    "\n",
    "Trabajas como analista para el operador de telecomunicaciones Megaline. La empresa ofrece a sus clientes dos tarifas de prepago, Surf y Ultimate. El departamento comercial quiere saber cuál de las tarifas genera más ingresos para poder ajustar el presupuesto de publicidad.\n",
    "\n",
    "Vas a realizar un análisis preliminar de las tarifas basado en una selección de clientes relativamente pequeña. Tendrás los datos de 500 clientes de Megaline: quiénes son los clientes, de dónde son, qué tarifa usan, así como la cantidad de llamadas que hicieron y los mensajes de texto que enviaron en 2018. Tu trabajo es analizar el comportamiento de los clientes y determinar qué tarifa de prepago genera más ingresos."
   ]
  },
  {
   "cell_type": "markdown",
   "metadata": {
    "id": "VNddPNRQ0q0w"
   },
   "source": [
    "[Te proporcionamos algunos comentarios para orientarte mientras completas este proyecto. Pero debes asegurarte de eliminar todos los comentarios entre corchetes antes de entregar tu proyecto.]\n",
    "\n",
    "[Antes de sumergirte en el análisis de datos, explica por tu propia cuenta el propósito del proyecto y las acciones que planeas realizar.]\n",
    "\n",
    "[Ten en cuenta que estudiar, modificar y analizar datos es un proceso iterativo. Es normal volver a los pasos anteriores y corregirlos/ampliarlos para permitir nuevos pasos.]"
   ]
  },
  {
   "cell_type": "markdown",
   "metadata": {},
   "source": [
    "**En este proyecto analizaremos a la empresa Megaline. Específicamente, tenemos interés en saber la preferencia de los usuarios entre los planes Surf y Ultimate.**\n",
    "\n",
    "Para llevar a cabo este análisis lo que haremos será:\n",
    "* Extraer los datos a nuestra área de trabajo (Jupyterhub)\n",
    "* Limpiar los datos (analizar si hay valores en blanco, nulos. También verificar si hay duplicados)\n",
    "* Transformación de los datos (para poder realizar nuestros análisis, necesitaremos: combinar tablas, agrupar las tablas de manera específica, extraer cierta información de las tablas asi como meses específicos)\n",
    "* Luego, comenzaremos con los análisis estadísticos. Nuestro objetivo es determinar: El ingreso promedio de los usuarios de las tarifas Ultimate y Surf difiere; El ingreso promedio de los usuarios en el área de estados Nueva York-Nueva Jersey es diferente al de los usuarios de otras regiones."
   ]
  },
  {
   "cell_type": "markdown",
   "metadata": {
    "id": "MQi4IPy70q0y"
   },
   "source": [
    "## Inicialización"
   ]
  },
  {
   "cell_type": "code",
   "execution_count": 19,
   "metadata": {
    "id": "MtYIuBxu0q0z",
    "trusted": true
   },
   "outputs": [],
   "source": [
    "# Cargar todas las librerías\n",
    "import pandas as pd\n",
    "import numpy as np\n",
    "from scipy import stats as st\n",
    "from math import factorial\n",
    "import matplotlib.pyplot as plt"
   ]
  },
  {
   "cell_type": "markdown",
   "metadata": {
    "id": "4ysWWC5i0q00"
   },
   "source": [
    "## Cargar datos"
   ]
  },
  {
   "cell_type": "code",
   "execution_count": 20,
   "metadata": {
    "id": "CCqPW7rS0q01",
    "trusted": true
   },
   "outputs": [],
   "source": [
    "# Carga los archivos de datos en diferentes DataFrames\n",
    "users = pd.read_csv(\"/datasets/megaline_users.csv\")\n",
    "plans = pd.read_csv(\"/datasets/megaline_plans.csv\")\n",
    "messages = pd.read_csv(\"/datasets/megaline_messages.csv\")\n",
    "internet = pd.read_csv(\"/datasets/megaline_internet.csv\")\n",
    "calls = pd.read_csv(\"/datasets/megaline_calls.csv\")"
   ]
  },
  {
   "cell_type": "markdown",
   "metadata": {
    "id": "69qqoJ3r0q01"
   },
   "source": [
    "## Preparar los datos"
   ]
  },
  {
   "cell_type": "markdown",
   "metadata": {
    "id": "vUuZw80S0q01"
   },
   "source": [
    "[Los datos para este proyecto se dividen en varias tablas. Explora cada una para tener una comprensión inicial de los datos. Si es necesario, haz las correcciones requeridas en cada tabla.]"
   ]
  },
  {
   "cell_type": "code",
   "execution_count": 21,
   "metadata": {
    "trusted": true
   },
   "outputs": [
    {
     "name": "stdout",
     "output_type": "stream",
     "text": [
      "Users:\n",
      "<class 'pandas.core.frame.DataFrame'>\n",
      "RangeIndex: 500 entries, 0 to 499\n",
      "Data columns (total 8 columns):\n",
      " #   Column      Non-Null Count  Dtype \n",
      "---  ------      --------------  ----- \n",
      " 0   user_id     500 non-null    int64 \n",
      " 1   first_name  500 non-null    object\n",
      " 2   last_name   500 non-null    object\n",
      " 3   age         500 non-null    int64 \n",
      " 4   city        500 non-null    object\n",
      " 5   reg_date    500 non-null    object\n",
      " 6   plan        500 non-null    object\n",
      " 7   churn_date  34 non-null     object\n",
      "dtypes: int64(2), object(6)\n",
      "memory usage: 31.4+ KB\n",
      "\n",
      "Plans:\n",
      "<class 'pandas.core.frame.DataFrame'>\n",
      "RangeIndex: 2 entries, 0 to 1\n",
      "Data columns (total 8 columns):\n",
      " #   Column                 Non-Null Count  Dtype  \n",
      "---  ------                 --------------  -----  \n",
      " 0   messages_included      2 non-null      int64  \n",
      " 1   mb_per_month_included  2 non-null      int64  \n",
      " 2   minutes_included       2 non-null      int64  \n",
      " 3   usd_monthly_pay        2 non-null      int64  \n",
      " 4   usd_per_gb             2 non-null      int64  \n",
      " 5   usd_per_message        2 non-null      float64\n",
      " 6   usd_per_minute         2 non-null      float64\n",
      " 7   plan_name              2 non-null      object \n",
      "dtypes: float64(2), int64(5), object(1)\n",
      "memory usage: 256.0+ bytes\n",
      "\n",
      "Messages:\n",
      "<class 'pandas.core.frame.DataFrame'>\n",
      "RangeIndex: 76051 entries, 0 to 76050\n",
      "Data columns (total 3 columns):\n",
      " #   Column        Non-Null Count  Dtype \n",
      "---  ------        --------------  ----- \n",
      " 0   id            76051 non-null  object\n",
      " 1   user_id       76051 non-null  int64 \n",
      " 2   message_date  76051 non-null  object\n",
      "dtypes: int64(1), object(2)\n",
      "memory usage: 1.7+ MB\n",
      "\n",
      "Internet:\n",
      "<class 'pandas.core.frame.DataFrame'>\n",
      "RangeIndex: 104825 entries, 0 to 104824\n",
      "Data columns (total 4 columns):\n",
      " #   Column        Non-Null Count   Dtype  \n",
      "---  ------        --------------   -----  \n",
      " 0   id            104825 non-null  object \n",
      " 1   user_id       104825 non-null  int64  \n",
      " 2   session_date  104825 non-null  object \n",
      " 3   mb_used       104825 non-null  float64\n",
      "dtypes: float64(1), int64(1), object(2)\n",
      "memory usage: 3.2+ MB\n",
      "\n",
      "Calls:\n",
      "<class 'pandas.core.frame.DataFrame'>\n",
      "RangeIndex: 137735 entries, 0 to 137734\n",
      "Data columns (total 4 columns):\n",
      " #   Column     Non-Null Count   Dtype  \n",
      "---  ------     --------------   -----  \n",
      " 0   id         137735 non-null  object \n",
      " 1   user_id    137735 non-null  int64  \n",
      " 2   call_date  137735 non-null  object \n",
      " 3   duration   137735 non-null  float64\n",
      "dtypes: float64(1), int64(1), object(2)\n",
      "memory usage: 4.2+ MB\n",
      "\n"
     ]
    }
   ],
   "source": [
    "print(\"Users:\")\n",
    "users.info()\n",
    "print()\n",
    "print(\"Plans:\")\n",
    "plans.info()\n",
    "print()\n",
    "print(\"Messages:\")\n",
    "messages.info()\n",
    "print()\n",
    "print(\"Internet:\")\n",
    "internet.info()\n",
    "print()\n",
    "print(\"Calls:\")\n",
    "calls.info()\n",
    "print()"
   ]
  },
  {
   "cell_type": "markdown",
   "metadata": {
    "id": "ohBhimvH0q01"
   },
   "source": [
    "## Tarifas"
   ]
  },
  {
   "cell_type": "code",
   "execution_count": 22,
   "metadata": {
    "id": "GptqP3Q40q02",
    "trusted": true
   },
   "outputs": [
    {
     "name": "stdout",
     "output_type": "stream",
     "text": [
      "<class 'pandas.core.frame.DataFrame'>\n",
      "RangeIndex: 2 entries, 0 to 1\n",
      "Data columns (total 8 columns):\n",
      " #   Column                 Non-Null Count  Dtype  \n",
      "---  ------                 --------------  -----  \n",
      " 0   messages_included      2 non-null      int64  \n",
      " 1   mb_per_month_included  2 non-null      int64  \n",
      " 2   minutes_included       2 non-null      int64  \n",
      " 3   usd_monthly_pay        2 non-null      int64  \n",
      " 4   usd_per_gb             2 non-null      int64  \n",
      " 5   usd_per_message        2 non-null      float64\n",
      " 6   usd_per_minute         2 non-null      float64\n",
      " 7   plan_name              2 non-null      object \n",
      "dtypes: float64(2), int64(5), object(1)\n",
      "memory usage: 256.0+ bytes\n"
     ]
    }
   ],
   "source": [
    "# Imprime la información general/resumida sobre el DataFrame de las tarifas\n",
    "plans.info()"
   ]
  },
  {
   "cell_type": "code",
   "execution_count": 23,
   "metadata": {
    "id": "64xzjwL70q02",
    "trusted": true
   },
   "outputs": [
    {
     "name": "stdout",
     "output_type": "stream",
     "text": [
      "   messages_included  mb_per_month_included  minutes_included  \\\n",
      "0                 50                  15360               500   \n",
      "1               1000                  30720              3000   \n",
      "\n",
      "   usd_monthly_pay  usd_per_gb  usd_per_message  usd_per_minute plan_name  \n",
      "0               20          10             0.03            0.03      surf  \n",
      "1               70           7             0.01            0.01  ultimate  \n"
     ]
    }
   ],
   "source": [
    "# Imprime una muestra de los datos para las tarifas\n",
    "print(plans)"
   ]
  },
  {
   "cell_type": "markdown",
   "metadata": {
    "id": "mEc_3_hs0q02"
   },
   "source": [
    "[Describe lo que ves y observas en la información general y en la muestra de datos impresa para el precio de datos anterior. ¿Hay algún problema (tipos de datos no adecuados, datos ausentes, etc.) que pudieran necesitar investigación y cambios adicionales? ¿Cómo se puede arreglar?]"
   ]
  },
  {
   "cell_type": "markdown",
   "metadata": {},
   "source": [
    "*Podemos ver que en la tabla \"Plans\", la columna 2 'mb_per_month_included', está en MB pero la empresa cobra en GB. Los datos se convertiran a GB. Asi tambien, para facilitar nuestros análisis, utilizaremos la columna 'plan_name' como índice.*"
   ]
  },
  {
   "cell_type": "markdown",
   "metadata": {
    "id": "R3C05i1l0q03"
   },
   "source": [
    "## Corregir datos"
   ]
  },
  {
   "cell_type": "markdown",
   "metadata": {
    "id": "bIi8StZI0q03"
   },
   "source": [
    "[Corrige los problemas obvios con los datos basándote en las observaciones iniciales.]"
   ]
  },
  {
   "cell_type": "code",
   "execution_count": 24,
   "metadata": {
    "id": "Y7SVmjGn0q03",
    "trusted": true
   },
   "outputs": [
    {
     "name": "stdout",
     "output_type": "stream",
     "text": [
      "<class 'pandas.core.frame.DataFrame'>\n",
      "RangeIndex: 2 entries, 0 to 1\n",
      "Data columns (total 9 columns):\n",
      " #   Column                 Non-Null Count  Dtype  \n",
      "---  ------                 --------------  -----  \n",
      " 0   messages_included      2 non-null      int64  \n",
      " 1   mb_per_month_included  2 non-null      int64  \n",
      " 2   minutes_included       2 non-null      int64  \n",
      " 3   usd_monthly_pay        2 non-null      int64  \n",
      " 4   usd_per_gb             2 non-null      int64  \n",
      " 5   usd_per_message        2 non-null      float64\n",
      " 6   usd_per_minute         2 non-null      float64\n",
      " 7   plan_name              2 non-null      object \n",
      " 8   gb_per_month_included  2 non-null      float64\n",
      "dtypes: float64(3), int64(5), object(1)\n",
      "memory usage: 272.0+ bytes\n",
      "   messages_included  mb_per_month_included  minutes_included  \\\n",
      "0                 50                  15360               500   \n",
      "1               1000                  30720              3000   \n",
      "\n",
      "   usd_monthly_pay  usd_per_gb  usd_per_message  usd_per_minute plan_name  \\\n",
      "0               20          10             0.03            0.03      surf   \n",
      "1               70           7             0.01            0.01  ultimate   \n",
      "\n",
      "   gb_per_month_included  \n",
      "0                   15.0  \n",
      "1                   30.0  \n"
     ]
    }
   ],
   "source": [
    "# Convertir MB a GB (redondeo hacia arriba porque la empresa cobra GB completos)\n",
    "plans[\"gb_per_month_included\"] = np.ceil(plans[\"mb_per_month_included\"] / 1024)\n",
    "\n",
    "# Recalcular el costo por GB\n",
    "#plans[\"calculated_usd_per_gb\"] = plans[\"usd_monthly_pay\"] / plans[\"gb_per_month_included\"]\n",
    "\n",
    "# Comparar los valores calculados con los originales\n",
    "#print(plans[[\"plan_name\", \"usd_per_gb\", \"calculated_usd_per_gb\"]])\n",
    "\n",
    "\n",
    "#plans = plans.set_index(\"plan_name\")\n",
    "plans.info()\n",
    "print(plans)"
   ]
  },
  {
   "cell_type": "markdown",
   "metadata": {},
   "source": [
    "Para facilitar la lectura de los datos, fijamos los nombres de los planes como índice."
   ]
  },
  {
   "cell_type": "markdown",
   "metadata": {
    "id": "LJir7bml0q03"
   },
   "source": [
    "## Enriquecer los datos"
   ]
  },
  {
   "cell_type": "markdown",
   "metadata": {
    "id": "eqADpCfg0q04"
   },
   "source": [
    "[Agrega factores adicionales a los datos si crees que pudieran ser útiles.]"
   ]
  },
  {
   "cell_type": "code",
   "execution_count": 25,
   "metadata": {
    "id": "gfcIEuXV0q04",
    "trusted": true
   },
   "outputs": [
    {
     "name": "stdout",
     "output_type": "stream",
     "text": [
      "0    1.333333\n",
      "1    2.333333\n",
      "dtype: float64\n",
      "\n",
      "0    8.666667\n",
      "1    4.666667\n",
      "dtype: float64\n",
      "\n",
      "   messages_included  mb_per_month_included  minutes_included  \\\n",
      "0                 50                  15360               500   \n",
      "1               1000                  30720              3000   \n",
      "\n",
      "   usd_monthly_pay  usd_per_gb  usd_per_message  usd_per_minute plan_name  \\\n",
      "0               20          10             0.03            0.03      surf   \n",
      "1               70           7             0.01            0.01  ultimate   \n",
      "\n",
      "   gb_per_month_included  \n",
      "0                   15.0  \n",
      "1                   30.0  \n"
     ]
    }
   ],
   "source": [
    "calculated_usd_per_gb = plans[\"usd_monthly_pay\"] / plans[\"gb_per_month_included\"]\n",
    "print(calculated_usd_per_gb)\n",
    "print()\n",
    "difference = plans[\"usd_per_gb\"] - calculated_usd_per_gb\n",
    "print(difference)\n",
    "print()\n",
    "print(plans.head())"
   ]
  },
  {
   "cell_type": "markdown",
   "metadata": {},
   "source": [
    "Basados en los cálculos que hemos hecho, podemos ver que el costo de dólares por GB fue asignado de una manera específica. Por cuestiones de realizar el ejercicio, se decide continuar con los precios fijados por la empresa.\n",
    "\n",
    "Pero sería interesante descubrir en base a que fijan los precios."
   ]
  },
  {
   "cell_type": "markdown",
   "metadata": {
    "id": "1n2X6WXf0q04"
   },
   "source": [
    "## Usuarios/as"
   ]
  },
  {
   "cell_type": "code",
   "execution_count": 26,
   "metadata": {
    "id": "2NgjWFqx0q05",
    "trusted": true
   },
   "outputs": [
    {
     "name": "stdout",
     "output_type": "stream",
     "text": [
      "<class 'pandas.core.frame.DataFrame'>\n",
      "RangeIndex: 500 entries, 0 to 499\n",
      "Data columns (total 8 columns):\n",
      " #   Column      Non-Null Count  Dtype \n",
      "---  ------      --------------  ----- \n",
      " 0   user_id     500 non-null    int64 \n",
      " 1   first_name  500 non-null    object\n",
      " 2   last_name   500 non-null    object\n",
      " 3   age         500 non-null    int64 \n",
      " 4   city        500 non-null    object\n",
      " 5   reg_date    500 non-null    object\n",
      " 6   plan        500 non-null    object\n",
      " 7   churn_date  34 non-null     object\n",
      "dtypes: int64(2), object(6)\n",
      "memory usage: 31.4+ KB\n"
     ]
    }
   ],
   "source": [
    "# Imprime la información general/resumida sobre el DataFrame de usuarios\n",
    "\n",
    "users.info()"
   ]
  },
  {
   "cell_type": "code",
   "execution_count": 27,
   "metadata": {
    "id": "1IN1L9uh0q05",
    "trusted": true
   },
   "outputs": [
    {
     "data": {
      "text/html": [
       "<div>\n",
       "<style scoped>\n",
       "    .dataframe tbody tr th:only-of-type {\n",
       "        vertical-align: middle;\n",
       "    }\n",
       "\n",
       "    .dataframe tbody tr th {\n",
       "        vertical-align: top;\n",
       "    }\n",
       "\n",
       "    .dataframe thead th {\n",
       "        text-align: right;\n",
       "    }\n",
       "</style>\n",
       "<table border=\"1\" class=\"dataframe\">\n",
       "  <thead>\n",
       "    <tr style=\"text-align: right;\">\n",
       "      <th></th>\n",
       "      <th>user_id</th>\n",
       "      <th>first_name</th>\n",
       "      <th>last_name</th>\n",
       "      <th>age</th>\n",
       "      <th>city</th>\n",
       "      <th>reg_date</th>\n",
       "      <th>plan</th>\n",
       "      <th>churn_date</th>\n",
       "    </tr>\n",
       "  </thead>\n",
       "  <tbody>\n",
       "    <tr>\n",
       "      <th>99</th>\n",
       "      <td>1099</td>\n",
       "      <td>Shavon</td>\n",
       "      <td>Banks</td>\n",
       "      <td>48</td>\n",
       "      <td>New York-Newark-Jersey City, NY-NJ-PA MSA</td>\n",
       "      <td>2018-02-26</td>\n",
       "      <td>surf</td>\n",
       "      <td>NaN</td>\n",
       "    </tr>\n",
       "    <tr>\n",
       "      <th>122</th>\n",
       "      <td>1122</td>\n",
       "      <td>Lashay</td>\n",
       "      <td>Reese</td>\n",
       "      <td>57</td>\n",
       "      <td>Miami-Fort Lauderdale-West Palm Beach, FL MSA</td>\n",
       "      <td>2018-03-04</td>\n",
       "      <td>surf</td>\n",
       "      <td>NaN</td>\n",
       "    </tr>\n",
       "    <tr>\n",
       "      <th>419</th>\n",
       "      <td>1419</td>\n",
       "      <td>Bryon</td>\n",
       "      <td>Gordon</td>\n",
       "      <td>45</td>\n",
       "      <td>Phoenix-Mesa-Chandler, AZ MSA</td>\n",
       "      <td>2018-03-29</td>\n",
       "      <td>surf</td>\n",
       "      <td>NaN</td>\n",
       "    </tr>\n",
       "    <tr>\n",
       "      <th>20</th>\n",
       "      <td>1020</td>\n",
       "      <td>Rutha</td>\n",
       "      <td>Bell</td>\n",
       "      <td>56</td>\n",
       "      <td>Dallas-Fort Worth-Arlington, TX MSA</td>\n",
       "      <td>2018-11-08</td>\n",
       "      <td>surf</td>\n",
       "      <td>NaN</td>\n",
       "    </tr>\n",
       "    <tr>\n",
       "      <th>490</th>\n",
       "      <td>1490</td>\n",
       "      <td>Shane</td>\n",
       "      <td>Cortez</td>\n",
       "      <td>42</td>\n",
       "      <td>Sacramento–Roseville–Folsom, CA MSA</td>\n",
       "      <td>2018-01-20</td>\n",
       "      <td>ultimate</td>\n",
       "      <td>NaN</td>\n",
       "    </tr>\n",
       "    <tr>\n",
       "      <th>182</th>\n",
       "      <td>1182</td>\n",
       "      <td>Jeff</td>\n",
       "      <td>Burt</td>\n",
       "      <td>39</td>\n",
       "      <td>Charlotte-Concord-Gastonia, NC-SC MSA</td>\n",
       "      <td>2018-05-29</td>\n",
       "      <td>surf</td>\n",
       "      <td>NaN</td>\n",
       "    </tr>\n",
       "    <tr>\n",
       "      <th>192</th>\n",
       "      <td>1192</td>\n",
       "      <td>Korey</td>\n",
       "      <td>Goodwin</td>\n",
       "      <td>36</td>\n",
       "      <td>Buffalo-Cheektowaga, NY MSA</td>\n",
       "      <td>2018-10-02</td>\n",
       "      <td>surf</td>\n",
       "      <td>NaN</td>\n",
       "    </tr>\n",
       "    <tr>\n",
       "      <th>475</th>\n",
       "      <td>1475</td>\n",
       "      <td>Arlen</td>\n",
       "      <td>Sutton</td>\n",
       "      <td>66</td>\n",
       "      <td>Dallas-Fort Worth-Arlington, TX MSA</td>\n",
       "      <td>2018-05-28</td>\n",
       "      <td>ultimate</td>\n",
       "      <td>NaN</td>\n",
       "    </tr>\n",
       "    <tr>\n",
       "      <th>241</th>\n",
       "      <td>1241</td>\n",
       "      <td>Lala</td>\n",
       "      <td>Walls</td>\n",
       "      <td>24</td>\n",
       "      <td>Richmond, VA MSA</td>\n",
       "      <td>2018-08-27</td>\n",
       "      <td>surf</td>\n",
       "      <td>NaN</td>\n",
       "    </tr>\n",
       "    <tr>\n",
       "      <th>314</th>\n",
       "      <td>1314</td>\n",
       "      <td>Brice</td>\n",
       "      <td>Morgan</td>\n",
       "      <td>35</td>\n",
       "      <td>Los Angeles-Long Beach-Anaheim, CA MSA</td>\n",
       "      <td>2018-03-06</td>\n",
       "      <td>ultimate</td>\n",
       "      <td>NaN</td>\n",
       "    </tr>\n",
       "  </tbody>\n",
       "</table>\n",
       "</div>"
      ],
      "text/plain": [
       "     user_id first_name last_name  age  \\\n",
       "99      1099     Shavon     Banks   48   \n",
       "122     1122     Lashay     Reese   57   \n",
       "419     1419      Bryon    Gordon   45   \n",
       "20      1020      Rutha      Bell   56   \n",
       "490     1490      Shane    Cortez   42   \n",
       "182     1182       Jeff      Burt   39   \n",
       "192     1192      Korey   Goodwin   36   \n",
       "475     1475      Arlen    Sutton   66   \n",
       "241     1241       Lala     Walls   24   \n",
       "314     1314      Brice    Morgan   35   \n",
       "\n",
       "                                              city    reg_date      plan  \\\n",
       "99       New York-Newark-Jersey City, NY-NJ-PA MSA  2018-02-26      surf   \n",
       "122  Miami-Fort Lauderdale-West Palm Beach, FL MSA  2018-03-04      surf   \n",
       "419                  Phoenix-Mesa-Chandler, AZ MSA  2018-03-29      surf   \n",
       "20             Dallas-Fort Worth-Arlington, TX MSA  2018-11-08      surf   \n",
       "490            Sacramento–Roseville–Folsom, CA MSA  2018-01-20  ultimate   \n",
       "182          Charlotte-Concord-Gastonia, NC-SC MSA  2018-05-29      surf   \n",
       "192                    Buffalo-Cheektowaga, NY MSA  2018-10-02      surf   \n",
       "475            Dallas-Fort Worth-Arlington, TX MSA  2018-05-28  ultimate   \n",
       "241                               Richmond, VA MSA  2018-08-27      surf   \n",
       "314         Los Angeles-Long Beach-Anaheim, CA MSA  2018-03-06  ultimate   \n",
       "\n",
       "    churn_date  \n",
       "99         NaN  \n",
       "122        NaN  \n",
       "419        NaN  \n",
       "20         NaN  \n",
       "490        NaN  \n",
       "182        NaN  \n",
       "192        NaN  \n",
       "475        NaN  \n",
       "241        NaN  \n",
       "314        NaN  "
      ]
     },
     "execution_count": 27,
     "metadata": {},
     "output_type": "execute_result"
    }
   ],
   "source": [
    "# Imprime una muestra de datos para usuarios\n",
    "users.sample(10)\n"
   ]
  },
  {
   "cell_type": "markdown",
   "metadata": {
    "id": "dCZoUq4f0q06"
   },
   "source": [
    "[Describe lo que ves y observas en la información general y en la muestra de datos impresa para el precio de datos anterior. ¿Hay algún problema (tipos de datos no adecuados, datos ausentes, etc.) que pudieran necesitar investigación y cambios adicionales? ¿Cómo se puede arreglar?]"
   ]
  },
  {
   "cell_type": "markdown",
   "metadata": {
    "id": "BX5FQh_I0q06"
   },
   "source": [
    "### Corregir los datos"
   ]
  },
  {
   "cell_type": "markdown",
   "metadata": {
    "id": "8OdKMwJv0q06"
   },
   "source": [
    "[Corrige los problemas obvios con los datos basándote en las observaciones iniciales.]"
   ]
  },
  {
   "cell_type": "code",
   "execution_count": 28,
   "metadata": {
    "id": "yUqX-K0C0q07",
    "trusted": true
   },
   "outputs": [
    {
     "name": "stdout",
     "output_type": "stream",
     "text": [
      "<class 'pandas.core.frame.DataFrame'>\n",
      "RangeIndex: 500 entries, 0 to 499\n",
      "Data columns (total 8 columns):\n",
      " #   Column      Non-Null Count  Dtype         \n",
      "---  ------      --------------  -----         \n",
      " 0   user_id     500 non-null    int64         \n",
      " 1   first_name  500 non-null    object        \n",
      " 2   last_name   500 non-null    object        \n",
      " 3   age         500 non-null    int64         \n",
      " 4   city        500 non-null    object        \n",
      " 5   reg_date    500 non-null    datetime64[ns]\n",
      " 6   plan        500 non-null    object        \n",
      " 7   churn_date  34 non-null     datetime64[ns]\n",
      "dtypes: datetime64[ns](2), int64(2), object(4)\n",
      "memory usage: 31.4+ KB\n"
     ]
    }
   ],
   "source": [
    "users[\"reg_date\"] = pd.to_datetime(users[\"reg_date\"],format='%Y-%m-%d')\n",
    "users[\"churn_date\"] = pd.to_datetime(users[\"churn_date\"],format='%Y-%m-%d')\n",
    "users.info()"
   ]
  },
  {
   "cell_type": "markdown",
   "metadata": {
    "id": "ycwuARJp0q07"
   },
   "source": [
    "### Enriquecer los datos"
   ]
  },
  {
   "cell_type": "markdown",
   "metadata": {
    "id": "96NIh4CJ0q08"
   },
   "source": [
    "[Agrega factores adicionales a los datos si crees que pudieran ser útiles.]"
   ]
  },
  {
   "cell_type": "code",
   "execution_count": 29,
   "metadata": {
    "id": "iq0AaBS90q08",
    "trusted": true
   },
   "outputs": [
    {
     "name": "stdout",
     "output_type": "stream",
     "text": [
      "   user_id first_name  last_name  age                                   city  \\\n",
      "0     1000   Anamaria      Bauer   45  Atlanta-Sandy Springs-Roswell, GA MSA   \n",
      "1     1001     Mickey  Wilkerson   28        Seattle-Tacoma-Bellevue, WA MSA   \n",
      "2     1002     Carlee    Hoffman   36   Las Vegas-Henderson-Paradise, NV MSA   \n",
      "3     1003   Reynaldo    Jenkins   52                          Tulsa, OK MSA   \n",
      "4     1004    Leonila   Thompson   40        Seattle-Tacoma-Bellevue, WA MSA   \n",
      "\n",
      "    reg_date      plan churn_date     status  \n",
      "0 2018-12-24  ultimate        NaT  continues  \n",
      "1 2018-08-13      surf        NaT  continues  \n",
      "2 2018-10-21      surf        NaT  continues  \n",
      "3 2018-01-28      surf        NaT  continues  \n",
      "4 2018-05-23      surf        NaT  continues  \n"
     ]
    }
   ],
   "source": [
    "#print(users.duplicated().sum())\n",
    "\n",
    "status_list = []\n",
    "for value in users[\"churn_date\"]:\n",
    "    if pd.isna(value):\n",
    "        status_list.append(\"continues\")\n",
    "    else:\n",
    "        status_list.append(\"finished\")\n",
    "\n",
    "#print(status_list)\n",
    "users[\"status\"] = status_list\n",
    "print(users.head())"
   ]
  },
  {
   "cell_type": "markdown",
   "metadata": {},
   "source": [
    "Aquí hemos:\n",
    "\n",
    "* Cambiado reg_date y churn_date a datetime (en el momento de los cálculos, será más fácil)\n",
    "* Revisado si existían duplicados (el resultado salió cero)\n",
    "* Los espacios en blanco en churn_date, para evitar alteraciones en los cálculos, se dejaron en blanco. Es por eso que se agregó una nueva columna (status), para saber si el usuario sigue o ya finalizó su plan."
   ]
  },
  {
   "cell_type": "markdown",
   "metadata": {
    "id": "o7MeKCid0q08"
   },
   "source": [
    "## Llamadas"
   ]
  },
  {
   "cell_type": "code",
   "execution_count": 30,
   "metadata": {
    "id": "6dDlnoDm0q08",
    "trusted": true
   },
   "outputs": [
    {
     "name": "stdout",
     "output_type": "stream",
     "text": [
      "<class 'pandas.core.frame.DataFrame'>\n",
      "RangeIndex: 137735 entries, 0 to 137734\n",
      "Data columns (total 4 columns):\n",
      " #   Column     Non-Null Count   Dtype  \n",
      "---  ------     --------------   -----  \n",
      " 0   id         137735 non-null  object \n",
      " 1   user_id    137735 non-null  int64  \n",
      " 2   call_date  137735 non-null  object \n",
      " 3   duration   137735 non-null  float64\n",
      "dtypes: float64(1), int64(1), object(2)\n",
      "memory usage: 4.2+ MB\n"
     ]
    }
   ],
   "source": [
    "# Imprime la información general/resumida sobre el DataFrame de las llamadas\n",
    "calls.info()\n"
   ]
  },
  {
   "cell_type": "code",
   "execution_count": 31,
   "metadata": {
    "id": "kuh1vlNB0q09",
    "trusted": true
   },
   "outputs": [
    {
     "name": "stdout",
     "output_type": "stream",
     "text": [
      "              id  user_id   call_date  duration\n",
      "25839   1099_159     1099  2018-05-16     16.09\n",
      "49582   1179_241     1179  2018-10-26      0.27\n",
      "133911   1487_20     1487  2018-12-18      0.00\n",
      "19512   1073_380     1073  2018-12-04      3.10\n",
      "88267   1324_315     1324  2018-09-28     11.51\n",
      "64857   1236_125     1236  2018-10-07     17.36\n",
      "133868  1486_216     1486  2018-12-11      7.42\n",
      "60080    1216_65     1216  2018-12-20      0.00\n",
      "41450    1153_88     1153  2018-07-09      6.83\n",
      "87502   1321_134     1321  2018-06-23     16.19\n",
      "\n",
      "137254\n",
      "137384\n",
      "\n",
      "count    137735.000000\n",
      "mean          6.745927\n",
      "std           5.839241\n",
      "min           0.000000\n",
      "25%           1.290000\n",
      "50%           5.980000\n",
      "75%          10.690000\n",
      "max          37.600000\n",
      "Name: duration, dtype: float64\n",
      "\n",
      "Empty DataFrame\n",
      "Columns: [id, user_id, call_date, duration]\n",
      "Index: []\n"
     ]
    }
   ],
   "source": [
    "# Imprime una muestra de datos para las llamadas\n",
    "\n",
    "print(calls.sample(10))\n",
    "print()\n",
    "print(calls[\"user_id\"].duplicated().sum())\n",
    "print(calls[\"call_date\"].duplicated().sum())\n",
    "print()\n",
    "print(calls[\"duration\"].describe())\n",
    "print()\n",
    "print(calls[calls[\"duration\"]<0])\n"
   ]
  },
  {
   "cell_type": "markdown",
   "metadata": {
    "id": "DOAxYJSx0q09"
   },
   "source": [
    "[Describe lo que ves y observas en la información general y en la muestra de datos impresa para el precio de datos anterior. ¿Hay algún problema (tipos de datos no adecuados, datos ausentes, etc.) que pudieran necesitar investigación y cambios adicionales? ¿Cómo se puede arreglar?]"
   ]
  },
  {
   "cell_type": "markdown",
   "metadata": {},
   "source": [
    "Podemos ver que:\n",
    "\n",
    "* el tipo de dato de la fecha es object, lo vamos a cambiar a datetime\n",
    "* no hay duplicados, los que vemos ahí pueden significar únicamente que el mismo user_id hizo más de una llamada el mismo día\n",
    "* la duración mínima de una llamada es de 0.0 (verificamos si hay valores negativos y no hay).\n",
    "* la duración máxima de una llamada puede ser der 37 minutos. No es un valor atípico.\n",
    "* Para facilitar análisis, podemos dividir la columna de fechas en mes, día, y año."
   ]
  },
  {
   "cell_type": "markdown",
   "metadata": {
    "id": "S7hzxmbX0q0-"
   },
   "source": [
    "### Corregir los datos"
   ]
  },
  {
   "cell_type": "markdown",
   "metadata": {
    "id": "YxWyAjD20q0-"
   },
   "source": [
    "[Corrige los problemas obvios con los datos basándote en las observaciones iniciales.]"
   ]
  },
  {
   "cell_type": "code",
   "execution_count": 32,
   "metadata": {
    "id": "S2r8xA4f0q0-",
    "trusted": true
   },
   "outputs": [
    {
     "name": "stdout",
     "output_type": "stream",
     "text": [
      "<class 'pandas.core.frame.DataFrame'>\n",
      "RangeIndex: 137735 entries, 0 to 137734\n",
      "Data columns (total 4 columns):\n",
      " #   Column     Non-Null Count   Dtype         \n",
      "---  ------     --------------   -----         \n",
      " 0   id         137735 non-null  object        \n",
      " 1   user_id    137735 non-null  int64         \n",
      " 2   call_date  137735 non-null  datetime64[ns]\n",
      " 3   duration   137735 non-null  float64       \n",
      "dtypes: datetime64[ns](1), float64(1), int64(1), object(1)\n",
      "memory usage: 4.2+ MB\n"
     ]
    }
   ],
   "source": [
    "calls[\"call_date\"]=pd.to_datetime(calls[\"call_date\"])\n",
    "calls.info()"
   ]
  },
  {
   "cell_type": "markdown",
   "metadata": {
    "id": "KrMgTrlG0q0_"
   },
   "source": [
    "### Enriquecer los datos"
   ]
  },
  {
   "cell_type": "markdown",
   "metadata": {
    "id": "a9MbmEvE0q0_"
   },
   "source": [
    "[Agrega factores adicionales a los datos si crees que pudieran ser útiles.]"
   ]
  },
  {
   "cell_type": "code",
   "execution_count": 33,
   "metadata": {
    "id": "iZ1avpA_0q0_",
    "trusted": true
   },
   "outputs": [
    {
     "name": "stdout",
     "output_type": "stream",
     "text": [
      "         id  user_id  call_date  duration  year  month  day   weekday\n",
      "0   1000_93     1000 2018-12-27      8.52  2018     12   27  Thursday\n",
      "1  1000_145     1000 2018-12-27     13.66  2018     12   27  Thursday\n",
      "2  1000_247     1000 2018-12-27     14.48  2018     12   27  Thursday\n",
      "3  1000_309     1000 2018-12-28      5.76  2018     12   28    Friday\n",
      "4  1000_380     1000 2018-12-30      4.22  2018     12   30    Sunday\n"
     ]
    }
   ],
   "source": [
    "calls['year']=calls['call_date'].dt.year\n",
    "calls['month']=calls['call_date'].dt.month\n",
    "calls['day'] = calls['call_date'].dt.day\n",
    "calls['weekday']=calls['call_date'].dt.day_name()\n",
    "\n",
    "print(calls.head())"
   ]
  },
  {
   "cell_type": "markdown",
   "metadata": {
    "id": "mOUZSi180q0_"
   },
   "source": [
    "## Mensajes"
   ]
  },
  {
   "cell_type": "code",
   "execution_count": 34,
   "metadata": {
    "id": "R-bYJpdV0q1A",
    "scrolled": true,
    "trusted": true
   },
   "outputs": [
    {
     "name": "stdout",
     "output_type": "stream",
     "text": [
      "<class 'pandas.core.frame.DataFrame'>\n",
      "RangeIndex: 76051 entries, 0 to 76050\n",
      "Data columns (total 3 columns):\n",
      " #   Column        Non-Null Count  Dtype \n",
      "---  ------        --------------  ----- \n",
      " 0   id            76051 non-null  object\n",
      " 1   user_id       76051 non-null  int64 \n",
      " 2   message_date  76051 non-null  object\n",
      "dtypes: int64(1), object(2)\n",
      "memory usage: 1.7+ MB\n"
     ]
    }
   ],
   "source": [
    "# Imprime la información general/resumida sobre el DataFrame de los mensajes\n",
    "\n",
    "messages.info()"
   ]
  },
  {
   "cell_type": "code",
   "execution_count": 35,
   "metadata": {
    "id": "mCEl2iGE0q1A",
    "trusted": true
   },
   "outputs": [
    {
     "name": "stdout",
     "output_type": "stream",
     "text": [
      "             id  user_id message_date\n",
      "60052  1381_165     1381   2018-12-21\n",
      "69672   1454_34     1454   2018-09-27\n",
      "50978  1331_153     1331   2018-12-11\n",
      "36024   1237_45     1237   2018-10-29\n",
      "18963   1123_32     1123   2018-12-21\n",
      "61828  1385_292     1385   2018-07-15\n",
      "10354  1076_805     1076   2018-11-16\n",
      "21354  1132_657     1132   2018-10-01\n",
      "49801  1328_759     1328   2018-09-25\n",
      "4742   1044_112     1044   2018-09-22\n",
      "\n",
      "0\n",
      "75649\n"
     ]
    }
   ],
   "source": [
    "# Imprime una muestra de datos para los mensajes\n",
    "print(messages.sample(10))\n",
    "print()\n",
    "print(messages.duplicated().sum())\n",
    "print(messages['user_id'].duplicated().sum())"
   ]
  },
  {
   "cell_type": "markdown",
   "metadata": {
    "id": "04xDj7KH0q1A"
   },
   "source": [
    "[Describe lo que ves y observas en la información general y en la muestra de datos impresa para el precio de datos anterior. ¿Hay algún problema (tipos de datos no adecuados, datos ausentes, etc.) que pudieran necesitar investigación y cambios adicionales? ¿Cómo se puede arreglar?]"
   ]
  },
  {
   "cell_type": "markdown",
   "metadata": {},
   "source": [
    "Podemos ver\n",
    "\n",
    "* la fecha tiene tipo object, lo cambiaremos a datetime\n",
    "* no hay duplicados ni espacios en blanco\n",
    "* para facilitar calculos, separaremos dia, mes, año\n",
    "* podemos calcular la cantidad de mensajes que manda cada usuario"
   ]
  },
  {
   "cell_type": "markdown",
   "metadata": {
    "id": "Sprfak900q1B"
   },
   "source": [
    "### Corregir los datos"
   ]
  },
  {
   "cell_type": "markdown",
   "metadata": {
    "id": "eGw7d9j10q1B"
   },
   "source": [
    "[Corrige los problemas obvios con los datos basándote en las observaciones iniciales.]"
   ]
  },
  {
   "cell_type": "code",
   "execution_count": 36,
   "metadata": {
    "id": "vsllvkoa0q1B",
    "trusted": true
   },
   "outputs": [
    {
     "name": "stdout",
     "output_type": "stream",
     "text": [
      "<class 'pandas.core.frame.DataFrame'>\n",
      "RangeIndex: 76051 entries, 0 to 76050\n",
      "Data columns (total 3 columns):\n",
      " #   Column        Non-Null Count  Dtype         \n",
      "---  ------        --------------  -----         \n",
      " 0   id            76051 non-null  object        \n",
      " 1   user_id       76051 non-null  int64         \n",
      " 2   message_date  76051 non-null  datetime64[ns]\n",
      "dtypes: datetime64[ns](1), int64(1), object(1)\n",
      "memory usage: 1.7+ MB\n"
     ]
    }
   ],
   "source": [
    "messages['message_date']= pd.to_datetime(messages['message_date'])\n",
    "messages.info()"
   ]
  },
  {
   "cell_type": "markdown",
   "metadata": {
    "id": "HvLid7iD0q1B"
   },
   "source": [
    "### Enriquecer los datos"
   ]
  },
  {
   "cell_type": "markdown",
   "metadata": {
    "id": "8nhPFKIe0q1C"
   },
   "source": [
    "[Agrega factores adicionales a los datos si crees que pudieran ser útiles.]"
   ]
  },
  {
   "cell_type": "code",
   "execution_count": 37,
   "metadata": {
    "id": "zYEXZac10q1C",
    "trusted": true
   },
   "outputs": [
    {
     "name": "stdout",
     "output_type": "stream",
     "text": [
      "\n",
      "0        1000\n",
      "1        1000\n",
      "2        1000\n",
      "3        1000\n",
      "4        1000\n",
      "         ... \n",
      "76046    1497\n",
      "76047    1497\n",
      "76048    1497\n",
      "76049    1497\n",
      "76050    1497\n",
      "Name: user_id, Length: 76051, dtype: int64 1132    1288\n",
      "1328    1233\n",
      "1324    1175\n",
      "1470    1056\n",
      "1077     804\n",
      "        ... \n",
      "1481       3\n",
      "1477       3\n",
      "1161       2\n",
      "1323       1\n",
      "1479       1\n",
      "Name: user_id, Length: 402, dtype: int64\n"
     ]
    }
   ],
   "source": [
    "messages['year']=messages['message_date'].dt.year\n",
    "messages['month']=messages['message_date'].dt.month\n",
    "messages['day']=messages['message_date'].dt.day\n",
    "messages['day']=messages['message_date'].dt.day_name()\n",
    "\n",
    "#print(messages.sample(10))\n",
    "print()\n",
    "messages_per_user = messages['user_id'].value_counts()\n",
    "print(messages['user_id'],messages_per_user)\n"
   ]
  },
  {
   "cell_type": "markdown",
   "metadata": {
    "id": "bStkaxn40q1C"
   },
   "source": [
    "## Internet"
   ]
  },
  {
   "cell_type": "code",
   "execution_count": 38,
   "metadata": {
    "id": "e-Uz5qyn0q1C",
    "trusted": true
   },
   "outputs": [
    {
     "name": "stdout",
     "output_type": "stream",
     "text": [
      "<class 'pandas.core.frame.DataFrame'>\n",
      "RangeIndex: 104825 entries, 0 to 104824\n",
      "Data columns (total 4 columns):\n",
      " #   Column        Non-Null Count   Dtype  \n",
      "---  ------        --------------   -----  \n",
      " 0   id            104825 non-null  object \n",
      " 1   user_id       104825 non-null  int64  \n",
      " 2   session_date  104825 non-null  object \n",
      " 3   mb_used       104825 non-null  float64\n",
      "dtypes: float64(1), int64(1), object(2)\n",
      "memory usage: 3.2+ MB\n"
     ]
    }
   ],
   "source": [
    "# Imprime la información general/resumida sobre el DataFrame de internet\n",
    "\n",
    "internet.info()"
   ]
  },
  {
   "cell_type": "code",
   "execution_count": 39,
   "metadata": {
    "id": "9r3x_XLw0q1C",
    "trusted": true
   },
   "outputs": [
    {
     "name": "stdout",
     "output_type": "stream",
     "text": [
      "              id  user_id session_date  mb_used\n",
      "2916    1016_128     1016   2018-11-05   346.93\n",
      "3063    1017_103     1017   2018-09-08   409.86\n",
      "61878    1281_84     1281   2018-08-20   148.26\n",
      "62488   1286_489     1286   2018-12-25   501.05\n",
      "38969   1174_232     1174   2018-10-20   690.74\n",
      "43645    1194_63     1194   2018-11-06   353.42\n",
      "79954    1374_30     1374   2018-06-20   172.16\n",
      "8624    1045_208     1045   2018-11-25     0.00\n",
      "101453  1483_268     1483   2018-11-08   107.17\n",
      "92727   1433_111     1433   2018-10-28   870.38\n",
      "0\n",
      "count    104825.000000\n",
      "mean        366.713701\n",
      "std         277.170542\n",
      "min           0.000000\n",
      "25%         136.080000\n",
      "50%         343.980000\n",
      "75%         554.610000\n",
      "max        1693.470000\n",
      "Name: mb_used, dtype: float64\n"
     ]
    }
   ],
   "source": [
    "# Imprime una muestra de datos para el tráfico de internet\n",
    "\n",
    "print(internet.sample(10))\n",
    "print(internet.duplicated().sum())\n",
    "print(internet['mb_used'].describe())"
   ]
  },
  {
   "cell_type": "markdown",
   "metadata": {
    "id": "EzOG5ik30q1D"
   },
   "source": [
    "[Describe lo que ves y observas en la información general y en la muestra de datos impresa para el precio de datos anterior. ¿Hay algún problema (tipos de datos no adecuados, datos ausentes, etc.) que pudieran necesitar investigación y cambios adicionales? ¿Cómo se puede arreglar?]"
   ]
  },
  {
   "cell_type": "markdown",
   "metadata": {},
   "source": [
    "Podemos ver:\n",
    "\n",
    "* No hay duplicados\n",
    "* No hay espacios en blanco\n",
    "* Cambiaremos la fecha a datetime, y sacaremos mes, year y dia\n",
    "* Podriamos agregar una nueva columna, para saber cuanto es en GB (ya que esta en mb)"
   ]
  },
  {
   "cell_type": "markdown",
   "metadata": {
    "id": "yA0tkPFg0q1D"
   },
   "source": [
    "### Corregir los datos"
   ]
  },
  {
   "cell_type": "markdown",
   "metadata": {
    "id": "zlZMuIEK0q1D"
   },
   "source": [
    "[Corrige los problemas obvios con los datos basándote en las observaciones iniciales.]"
   ]
  },
  {
   "cell_type": "code",
   "execution_count": 40,
   "metadata": {
    "id": "zVeanzdd0q1E",
    "trusted": true
   },
   "outputs": [
    {
     "name": "stdout",
     "output_type": "stream",
     "text": [
      "<class 'pandas.core.frame.DataFrame'>\n",
      "RangeIndex: 104825 entries, 0 to 104824\n",
      "Data columns (total 4 columns):\n",
      " #   Column        Non-Null Count   Dtype         \n",
      "---  ------        --------------   -----         \n",
      " 0   id            104825 non-null  object        \n",
      " 1   user_id       104825 non-null  int64         \n",
      " 2   session_date  104825 non-null  datetime64[ns]\n",
      " 3   mb_used       104825 non-null  float64       \n",
      "dtypes: datetime64[ns](1), float64(1), int64(1), object(1)\n",
      "memory usage: 3.2+ MB\n",
      "None\n"
     ]
    }
   ],
   "source": [
    "internet['session_date']=pd.to_datetime(internet['session_date'])\n",
    "print(internet.info())"
   ]
  },
  {
   "cell_type": "markdown",
   "metadata": {
    "id": "e8_mLF4a0q1E"
   },
   "source": [
    "### Enriquecer los datos"
   ]
  },
  {
   "cell_type": "markdown",
   "metadata": {
    "id": "xhNdn2tE0q1E"
   },
   "source": [
    "[Agrega factores adicionales a los datos si crees que pudieran ser útiles.]"
   ]
  },
  {
   "cell_type": "code",
   "execution_count": 41,
   "metadata": {
    "id": "ESiYPIEK0q1E",
    "trusted": true
   },
   "outputs": [
    {
     "name": "stdout",
     "output_type": "stream",
     "text": [
      "             id  user_id session_date  mb_used  year  month  day    weekday  \\\n",
      "57686  1261_135     1261   2018-10-04   459.60  2018     10    4   Thursday   \n",
      "91548   1422_79     1422   2018-12-29   509.16  2018     12   29   Saturday   \n",
      "82070  1384_302     1384   2018-08-12   459.94  2018      8   12     Sunday   \n",
      "5796   1031_476     1031   2018-08-30   370.04  2018      8   30   Thursday   \n",
      "65925  1305_105     1305   2018-12-06   997.73  2018     12    6   Thursday   \n",
      "36655  1164_338     1164   2018-11-28   281.39  2018     11   28  Wednesday   \n",
      "71299  1332_272     1332   2018-10-09   508.15  2018     10    9    Tuesday   \n",
      "95578  1445_226     1445   2018-06-24   218.21  2018      6   24     Sunday   \n",
      "58093  1261_570     1261   2018-11-10   365.67  2018     11   10   Saturday   \n",
      "42947  1191_126     1191   2018-08-26   257.13  2018      8   26     Sunday   \n",
      "\n",
      "        gb_used  \n",
      "57686  0.448828  \n",
      "91548  0.497227  \n",
      "82070  0.449160  \n",
      "5796   0.361367  \n",
      "65925  0.974346  \n",
      "36655  0.274795  \n",
      "71299  0.496240  \n",
      "95578  0.213096  \n",
      "58093  0.357100  \n",
      "42947  0.251104  \n"
     ]
    }
   ],
   "source": [
    "internet['year'] = internet['session_date'].dt.year\n",
    "internet['month'] = internet['session_date'].dt.month\n",
    "internet['day'] = internet['session_date'].dt.day\n",
    "internet['weekday'] = internet['session_date'].dt.day_name()\n",
    "\n",
    "internet['gb_used'] = internet['mb_used']/1024 \n",
    "\n",
    "print(internet.sample(10))"
   ]
  },
  {
   "cell_type": "markdown",
   "metadata": {
    "id": "3UA2cqIW0q1E"
   },
   "source": [
    "## Estudiar las condiciones de las tarifas"
   ]
  },
  {
   "cell_type": "markdown",
   "metadata": {
    "id": "T86Sqltq0q1F"
   },
   "source": [
    "[Es sumamente importante entender cómo funcionan las tarifas, cómo se les cobra a los usuarios en función de su plan de suscripción. Así que te sugerimos imprimir la información de la tarifa para ver una vez más sus condiciones.]"
   ]
  },
  {
   "cell_type": "code",
   "execution_count": 42,
   "metadata": {
    "id": "i409op8p0q1F",
    "trusted": true
   },
   "outputs": [
    {
     "name": "stdout",
     "output_type": "stream",
     "text": [
      "   messages_included  mb_per_month_included  minutes_included  \\\n",
      "0                 50                  15360               500   \n",
      "1               1000                  30720              3000   \n",
      "\n",
      "   usd_monthly_pay  usd_per_gb  usd_per_message  usd_per_minute plan_name  \\\n",
      "0               20          10             0.03            0.03      surf   \n",
      "1               70           7             0.01            0.01  ultimate   \n",
      "\n",
      "   gb_per_month_included  \n",
      "0                   15.0  \n",
      "1                   30.0  \n"
     ]
    }
   ],
   "source": [
    "# Imprime las condiciones de la tarifa y asegúrate de que te quedan claras\n",
    "\n",
    "print(plans)"
   ]
  },
  {
   "cell_type": "markdown",
   "metadata": {
    "id": "hMR1tP5d0q1F"
   },
   "source": [
    "## Agregar datos por usuario\n",
    "\n",
    "[Ahora que los datos están limpios, agrega los datos por usuario y por periodo para que solo haya un registro por usuario y por periodo. Esto facilitará mucho el análisis posterior.]"
   ]
  },
  {
   "cell_type": "code",
   "execution_count": 43,
   "metadata": {
    "id": "A332cedB0q1G",
    "trusted": true
   },
   "outputs": [
    {
     "name": "stdout",
     "output_type": "stream",
     "text": [
      "      user_id  month  num_calls\n",
      "0        1000     12         16\n",
      "1        1001      8         27\n",
      "2        1001      9         49\n",
      "3        1001     10         65\n",
      "4        1001     11         64\n",
      "...       ...    ...        ...\n",
      "2253     1498     12         39\n",
      "2254     1499      9         41\n",
      "2255     1499     10         53\n",
      "2256     1499     11         45\n",
      "2257     1499     12         65\n",
      "\n",
      "[2258 rows x 3 columns]\n"
     ]
    }
   ],
   "source": [
    "# Calcula el número de llamadas hechas por cada usuario al mes. Guarda el resultado.\n",
    "\n",
    "calls_by_user = calls.groupby([\"user_id\",\"month\"])[\"id\"].count().reset_index()\n",
    "calls_by_user.rename(columns={\"user_id\":\"user_id\",\"month\":\"month\",\"id\":\"num_calls\"}, inplace=True)\n",
    "\n",
    "print(calls_by_user)"
   ]
  },
  {
   "cell_type": "code",
   "execution_count": 44,
   "metadata": {
    "trusted": true
   },
   "outputs": [],
   "source": [
    "#pivot_calls = calls.pivot_table(index=['user_id', 'month'],\n",
    "                            #values='duration',  \n",
    "                            #aggfunc=['sum','count']).reset_index()\n",
    "\n",
    "#print(pivot_calls)"
   ]
  },
  {
   "cell_type": "code",
   "execution_count": 45,
   "metadata": {
    "id": "aw2cmuql0q1G",
    "trusted": true
   },
   "outputs": [
    {
     "name": "stdout",
     "output_type": "stream",
     "text": [
      "      user_id  month  total_minutes\n",
      "0        1000     12         116.83\n",
      "1        1001      8         171.14\n",
      "2        1001      9         297.69\n",
      "3        1001     10         374.11\n",
      "4        1001     11         404.59\n",
      "...       ...    ...            ...\n",
      "2253     1498     12         324.77\n",
      "2254     1499      9         330.37\n",
      "2255     1499     10         363.28\n",
      "2256     1499     11         288.56\n",
      "2257     1499     12         468.10\n",
      "\n",
      "[2258 rows x 3 columns]\n"
     ]
    }
   ],
   "source": [
    "# Calcula la cantidad de minutos usados por cada usuario al mes. Guarda el resultado.\n",
    "\n",
    "minutes_per_user = calls.groupby([\"user_id\",\"month\"])[\"duration\"].sum().reset_index()\n",
    "minutes_per_user.rename(columns={\"duration\": \"total_minutes\"}, inplace=True)\n",
    "print(minutes_per_user)"
   ]
  },
  {
   "cell_type": "code",
   "execution_count": 46,
   "metadata": {
    "id": "CcQvNHn60q1G",
    "trusted": true
   },
   "outputs": [
    {
     "name": "stdout",
     "output_type": "stream",
     "text": [
      "      user_id  month  num_messages\n",
      "0        1000     12            11\n",
      "1        1001      8            30\n",
      "2        1001      9            44\n",
      "3        1001     10            53\n",
      "4        1001     11            36\n",
      "...       ...    ...           ...\n",
      "1801     1496      9            21\n",
      "1802     1496     10            18\n",
      "1803     1496     11            13\n",
      "1804     1496     12            11\n",
      "1805     1497     12            50\n",
      "\n",
      "[1806 rows x 3 columns]\n"
     ]
    }
   ],
   "source": [
    "# Calcula el número de mensajes enviados por cada usuario al mes. Guarda el resultado.\n",
    "\n",
    "\n",
    "messages_per_user = messages.groupby([\"user_id\", \"month\"])[\"id\"].count().reset_index()\n",
    "messages_per_user.rename(columns={\"id\":\"num_messages\"}, inplace=True)\n",
    "print(messages_per_user)\n"
   ]
  },
  {
   "cell_type": "code",
   "execution_count": 47,
   "metadata": {
    "id": "H1AqN2eG0q1H",
    "trusted": true
   },
   "outputs": [
    {
     "name": "stdout",
     "output_type": "stream",
     "text": [
      "      user_id  month  total_mb_used\n",
      "0        1000     12        1901.47\n",
      "1        1001      8        6919.15\n",
      "2        1001      9       13314.82\n",
      "3        1001     10       22330.49\n",
      "4        1001     11       18504.30\n",
      "...       ...    ...            ...\n",
      "2272     1498     12       23137.69\n",
      "2273     1499      9       12984.76\n",
      "2274     1499     10       19492.43\n",
      "2275     1499     11       16813.83\n",
      "2276     1499     12       22059.21\n",
      "\n",
      "[2277 rows x 3 columns]\n"
     ]
    }
   ],
   "source": [
    "# Calcula el volumen del tráfico de Internet usado por cada usuario al mes. Guarda el resultado.\n",
    "#print(internet.head())\n",
    "\n",
    "mb_used_per_user = internet.groupby([\"user_id\",\"month\"])[\"mb_used\"].sum().reset_index()\n",
    "mb_used_per_user.rename(columns={\"mb_used\":\"total_mb_used\"}, inplace=True)\n",
    "print(mb_used_per_user)"
   ]
  },
  {
   "cell_type": "markdown",
   "metadata": {
    "id": "VDfYXnj80q1H"
   },
   "source": [
    "[Junta los datos agregados en un DataFrame para que haya un registro que represente lo que consumió un usuario único en un mes determinado.]"
   ]
  },
  {
   "cell_type": "code",
   "execution_count": 48,
   "metadata": {
    "id": "FW99ykyf0q1H",
    "trusted": true
   },
   "outputs": [
    {
     "name": "stdout",
     "output_type": "stream",
     "text": [
      "   user_id  month  num_calls  total_minutes  num_messages  total_mb_used\n",
      "0     1000     12       16.0         116.83          11.0        1901.47\n",
      "1     1001      8       27.0         171.14          30.0        6919.15\n",
      "2     1001      9       49.0         297.69          44.0       13314.82\n",
      "3     1001     10       65.0         374.11          53.0       22330.49\n",
      "4     1001     11       64.0         404.59          36.0       18504.30\n"
     ]
    }
   ],
   "source": [
    "# Fusiona los datos de llamadas, minutos, mensajes e Internet con base en user_id y month\n",
    "# Merge calls and minutes\n",
    "calls_data = pd.merge(calls_by_user, minutes_per_user, on=[\"user_id\", \"month\"], how=\"outer\")\n",
    "\n",
    "# Merge with messages\n",
    "calls_messages_data = pd.merge(calls_data, messages_per_user, on=[\"user_id\", \"month\"], how=\"outer\")\n",
    "\n",
    "# Merge with internet data\n",
    "final_data = pd.merge(calls_messages_data, mb_used_per_user, on=[\"user_id\", \"month\"], how=\"outer\")\n",
    "\n",
    "# Check the final merged dataset\n",
    "print(final_data.head())\n",
    "\n"
   ]
  },
  {
   "cell_type": "code",
   "execution_count": 49,
   "metadata": {
    "id": "0dNOXHag0q1H",
    "trusted": true
   },
   "outputs": [
    {
     "name": "stdout",
     "output_type": "stream",
     "text": [
      "      user_id first_name   last_name  age  \\\n",
      "0        1000   Anamaria       Bauer   45   \n",
      "1        1001     Mickey   Wilkerson   28   \n",
      "2        1001     Mickey   Wilkerson   28   \n",
      "3        1001     Mickey   Wilkerson   28   \n",
      "4        1001     Mickey   Wilkerson   28   \n",
      "...       ...        ...         ...  ...   \n",
      "2298     1498       Scot  Williamson   51   \n",
      "2299     1499      Shena     Dickson   37   \n",
      "2300     1499      Shena     Dickson   37   \n",
      "2301     1499      Shena     Dickson   37   \n",
      "2302     1499      Shena     Dickson   37   \n",
      "\n",
      "                                           city   reg_date      plan  \\\n",
      "0         Atlanta-Sandy Springs-Roswell, GA MSA 2018-12-24  ultimate   \n",
      "1               Seattle-Tacoma-Bellevue, WA MSA 2018-08-13      surf   \n",
      "2               Seattle-Tacoma-Bellevue, WA MSA 2018-08-13      surf   \n",
      "3               Seattle-Tacoma-Bellevue, WA MSA 2018-08-13      surf   \n",
      "4               Seattle-Tacoma-Bellevue, WA MSA 2018-08-13      surf   \n",
      "...                                         ...        ...       ...   \n",
      "2298  New York-Newark-Jersey City, NY-NJ-PA MSA 2018-02-04      surf   \n",
      "2299          Orlando-Kissimmee-Sanford, FL MSA 2018-05-06      surf   \n",
      "2300          Orlando-Kissimmee-Sanford, FL MSA 2018-05-06      surf   \n",
      "2301          Orlando-Kissimmee-Sanford, FL MSA 2018-05-06      surf   \n",
      "2302          Orlando-Kissimmee-Sanford, FL MSA 2018-05-06      surf   \n",
      "\n",
      "     churn_date     status  month  ...  num_messages  total_mb_used  \\\n",
      "0           NaT  continues   12.0  ...          11.0        1901.47   \n",
      "1           NaT  continues    8.0  ...          30.0        6919.15   \n",
      "2           NaT  continues    9.0  ...          44.0       13314.82   \n",
      "3           NaT  continues   10.0  ...          53.0       22330.49   \n",
      "4           NaT  continues   11.0  ...          36.0       18504.30   \n",
      "...         ...        ...    ...  ...           ...            ...   \n",
      "2298        NaT  continues   12.0  ...           NaN       23137.69   \n",
      "2299        NaT  continues    9.0  ...           NaN       12984.76   \n",
      "2300        NaT  continues   10.0  ...           NaN       19492.43   \n",
      "2301        NaT  continues   11.0  ...           NaN       16813.83   \n",
      "2302        NaT  continues   12.0  ...           NaN       22059.21   \n",
      "\n",
      "      messages_included  mb_per_month_included  minutes_included  \\\n",
      "0                  1000                  30720              3000   \n",
      "1                    50                  15360               500   \n",
      "2                    50                  15360               500   \n",
      "3                    50                  15360               500   \n",
      "4                    50                  15360               500   \n",
      "...                 ...                    ...               ...   \n",
      "2298                 50                  15360               500   \n",
      "2299                 50                  15360               500   \n",
      "2300                 50                  15360               500   \n",
      "2301                 50                  15360               500   \n",
      "2302                 50                  15360               500   \n",
      "\n",
      "      usd_monthly_pay  usd_per_gb  usd_per_message  usd_per_minute  \\\n",
      "0                  70           7             0.01            0.01   \n",
      "1                  20          10             0.03            0.03   \n",
      "2                  20          10             0.03            0.03   \n",
      "3                  20          10             0.03            0.03   \n",
      "4                  20          10             0.03            0.03   \n",
      "...               ...         ...              ...             ...   \n",
      "2298               20          10             0.03            0.03   \n",
      "2299               20          10             0.03            0.03   \n",
      "2300               20          10             0.03            0.03   \n",
      "2301               20          10             0.03            0.03   \n",
      "2302               20          10             0.03            0.03   \n",
      "\n",
      "      gb_per_month_included  \n",
      "0                      30.0  \n",
      "1                      15.0  \n",
      "2                      15.0  \n",
      "3                      15.0  \n",
      "4                      15.0  \n",
      "...                     ...  \n",
      "2298                   15.0  \n",
      "2299                   15.0  \n",
      "2300                   15.0  \n",
      "2301                   15.0  \n",
      "2302                   15.0  \n",
      "\n",
      "[2303 rows x 22 columns]\n"
     ]
    }
   ],
   "source": [
    "# Añade la información de la tarifa\n",
    "user_data = pd.merge(users,final_data,on=\"user_id\",how=\"outer\")\n",
    "#print(user_data.head())\n",
    "#print()\n",
    "#print(plans)\n",
    "plans.rename(columns={\"plan_name\":\"plan\"}, inplace=True)\n",
    "#print()\n",
    "#print(plans)\n",
    "user_plan= pd.merge(user_data,plans,on=\"plan\",how=\"left\")\n",
    "print(user_plan)"
   ]
  },
  {
   "cell_type": "markdown",
   "metadata": {
    "id": "1IwGo4wg0q1I"
   },
   "source": [
    "[Calcula los ingresos mensuales por usuario (resta el límite del paquete gratuito del número total de llamadas, mensajes de texto y datos; multiplica el resultado por el valor del plan de llamadas; añade la tarifa mensual en función del plan de llamadas). Nota: Dadas las condiciones del plan, ¡esto podría no ser tan trivial como un par de líneas! Así que no pasa nada si dedicas algo de tiempo a ello.]"
   ]
  },
  {
   "cell_type": "code",
   "execution_count": 50,
   "metadata": {
    "trusted": true
   },
   "outputs": [
    {
     "name": "stdout",
     "output_type": "stream",
     "text": [
      "<class 'pandas.core.frame.DataFrame'>\n",
      "RangeIndex: 2 entries, 0 to 1\n",
      "Data columns (total 9 columns):\n",
      " #   Column                 Non-Null Count  Dtype  \n",
      "---  ------                 --------------  -----  \n",
      " 0   messages_included      2 non-null      int64  \n",
      " 1   mb_per_month_included  2 non-null      int64  \n",
      " 2   minutes_included       2 non-null      int64  \n",
      " 3   usd_monthly_pay        2 non-null      int64  \n",
      " 4   usd_per_gb             2 non-null      int64  \n",
      " 5   usd_per_message        2 non-null      float64\n",
      " 6   usd_per_minute         2 non-null      float64\n",
      " 7   plan                   2 non-null      object \n",
      " 8   gb_per_month_included  2 non-null      float64\n",
      "dtypes: float64(3), int64(5), object(1)\n",
      "memory usage: 272.0+ bytes\n",
      "None\n",
      "\n",
      "\n",
      "<class 'pandas.core.frame.DataFrame'>\n",
      "Int64Index: 2303 entries, 0 to 2302\n",
      "Data columns (total 22 columns):\n",
      " #   Column                 Non-Null Count  Dtype         \n",
      "---  ------                 --------------  -----         \n",
      " 0   user_id                2303 non-null   int64         \n",
      " 1   first_name             2303 non-null   object        \n",
      " 2   last_name              2303 non-null   object        \n",
      " 3   age                    2303 non-null   int64         \n",
      " 4   city                   2303 non-null   object        \n",
      " 5   reg_date               2303 non-null   datetime64[ns]\n",
      " 6   plan                   2303 non-null   object        \n",
      " 7   churn_date             160 non-null    datetime64[ns]\n",
      " 8   status                 2303 non-null   object        \n",
      " 9   month                  2293 non-null   float64       \n",
      " 10  num_calls              2258 non-null   float64       \n",
      " 11  total_minutes          2258 non-null   float64       \n",
      " 12  num_messages           1806 non-null   float64       \n",
      " 13  total_mb_used          2277 non-null   float64       \n",
      " 14  messages_included      2303 non-null   int64         \n",
      " 15  mb_per_month_included  2303 non-null   int64         \n",
      " 16  minutes_included       2303 non-null   int64         \n",
      " 17  usd_monthly_pay        2303 non-null   int64         \n",
      " 18  usd_per_gb             2303 non-null   int64         \n",
      " 19  usd_per_message        2303 non-null   float64       \n",
      " 20  usd_per_minute         2303 non-null   float64       \n",
      " 21  gb_per_month_included  2303 non-null   float64       \n",
      "dtypes: datetime64[ns](2), float64(8), int64(7), object(5)\n",
      "memory usage: 413.8+ KB\n",
      "None\n"
     ]
    }
   ],
   "source": [
    "print(plans.info())\n",
    "print()\n",
    "#print(user_data.head())\n",
    "print()\n",
    "print(user_plan.info())"
   ]
  },
  {
   "cell_type": "code",
   "execution_count": 57,
   "metadata": {
    "id": "5FGCf_c60q1I",
    "trusted": true
   },
   "outputs": [
    {
     "name": "stdout",
     "output_type": "stream",
     "text": [
      "      user_id  month  total_revenue\n",
      "0        1000   12.0      70.000000\n",
      "1        1001    8.0      20.000000\n",
      "2        1001    9.0      20.000000\n",
      "3        1001   10.0      88.161191\n",
      "4        1001   11.0      50.706055\n",
      "...       ...    ...            ...\n",
      "2298     1498   12.0      20.000000\n",
      "2299     1499    9.0      20.000000\n",
      "2300     1499   10.0      20.000000\n",
      "2301     1499   11.0      20.000000\n",
      "2302     1499   12.0      20.000000\n",
      "\n",
      "[2303 rows x 3 columns]\n",
      "<class 'pandas.core.frame.DataFrame'>\n",
      "Int64Index: 2303 entries, 0 to 2302\n",
      "Data columns (total 30 columns):\n",
      " #   Column                 Non-Null Count  Dtype         \n",
      "---  ------                 --------------  -----         \n",
      " 0   user_id                2303 non-null   int64         \n",
      " 1   first_name             2303 non-null   object        \n",
      " 2   last_name              2303 non-null   object        \n",
      " 3   age                    2303 non-null   int64         \n",
      " 4   city                   2303 non-null   object        \n",
      " 5   reg_date               2303 non-null   datetime64[ns]\n",
      " 6   plan                   2303 non-null   object        \n",
      " 7   churn_date             160 non-null    datetime64[ns]\n",
      " 8   status                 2303 non-null   object        \n",
      " 9   month                  2293 non-null   float64       \n",
      " 10  num_calls              2258 non-null   float64       \n",
      " 11  total_minutes          2258 non-null   float64       \n",
      " 12  num_messages           1806 non-null   float64       \n",
      " 13  total_mb_used          2277 non-null   float64       \n",
      " 14  messages_included      2303 non-null   int64         \n",
      " 15  mb_per_month_included  2303 non-null   int64         \n",
      " 16  minutes_included       2303 non-null   int64         \n",
      " 17  usd_monthly_pay        2303 non-null   int64         \n",
      " 18  usd_per_gb             2303 non-null   int64         \n",
      " 19  usd_per_message        2303 non-null   float64       \n",
      " 20  usd_per_minute         2303 non-null   float64       \n",
      " 21  gb_per_month_included  2303 non-null   float64       \n",
      " 22  extra_minutes          2258 non-null   float64       \n",
      " 23  extra_messages         1806 non-null   float64       \n",
      " 24  extra_mb               2277 non-null   float64       \n",
      " 25  extra_gb               2277 non-null   float64       \n",
      " 26  extra_minutes_cost     2258 non-null   float64       \n",
      " 27  extra_messages_cost    1806 non-null   float64       \n",
      " 28  extra_mb_cost          2277 non-null   float64       \n",
      " 29  total_revenue          2303 non-null   float64       \n",
      "dtypes: datetime64[ns](2), float64(16), int64(7), object(5)\n",
      "memory usage: 557.8+ KB\n"
     ]
    }
   ],
   "source": [
    "# Calcula el ingreso mensual para cada usuario\n",
    "#first code\n",
    "\n",
    "\n",
    "# Calculate extra usage\n",
    "user_plan[\"extra_minutes\"] = user_plan[\"total_minutes\"] - user_plan[\"minutes_included\"]\n",
    "user_plan[\"extra_messages\"] = user_plan[\"num_messages\"] - user_plan[\"messages_included\"]\n",
    "user_plan[\"extra_mb\"] = user_plan[\"total_mb_used\"] - user_plan[\"mb_per_month_included\"]\n",
    "user_plan[\"extra_gb\"] = user_plan[\"extra_mb\"] / 1024\n",
    "\n",
    "\n",
    "# Ensure we only charge for extra usage (if negative, set to 0)\n",
    "user_plan[\"extra_minutes\"] = user_plan[\"extra_minutes\"].apply(lambda x: max(x, 0))\n",
    "user_plan[\"extra_messages\"] = user_plan[\"extra_messages\"].apply(lambda x: max(x, 0))\n",
    "user_plan[\"extra_gb\"] = user_plan[\"extra_gb\"].apply(lambda x: max(x, 0))\n",
    "\n",
    "# Calculate extra charges\n",
    "user_plan[\"extra_minutes_cost\"] = user_plan[\"extra_minutes\"] * user_plan[\"usd_per_minute\"]\n",
    "user_plan[\"extra_messages_cost\"] = user_plan[\"extra_messages\"] * user_plan[\"usd_per_message\"]\n",
    "user_plan[\"extra_mb_cost\"] = user_plan[\"extra_gb\"] * user_plan[\"usd_per_gb\"]\n",
    "\n",
    "# Make sure these charges are 0 if there’s no extra usage\n",
    "user_plan[\"extra_minutes_cost\"] = user_plan[\"extra_minutes_cost\"].apply(lambda x: 0 if x < 0 else x)\n",
    "user_plan[\"extra_messages_cost\"] = user_plan[\"extra_messages_cost\"].apply(lambda x: 0 if x < 0 else x)\n",
    "user_plan[\"extra_mb_cost\"] = user_plan[\"extra_mb_cost\"].apply(lambda x: 0 if x < 0 else x)\n",
    "\n",
    "# Total revenue per user per month\n",
    "user_plan[\"total_revenue\"] = (\n",
    "    user_plan[\"usd_monthly_pay\"]\n",
    "    + user_plan[\"extra_minutes_cost\"]\n",
    "    + user_plan[\"extra_messages_cost\"]\n",
    "    + user_plan[\"extra_mb_cost\"]\n",
    ")\n",
    "\n",
    "user_plan[\"total_revenue\"] = user_plan[\"total_revenue\"].fillna(user_plan[\"usd_monthly_pay\"])\n",
    "\n",
    "# Display final revenue data\n",
    "print(user_plan[[\"user_id\", \"month\", \"total_revenue\"]])\n",
    "\n",
    "user_plan.info()"
   ]
  },
  {
   "cell_type": "code",
   "execution_count": 58,
   "metadata": {
    "trusted": true
   },
   "outputs": [
    {
     "name": "stdout",
     "output_type": "stream",
     "text": [
      "      user_id  month  total_revenue\n",
      "0        1000   12.0          70.00\n",
      "1        1001    8.0          20.00\n",
      "2        1001    9.0          20.00\n",
      "3        1001   10.0          90.09\n",
      "4        1001   11.0          50.00\n",
      "...       ...    ...            ...\n",
      "2298     1498   12.0          20.00\n",
      "2299     1499    9.0          20.00\n",
      "2300     1499   10.0          20.00\n",
      "2301     1499   11.0          20.00\n",
      "2302     1499   12.0          20.00\n",
      "\n",
      "[2303 rows x 3 columns]\n",
      "<class 'pandas.core.frame.DataFrame'>\n",
      "Int64Index: 2303 entries, 0 to 2302\n",
      "Data columns (total 30 columns):\n",
      " #   Column                 Non-Null Count  Dtype         \n",
      "---  ------                 --------------  -----         \n",
      " 0   user_id                2303 non-null   int64         \n",
      " 1   first_name             2303 non-null   object        \n",
      " 2   last_name              2303 non-null   object        \n",
      " 3   age                    2303 non-null   int64         \n",
      " 4   city                   2303 non-null   object        \n",
      " 5   reg_date               2303 non-null   datetime64[ns]\n",
      " 6   plan                   2303 non-null   object        \n",
      " 7   churn_date             160 non-null    datetime64[ns]\n",
      " 8   status                 2303 non-null   object        \n",
      " 9   month                  2293 non-null   float64       \n",
      " 10  num_calls              2258 non-null   float64       \n",
      " 11  total_minutes          2258 non-null   float64       \n",
      " 12  num_messages           1806 non-null   float64       \n",
      " 13  total_mb_used          2277 non-null   float64       \n",
      " 14  messages_included      2303 non-null   int64         \n",
      " 15  mb_per_month_included  2303 non-null   int64         \n",
      " 16  minutes_included       2303 non-null   int64         \n",
      " 17  usd_monthly_pay        2303 non-null   int64         \n",
      " 18  usd_per_gb             2303 non-null   int64         \n",
      " 19  usd_per_message        2303 non-null   float64       \n",
      " 20  usd_per_minute         2303 non-null   float64       \n",
      " 21  gb_per_month_included  2303 non-null   float64       \n",
      " 22  extra_minutes          2258 non-null   float64       \n",
      " 23  extra_messages         1806 non-null   float64       \n",
      " 24  extra_mb               2277 non-null   float64       \n",
      " 25  extra_gb               2277 non-null   float64       \n",
      " 26  extra_minutes_cost     2258 non-null   float64       \n",
      " 27  extra_messages_cost    1806 non-null   float64       \n",
      " 28  extra_mb_cost          2277 non-null   float64       \n",
      " 29  total_revenue          2303 non-null   float64       \n",
      "dtypes: datetime64[ns](2), float64(16), int64(7), object(5)\n",
      "memory usage: 557.8+ KB\n"
     ]
    }
   ],
   "source": [
    "# Calcula el ingreso mensual para cada usuario\n",
    "#new code\n",
    "\n",
    "# Round call duration to the nearest whole number\n",
    "user_plan[\"total_minutes\"] = user_plan[\"total_minutes\"].round()\n",
    "\n",
    "# Round megabytes to gigabytes before computing extra usage\n",
    "user_plan[\"gb_per_month_included\"] = (user_plan[\"mb_per_month_included\"] / 1024).round()\n",
    "\n",
    "# Calculate extra usage\n",
    "user_plan[\"extra_minutes\"] = user_plan[\"total_minutes\"] - user_plan[\"minutes_included\"]\n",
    "user_plan[\"extra_messages\"] = user_plan[\"num_messages\"] - user_plan[\"messages_included\"]\n",
    "user_plan[\"extra_mb\"] = user_plan[\"total_mb_used\"] - user_plan[\"mb_per_month_included\"]\n",
    "user_plan[\"extra_gb\"] = (user_plan[\"extra_mb\"] / 1024).round()  # Round after conversion\n",
    "\n",
    "# Ensure we only charge for extra usage (if negative, set to 0)\n",
    "user_plan[\"extra_minutes\"] = user_plan[\"extra_minutes\"].apply(lambda x: max(x, 0))\n",
    "user_plan[\"extra_messages\"] = user_plan[\"extra_messages\"].apply(lambda x: max(x, 0))\n",
    "user_plan[\"extra_gb\"] = user_plan[\"extra_gb\"].apply(lambda x: max(x, 0))\n",
    "\n",
    "# Calculate extra charges\n",
    "user_plan[\"extra_minutes_cost\"] = user_plan[\"extra_minutes\"] * user_plan[\"usd_per_minute\"]\n",
    "user_plan[\"extra_messages_cost\"] = user_plan[\"extra_messages\"] * user_plan[\"usd_per_message\"]\n",
    "user_plan[\"extra_mb_cost\"] = user_plan[\"extra_gb\"] * user_plan[\"usd_per_gb\"]\n",
    "\n",
    "# Make sure these charges are 0 if there’s no extra usage\n",
    "user_plan[\"extra_minutes_cost\"] = user_plan[\"extra_minutes_cost\"].apply(lambda x: max(x, 0))\n",
    "user_plan[\"extra_messages_cost\"] = user_plan[\"extra_messages_cost\"].apply(lambda x: max(x, 0))\n",
    "user_plan[\"extra_mb_cost\"] = user_plan[\"extra_mb_cost\"].apply(lambda x: max(x, 0))\n",
    "\n",
    "# Total revenue per user per month\n",
    "user_plan[\"total_revenue\"] = (\n",
    "    user_plan[\"usd_monthly_pay\"]\n",
    "    + user_plan[\"extra_minutes_cost\"]\n",
    "    + user_plan[\"extra_messages_cost\"]\n",
    "    + user_plan[\"extra_mb_cost\"]\n",
    ")\n",
    "\n",
    "user_plan[\"total_revenue\"] = user_plan[\"total_revenue\"].fillna(user_plan[\"usd_monthly_pay\"])\n",
    "\n",
    "# Display final revenue data\n",
    "print(user_plan[[\"user_id\", \"month\", \"total_revenue\"]])\n",
    "\n",
    "user_plan.info()\n"
   ]
  },
  {
   "cell_type": "code",
   "execution_count": 65,
   "metadata": {
    "trusted": true
   },
   "outputs": [
    {
     "name": "stdout",
     "output_type": "stream",
     "text": [
      "total_minutes     0\n",
      "num_messages      0\n",
      "total_mb_used     0\n",
      "num_calls        45\n",
      "dtype: int64\n"
     ]
    }
   ],
   "source": [
    "print(user_plan[[\"total_minutes\", \"num_messages\", \"total_mb_used\",\"num_calls\"]].isnull().sum())"
   ]
  },
  {
   "cell_type": "markdown",
   "metadata": {},
   "source": [
    "Los valores NaN en total_minutes, num_messages y total_mb_used pueden indicar que algunos usuarios no usaron esos servicios en ciertos meses."
   ]
  },
  {
   "cell_type": "code",
   "execution_count": 66,
   "metadata": {
    "trusted": true
   },
   "outputs": [],
   "source": [
    "user_plan[\"total_minutes\"].fillna(0, inplace=True)\n",
    "user_plan[\"num_messages\"].fillna(0, inplace=True)\n",
    "user_plan[\"total_mb_used\"].fillna(0, inplace=True)\n",
    "user_plan[\"num_calls\"].fillna(0, inplace=True)"
   ]
  },
  {
   "cell_type": "code",
   "execution_count": 68,
   "metadata": {
    "trusted": true
   },
   "outputs": [
    {
     "name": "stdout",
     "output_type": "stream",
     "text": [
      "      user_id  month  total_revenue\n",
      "0        1000   12.0          70.00\n",
      "1        1001    8.0          20.00\n",
      "2        1001    9.0          20.00\n",
      "3        1001   10.0          90.09\n",
      "4        1001   11.0          50.00\n",
      "...       ...    ...            ...\n",
      "2298     1498   12.0         100.00\n",
      "2299     1499    9.0          20.00\n",
      "2300     1499   10.0          60.00\n",
      "2301     1499   11.0          30.00\n",
      "2302     1499   12.0          90.00\n",
      "\n",
      "[2303 rows x 3 columns]\n",
      "<class 'pandas.core.frame.DataFrame'>\n",
      "Int64Index: 2303 entries, 0 to 2302\n",
      "Data columns (total 30 columns):\n",
      " #   Column                 Non-Null Count  Dtype         \n",
      "---  ------                 --------------  -----         \n",
      " 0   user_id                2303 non-null   int64         \n",
      " 1   first_name             2303 non-null   object        \n",
      " 2   last_name              2303 non-null   object        \n",
      " 3   age                    2303 non-null   int64         \n",
      " 4   city                   2303 non-null   object        \n",
      " 5   reg_date               2303 non-null   datetime64[ns]\n",
      " 6   plan                   2303 non-null   object        \n",
      " 7   churn_date             160 non-null    datetime64[ns]\n",
      " 8   status                 2303 non-null   object        \n",
      " 9   month                  2293 non-null   float64       \n",
      " 10  num_calls              2303 non-null   float64       \n",
      " 11  total_minutes          2303 non-null   float64       \n",
      " 12  num_messages           2303 non-null   float64       \n",
      " 13  total_mb_used          2303 non-null   float64       \n",
      " 14  messages_included      2303 non-null   int64         \n",
      " 15  mb_per_month_included  2303 non-null   int64         \n",
      " 16  minutes_included       2303 non-null   int64         \n",
      " 17  usd_monthly_pay        2303 non-null   int64         \n",
      " 18  usd_per_gb             2303 non-null   int64         \n",
      " 19  usd_per_message        2303 non-null   float64       \n",
      " 20  usd_per_minute         2303 non-null   float64       \n",
      " 21  gb_per_month_included  2303 non-null   float64       \n",
      " 22  extra_minutes          2303 non-null   float64       \n",
      " 23  extra_messages         2303 non-null   float64       \n",
      " 24  extra_mb               2303 non-null   float64       \n",
      " 25  extra_gb               2303 non-null   float64       \n",
      " 26  extra_minutes_cost     2303 non-null   float64       \n",
      " 27  extra_messages_cost    2303 non-null   float64       \n",
      " 28  extra_mb_cost          2303 non-null   float64       \n",
      " 29  total_revenue          2303 non-null   float64       \n",
      "dtypes: datetime64[ns](2), float64(16), int64(7), object(5)\n",
      "memory usage: 557.8+ KB\n"
     ]
    }
   ],
   "source": [
    "# run the new code again\n",
    "#new code\n",
    "\n",
    "# Round call duration to the nearest whole number\n",
    "user_plan[\"total_minutes\"] = user_plan[\"total_minutes\"].round()\n",
    "\n",
    "# Round megabytes to gigabytes before computing extra usage\n",
    "user_plan[\"gb_per_month_included\"] = (user_plan[\"mb_per_month_included\"] / 1024).round()\n",
    "\n",
    "# Calculate extra usage\n",
    "user_plan[\"extra_minutes\"] = user_plan[\"total_minutes\"] - user_plan[\"minutes_included\"]\n",
    "user_plan[\"extra_messages\"] = user_plan[\"num_messages\"] - user_plan[\"messages_included\"]\n",
    "user_plan[\"extra_mb\"] = user_plan[\"total_mb_used\"] - user_plan[\"mb_per_month_included\"]\n",
    "user_plan[\"extra_gb\"] = (user_plan[\"extra_mb\"] / 1024).round()  # Round after conversion\n",
    "\n",
    "# Ensure we only charge for extra usage (if negative, set to 0)\n",
    "user_plan[\"extra_minutes\"] = user_plan[\"extra_minutes\"].apply(lambda x: max(x, 0))\n",
    "user_plan[\"extra_messages\"] = user_plan[\"extra_messages\"].apply(lambda x: max(x, 0))\n",
    "user_plan[\"extra_gb\"] = user_plan[\"extra_gb\"].apply(lambda x: max(x, 0))\n",
    "\n",
    "# Calculate extra charges\n",
    "user_plan[\"extra_minutes_cost\"] = user_plan[\"extra_minutes\"] * user_plan[\"usd_per_minute\"]\n",
    "user_plan[\"extra_messages_cost\"] = user_plan[\"extra_messages\"] * user_plan[\"usd_per_message\"]\n",
    "user_plan[\"extra_mb_cost\"] = user_plan[\"extra_gb\"] * user_plan[\"usd_per_gb\"]\n",
    "\n",
    "# Make sure these charges are 0 if there’s no extra usage\n",
    "user_plan[\"extra_minutes_cost\"] = user_plan[\"extra_minutes_cost\"].apply(lambda x: max(x, 0))\n",
    "user_plan[\"extra_messages_cost\"] = user_plan[\"extra_messages_cost\"].apply(lambda x: max(x, 0))\n",
    "user_plan[\"extra_mb_cost\"] = user_plan[\"extra_mb_cost\"].apply(lambda x: max(x, 0))\n",
    "\n",
    "# Total revenue per user per month\n",
    "user_plan[\"total_revenue\"] = (\n",
    "    user_plan[\"usd_monthly_pay\"]\n",
    "    + user_plan[\"extra_minutes_cost\"]\n",
    "    + user_plan[\"extra_messages_cost\"]\n",
    "    + user_plan[\"extra_mb_cost\"]\n",
    ")\n",
    "\n",
    "user_plan[\"total_revenue\"] = user_plan[\"total_revenue\"].fillna(user_plan[\"usd_monthly_pay\"])\n",
    "\n",
    "# Display final revenue data\n",
    "print(user_plan[[\"user_id\", \"month\", \"total_revenue\"]])\n",
    "\n",
    "user_plan.info()\n"
   ]
  },
  {
   "cell_type": "markdown",
   "metadata": {
    "id": "-jtyHzJb0q1I"
   },
   "source": [
    "\n",
    "## Estudia el comportamiento de usuario"
   ]
  },
  {
   "cell_type": "markdown",
   "metadata": {
    "id": "AxU3Y0N70q1J"
   },
   "source": [
    "[Calcula algunas estadísticas descriptivas para los datos agregados y fusionados que nos sean útiles y que muestren un panorama general captado por los datos. Dibuja gráficos útiles para facilitar la comprensión. Dado que la tarea principal es comparar las tarifas y decidir cuál es más rentable, las estadísticas y gráficas deben calcularse por tarifa.]\n",
    "\n",
    "[En los comentarios hallarás pistas relevantes para las llamadas, pero no las hay para los mensajes e Internet. Sin embargo, el principio del estudio estadístico que se aplica para ellos es el mismo que para las llamadas.]"
   ]
  },
  {
   "cell_type": "markdown",
   "metadata": {
    "id": "vtW4CJEe0q1J"
   },
   "source": [
    "### Llamadas"
   ]
  },
  {
   "cell_type": "code",
   "execution_count": 88,
   "metadata": {
    "id": "Jf5v5--k0q1J",
    "trusted": true
   },
   "outputs": [
    {
     "data": {
      "image/png": "[encoded data removed]",
      "text/plain": [
       "<Figure size 600x600 with 1 Axes>"
      ]
     },
     "metadata": {},
     "output_type": "display_data"
    }
   ],
   "source": [
    "# Compara la duración promedio de llamadas por cada plan y por cada mes. Traza un gráfico de barras para visualizarla.\n",
    "\n",
    "num_calls_avg = user_plan.groupby([\"plan\",\"month\"])[\"total_minutes\"].mean()\n",
    "#print(num_calls_avg)\n",
    "\n",
    "#num_calls_avg.plot(x='month',y='total_minutes',legend='plan',title='Duracion promedio de llamadas', color='pink',kind='bar')\n",
    "\n",
    "# Plotting the results\n",
    "# Since the data has a MultiIndex (plan and month), we'll use a bar plot with the MultiIndex labels\n",
    "num_calls_avg.unstack().plot(kind='bar', figsize=(6, 6))\n",
    "\n",
    "# Adding labels and title to the plot\n",
    "plt.title('Average Call Duration per Plan and Month')\n",
    "plt.xlabel('Month')\n",
    "plt.ylabel('Average Call Duration (Minutes)')\n",
    "plt.xticks(rotation=45)  # Rotate x-axis labels for better readability\n",
    "plt.legend(title='Month', bbox_to_anchor=(1.05, 1), loc='upper left')  # Legend outside the plot\n",
    "\n",
    "# Show the plot\n",
    "plt.tight_layout()\n",
    "plt.show()\n"
   ]
  },
  {
   "cell_type": "code",
   "execution_count": 89,
   "metadata": {
    "trusted": true
   },
   "outputs": [
    {
     "data": {
      "image/png": "[encoded data removed]",
      "text/plain": [
       "<Figure size 1000x600 with 1 Axes>"
      ]
     },
     "metadata": {},
     "output_type": "display_data"
    }
   ],
   "source": [
    "#Histograma 'Distribucion de minutos al mes por plan'\n",
    "import matplotlib.pyplot as plt\n",
    "\n",
    "\n",
    "plt.figure(figsize=(10, 6))\n",
    "\n",
    "# Plotting the histogram of total minutes for all users in each plan\n",
    "for plan in user_plan['plan'].unique():\n",
    "    # Filter the data for each plan\n",
    "    plan_data = user_plan[user_plan['plan'] == plan]\n",
    "    \n",
    "    # Plotting the histogram for total minutes used in this plan\n",
    "    plt.hist(plan_data['total_minutes'], bins=30, alpha=0.7, label=plan)\n",
    "\n",
    "# Adding labels and title\n",
    "plt.title('Distribucion de minutos al mes por plan')\n",
    "plt.xlabel('Total de Minutos Usados')\n",
    "plt.ylabel('Numero de usuarios')\n",
    "plt.legend(title=\"Planes\")\n",
    "\n",
    "# Show the plot\n",
    "plt.tight_layout()\n",
    "plt.show()\n"
   ]
  },
  {
   "cell_type": "markdown",
   "metadata": {
    "id": "bLS9T8OH0q1K"
   },
   "source": [
    "[Calcula la media y la variable de la duración de las llamadas para averiguar si los usuarios de los distintos planes se comportan de forma diferente al realizar sus llamadas.]"
   ]
  },
  {
   "cell_type": "code",
   "execution_count": 90,
   "metadata": {
    "id": "oSndbAnt0q1K",
    "trusted": true
   },
   "outputs": [
    {
     "name": "stdout",
     "output_type": "stream",
     "text": [
      "La media de la duracion mensual de llamadas:\n",
      "month  plan    \n",
      "1.0    surf        193.000000\n",
      "       ultimate    183.250000\n",
      "2.0    surf        280.888889\n",
      "       ultimate    379.714286\n",
      "3.0    surf        310.913043\n",
      "       ultimate    285.750000\n",
      "4.0    surf        332.360000\n",
      "       ultimate    316.428571\n",
      "5.0    surf        377.038961\n",
      "       ultimate    383.586207\n",
      "6.0    surf        407.206186\n",
      "       ultimate    349.702128\n",
      "7.0    surf        424.504132\n",
      "       ultimate    403.762712\n",
      "8.0    surf        387.172840\n",
      "       ultimate    397.309859\n",
      "9.0    surf        390.974227\n",
      "       ultimate    413.302326\n",
      "10.0   surf        405.683544\n",
      "       ultimate    425.132075\n",
      "11.0   surf        399.604240\n",
      "       ultimate    420.480315\n",
      "12.0   surf        447.452830\n",
      "       ultimate    432.993377\n",
      "Name: total_minutes, dtype: float64\n",
      "\n",
      "La varianza de la duracion mensual de llamadas:\n",
      "month  plan    \n",
      "1.0    surf        14792.000000\n",
      "       ultimate    14985.583333\n",
      "2.0    surf        46963.861111\n",
      "       ultimate    68509.904762\n",
      "3.0    surf        31837.083004\n",
      "       ultimate    54255.840909\n",
      "4.0    surf        45602.888163\n",
      "       ultimate    31068.657143\n",
      "5.0    surf        53294.906357\n",
      "       ultimate    39316.965517\n",
      "6.0    surf        40773.623711\n",
      "       ultimate    37897.431082\n",
      "7.0    surf        54449.652066\n",
      "       ultimate    64823.942724\n",
      "8.0    surf        48628.665593\n",
      "       ultimate    47678.731187\n",
      "9.0    surf        41579.030420\n",
      "       ultimate    50965.107524\n",
      "10.0   surf        46719.200279\n",
      "       ultimate    48357.582390\n",
      "11.0   surf        46097.005939\n",
      "       ultimate    54281.521435\n",
      "12.0   surf        56985.308494\n",
      "       ultimate    55795.086623\n",
      "Name: total_minutes, dtype: float64\n"
     ]
    }
   ],
   "source": [
    "# Calcula la media y la varianza de la duración mensual de llamadas.\n",
    "#user_plan.info()\n",
    "\n",
    "calls_avg = user_plan.groupby([\"month\",\"plan\"])[\"total_minutes\"].mean()\n",
    "calls_var = user_plan.groupby([\"month\",\"plan\"])[\"total_minutes\"].var()\n",
    "\n",
    "print(\"La media de la duracion mensual de llamadas:\")\n",
    "print(calls_avg)\n",
    "print()\n",
    "print(\"La varianza de la duracion mensual de llamadas:\")\n",
    "print(calls_var)"
   ]
  },
  {
   "cell_type": "code",
   "execution_count": 91,
   "metadata": {
    "id": "nZzoRUKc0q1K",
    "trusted": true
   },
   "outputs": [
    {
     "data": {
      "image/png": "[encoded data removed]",
      "text/plain": [
       "<Figure size 640x480 with 1 Axes>"
      ]
     },
     "metadata": {},
     "output_type": "display_data"
    },
    {
     "data": {
      "text/plain": [
       "<Figure size 1000x600 with 0 Axes>"
      ]
     },
     "metadata": {},
     "output_type": "display_data"
    }
   ],
   "source": [
    "# Traza un diagrama de caja para visualizar la distribución de la duración mensual de llamadas\n",
    "import seaborn as sns\n",
    "sns.boxplot(x='month',y='total_minutes',hue=\"plan\",data=user_plan)\n",
    "\n",
    "plt.xlabel('Meses')\n",
    "plt.ylabel('Duracion de las llamadas')\n",
    "plt.title('Distribucion mensual de llamadas')\n",
    "plt.figure(figsize=[10,6])\n",
    "plt.show()\n",
    "\n",
    "#user_plan.info()"
   ]
  },
  {
   "cell_type": "markdown",
   "metadata": {
    "id": "r627zBO50q1K"
   },
   "source": [
    "[Elabora las conclusiones sobre el comportamiento de los usuarios con respecto a las llamadas. ¿Su comportamiento varía en función del plan?]"
   ]
  },
  {
   "cell_type": "markdown",
   "metadata": {},
   "source": [
    "* En base a la media de la duracion mensual de llamadas podemos deducir que hay una mayoria de personas que utiliza el plan surf. \n",
    "\n",
    "* En base al boxplot, no podemos concluir que el comportamiento de las llamadas varia en funcion del plan. Lo que si podemos ver es que la duracion de llamadas tiende a aumentar hacia los ultimos meses, e incluso las llamadas largas."
   ]
  },
  {
   "cell_type": "markdown",
   "metadata": {
    "id": "8idKy8Wh0q1L"
   },
   "source": [
    "### Mensajes"
   ]
  },
  {
   "cell_type": "code",
   "execution_count": 73,
   "metadata": {
    "trusted": true
   },
   "outputs": [
    {
     "name": "stdout",
     "output_type": "stream",
     "text": [
      "<class 'pandas.core.frame.DataFrame'>\n",
      "Int64Index: 2303 entries, 0 to 2302\n",
      "Data columns (total 30 columns):\n",
      " #   Column                 Non-Null Count  Dtype         \n",
      "---  ------                 --------------  -----         \n",
      " 0   user_id                2303 non-null   int64         \n",
      " 1   first_name             2303 non-null   object        \n",
      " 2   last_name              2303 non-null   object        \n",
      " 3   age                    2303 non-null   int64         \n",
      " 4   city                   2303 non-null   object        \n",
      " 5   reg_date               2303 non-null   datetime64[ns]\n",
      " 6   plan                   2303 non-null   object        \n",
      " 7   churn_date             160 non-null    datetime64[ns]\n",
      " 8   status                 2303 non-null   object        \n",
      " 9   month                  2293 non-null   float64       \n",
      " 10  num_calls              2303 non-null   float64       \n",
      " 11  total_minutes          2303 non-null   float64       \n",
      " 12  num_messages           2303 non-null   float64       \n",
      " 13  total_mb_used          2303 non-null   float64       \n",
      " 14  messages_included      2303 non-null   int64         \n",
      " 15  mb_per_month_included  2303 non-null   int64         \n",
      " 16  minutes_included       2303 non-null   int64         \n",
      " 17  usd_monthly_pay        2303 non-null   int64         \n",
      " 18  usd_per_gb             2303 non-null   int64         \n",
      " 19  usd_per_message        2303 non-null   float64       \n",
      " 20  usd_per_minute         2303 non-null   float64       \n",
      " 21  gb_per_month_included  2303 non-null   float64       \n",
      " 22  extra_minutes          2303 non-null   float64       \n",
      " 23  extra_messages         2303 non-null   float64       \n",
      " 24  extra_mb               2303 non-null   float64       \n",
      " 25  extra_gb               2303 non-null   float64       \n",
      " 26  extra_minutes_cost     2303 non-null   float64       \n",
      " 27  extra_messages_cost    2303 non-null   float64       \n",
      " 28  extra_mb_cost          2303 non-null   float64       \n",
      " 29  total_revenue          2303 non-null   float64       \n",
      "dtypes: datetime64[ns](2), float64(16), int64(7), object(5)\n",
      "memory usage: 622.3+ KB\n"
     ]
    }
   ],
   "source": [
    "user_plan.info()"
   ]
  },
  {
   "cell_type": "code",
   "execution_count": 92,
   "metadata": {
    "id": "NXLxiTit0q1L",
    "trusted": true
   },
   "outputs": [
    {
     "name": "stdout",
     "output_type": "stream",
     "text": [
      "month  plan    \n",
      "1.0    surf           21.0\n",
      "       ultimate       62.0\n",
      "2.0    surf          108.0\n",
      "       ultimate      151.0\n",
      "3.0    surf          351.0\n",
      "       ultimate      243.0\n",
      "4.0    surf          870.0\n",
      "       ultimate      463.0\n",
      "5.0    surf         1849.0\n",
      "       ultimate      931.0\n",
      "6.0    surf         2454.0\n",
      "       ultimate     1379.0\n",
      "7.0    surf         3271.0\n",
      "       ultimate     1937.0\n",
      "8.0    surf         4662.0\n",
      "       ultimate     2732.0\n",
      "9.0    surf         5968.0\n",
      "       ultimate     3259.0\n",
      "10.0   surf         8020.0\n",
      "       ultimate     4181.0\n",
      "11.0   surf         9165.0\n",
      "       ultimate     4903.0\n",
      "12.0   surf        12275.0\n",
      "       ultimate     6796.0\n",
      "Name: num_messages, dtype: float64\n"
     ]
    }
   ],
   "source": [
    "# Comprara el número de mensajes que tienden a enviar cada mes los usuarios de cada plan\n",
    "\n",
    "message_group = user_plan.groupby([\"month\",\"plan\"])[\"num_messages\"].sum()\n",
    "print(message_group)"
   ]
  },
  {
   "cell_type": "code",
   "execution_count": 93,
   "metadata": {
    "id": "GRI_R7xF0q1L",
    "trusted": true
   },
   "outputs": [
    {
     "data": {
      "image/png": "[encoded data removed]",
      "text/plain": [
       "<Figure size 1000x600 with 1 Axes>"
      ]
     },
     "metadata": {},
     "output_type": "display_data"
    }
   ],
   "source": [
    "#Histograma 'Distribucion de  número de mensajes por plan'\n",
    "import matplotlib.pyplot as plt\n",
    "\n",
    "\n",
    "plt.figure(figsize=(10, 6))\n",
    "\n",
    "# Plotting the histogram of messages for all users in each plan\n",
    "for plan in user_plan['plan'].unique():\n",
    "    # Filter the data for each plan\n",
    "    plan_data_message = user_plan[user_plan['plan'] == plan]\n",
    "    \n",
    "    # Plotting the histogram for total minutes used in this plan\n",
    "    plt.hist(plan_data_message['num_messages'], bins=30, alpha=0.7, label=plan)\n",
    "\n",
    "# Adding labels and title\n",
    "plt.title('Distribucion de mensajes enviados al mes por plan')\n",
    "plt.xlabel('Total de mensajes enviados')\n",
    "plt.ylabel('Numero de usuarios')\n",
    "plt.legend(title=\"Planes\")\n",
    "\n",
    "# Show the plot\n",
    "plt.tight_layout()\n",
    "plt.show()\n"
   ]
  },
  {
   "cell_type": "code",
   "execution_count": 94,
   "metadata": {
    "id": "dtFwCGAp0q1M",
    "trusted": true
   },
   "outputs": [
    {
     "data": {
      "image/png": "[encoded data removed]",
      "text/plain": [
       "<Figure size 640x480 with 1 Axes>"
      ]
     },
     "metadata": {},
     "output_type": "display_data"
    }
   ],
   "source": [
    "#analizar la media de mensajes enviados\n",
    "import seaborn as sns\n",
    "messages_mean=user_plan.groupby([\"month\",\"plan\"])[\"num_messages\"].mean().reset_index()\n",
    "#print(messages_mean)\n",
    "\n",
    "\n",
    "sns.barplot(x=\"month\", y=\"num_messages\", hue=\"plan\", data=messages_mean)\n",
    "\n",
    "plt.xlabel('Meses')\n",
    "plt.ylabel('Mensajes enviados')\n",
    "plt.title('Comparacion de las medias de mensajes enviados')\n",
    "plt.legend(title='Plan')\n",
    "plt.show()"
   ]
  },
  {
   "cell_type": "code",
   "execution_count": 95,
   "metadata": {
    "trusted": true
   },
   "outputs": [
    {
     "data": {
      "image/png": "[encoded data removed]",
      "text/plain": [
       "<Figure size 640x480 with 1 Axes>"
      ]
     },
     "metadata": {},
     "output_type": "display_data"
    },
    {
     "data": {
      "text/plain": [
       "<Figure size 1000x600 with 0 Axes>"
      ]
     },
     "metadata": {},
     "output_type": "display_data"
    }
   ],
   "source": [
    "# Traza un diagrama de caja para visualizar la distribución mensual de mensajes\n",
    "import seaborn as sns\n",
    "sns.boxplot(x='month',y='num_messages',hue=\"plan\",data=user_plan)\n",
    "\n",
    "plt.xlabel('Meses')\n",
    "plt.ylabel('Cantidad de mensajes')\n",
    "plt.title('Distribucion mensual de mensajes')\n",
    "plt.figure(figsize=[10,6])\n",
    "plt.show()\n",
    "\n",
    "#user_plan.info()"
   ]
  },
  {
   "cell_type": "markdown",
   "metadata": {
    "id": "390SSL480q1M"
   },
   "source": [
    "[Elabora las conclusiones sobre el comportamiento de los usuarios con respecto a los mensajes. ¿Su comportamiento varía en función del plan?]"
   ]
  },
  {
   "cell_type": "markdown",
   "metadata": {},
   "source": [
    "* Al comparar las medias de los mensajes segun el plan, podemos ver que los usarios de ultimate han mandado mas mensajes. Esto no quiere decir que los usuarios esten mas activos, sino que el plan les permite mandar mas mensajes.\n",
    "\n",
    "* Al hacer un boxplot de la cantidad de mensajes, podemos ver que en los primeros meses del año, la cantidad de mensajes enviados es menor que durante los últimos meses del año. Podemos ver que hay muchos valores atípicos a partir del 6to mes. Aún así, los patrones de uso no difieren demasiado el uno del otro.\n",
    "\n",
    "* En el histograma de distribucion de  número de mensajes por plan, podemos ver que los clientes de surf son más activos. Aquí si el comportamiento varia según el plan."
   ]
  },
  {
   "cell_type": "markdown",
   "metadata": {
    "id": "42YSypXz0q1M"
   },
   "source": [
    "### Internet"
   ]
  },
  {
   "cell_type": "code",
   "execution_count": 78,
   "metadata": {
    "trusted": true
   },
   "outputs": [
    {
     "name": "stdout",
     "output_type": "stream",
     "text": [
      "<class 'pandas.core.frame.DataFrame'>\n",
      "Int64Index: 2303 entries, 0 to 2302\n",
      "Data columns (total 30 columns):\n",
      " #   Column                 Non-Null Count  Dtype         \n",
      "---  ------                 --------------  -----         \n",
      " 0   user_id                2303 non-null   int64         \n",
      " 1   first_name             2303 non-null   object        \n",
      " 2   last_name              2303 non-null   object        \n",
      " 3   age                    2303 non-null   int64         \n",
      " 4   city                   2303 non-null   object        \n",
      " 5   reg_date               2303 non-null   datetime64[ns]\n",
      " 6   plan                   2303 non-null   object        \n",
      " 7   churn_date             160 non-null    datetime64[ns]\n",
      " 8   status                 2303 non-null   object        \n",
      " 9   month                  2293 non-null   float64       \n",
      " 10  num_calls              2303 non-null   float64       \n",
      " 11  total_minutes          2303 non-null   float64       \n",
      " 12  num_messages           2303 non-null   float64       \n",
      " 13  total_mb_used          2303 non-null   float64       \n",
      " 14  messages_included      2303 non-null   int64         \n",
      " 15  mb_per_month_included  2303 non-null   int64         \n",
      " 16  minutes_included       2303 non-null   int64         \n",
      " 17  usd_monthly_pay        2303 non-null   int64         \n",
      " 18  usd_per_gb             2303 non-null   int64         \n",
      " 19  usd_per_message        2303 non-null   float64       \n",
      " 20  usd_per_minute         2303 non-null   float64       \n",
      " 21  gb_per_month_included  2303 non-null   float64       \n",
      " 22  extra_minutes          2303 non-null   float64       \n",
      " 23  extra_messages         2303 non-null   float64       \n",
      " 24  extra_mb               2303 non-null   float64       \n",
      " 25  extra_gb               2303 non-null   float64       \n",
      " 26  extra_minutes_cost     2303 non-null   float64       \n",
      " 27  extra_messages_cost    2303 non-null   float64       \n",
      " 28  extra_mb_cost          2303 non-null   float64       \n",
      " 29  total_revenue          2303 non-null   float64       \n",
      "dtypes: datetime64[ns](2), float64(16), int64(7), object(5)\n",
      "memory usage: 622.3+ KB\n"
     ]
    }
   ],
   "source": [
    "user_plan.info()"
   ]
  },
  {
   "cell_type": "code",
   "execution_count": 96,
   "metadata": {
    "id": "lSuKPtjh0q1M",
    "trusted": true
   },
   "outputs": [
    {
     "name": "stdout",
     "output_type": "stream",
     "text": [
      "month  plan    \n",
      "1.0    surf           9749.72\n",
      "       ultimate      27672.37\n",
      "2.0    surf         109609.59\n",
      "       ultimate     119901.66\n",
      "3.0    surf         306945.12\n",
      "       ultimate     219858.22\n",
      "4.0    surf         599210.15\n",
      "       ultimate     338554.75\n",
      "5.0    surf        1073099.33\n",
      "       ultimate     482109.99\n",
      "6.0    surf        1484248.33\n",
      "       ultimate     720882.29\n",
      "7.0    surf        2030815.67\n",
      "       ultimate     964339.92\n",
      "8.0    surf        2720843.68\n",
      "       ultimate    1264845.13\n",
      "9.0    surf        3218737.67\n",
      "       ultimate    1459408.78\n",
      "10.0   surf        4102786.41\n",
      "       ultimate    1866930.66\n",
      "11.0   surf        4624009.00\n",
      "       ultimate    2163278.04\n",
      "12.0   surf        5766125.26\n",
      "       ultimate    2766801.97\n",
      "Name: total_mb_used, dtype: float64\n"
     ]
    }
   ],
   "source": [
    "# Compara la cantidad de tráfico de Internet consumido por usuarios por plan\n",
    "internet_group=user_plan.groupby(['month','plan'])['total_mb_used'].sum()\n",
    "print(internet_group)"
   ]
  },
  {
   "cell_type": "code",
   "execution_count": 97,
   "metadata": {
    "id": "wnh8jYXi0q1N",
    "trusted": true
   },
   "outputs": [
    {
     "data": {
      "image/png": "[encoded data removed]",
      "text/plain": [
       "<Figure size 1000x600 with 1 Axes>"
      ]
     },
     "metadata": {},
     "output_type": "display_data"
    }
   ],
   "source": [
    "#Histograma 'Distribucion de trafico de internet por plan'\n",
    "import matplotlib.pyplot as plt\n",
    "\n",
    "\n",
    "plt.figure(figsize=(10, 6))\n",
    "\n",
    "# Plotting the histogram of messages for all users in each plan\n",
    "for plan in user_plan['plan'].unique():\n",
    "    # Filter the data for each plan\n",
    "    plan_data_internet = user_plan[user_plan['plan'] == plan]\n",
    "    \n",
    "    # Plotting the histogram for total minutes used in this plan\n",
    "    plt.hist(plan_data_internet['total_mb_used'], bins=30, alpha=0.7, label=plan)\n",
    "\n",
    "# Adding labels and title\n",
    "plt.title('Distribucion de trafico de internet al mes por plan')\n",
    "plt.xlabel('Trafico total')\n",
    "plt.ylabel('Numero de usuarios')\n",
    "plt.legend(title=\"Planes\")\n",
    "\n",
    "# Show the plot\n",
    "plt.tight_layout()\n",
    "plt.show()"
   ]
  },
  {
   "cell_type": "code",
   "execution_count": 98,
   "metadata": {
    "id": "5VlyJ9ry0q1N",
    "trusted": true
   },
   "outputs": [
    {
     "data": {
      "image/png": "[encoded data removed]",
      "text/plain": [
       "<Figure size 640x480 with 1 Axes>"
      ]
     },
     "metadata": {},
     "output_type": "display_data"
    },
    {
     "data": {
      "text/plain": [
       "<Figure size 1000x600 with 0 Axes>"
      ]
     },
     "metadata": {},
     "output_type": "display_data"
    }
   ],
   "source": [
    "# Traza un diagrama de caja para visualizar la distribución mensual de trafico de internet\n",
    "import seaborn as sns\n",
    "sns.boxplot(x='month',y='total_mb_used',hue=\"plan\",data=user_plan)\n",
    "\n",
    "plt.xlabel('Meses')\n",
    "plt.ylabel('Trafico de internet')\n",
    "plt.title('Distribucion mensual de trafico de internet')\n",
    "plt.figure(figsize=[10,6])\n",
    "plt.show()\n",
    "\n",
    "#user_plan.info()"
   ]
  },
  {
   "cell_type": "markdown",
   "metadata": {
    "id": "UN9zwuMP0q1N"
   },
   "source": [
    "[Elabora las conclusiones sobre cómo los usuarios tienden a consumir el tráfico de Internet. ¿Su comportamiento varía en función del plan?]"
   ]
  },
  {
   "cell_type": "markdown",
   "metadata": {},
   "source": [
    "* Al comparar la cantidad de tráfico de Internet consumido por usuarios por plan, podemos ver que en varios meses, los clientes de surf han tenido mayor actividad. \n",
    "* El histograma tambien nos muestra que los clientes de surf han tenido mayor actividad. \n",
    "* El boxplot no muestra patrones de uso muy diferentes, pero si podemos ver que en los ultimos meses del año, hubo muchos valores atípicos.\n",
    "\n",
    "Sí se puede ver una tendencia de los clientes de surf, pero no es 100% seguro que la actividad del cliente depende solo del plan que utilice."
   ]
  },
  {
   "cell_type": "markdown",
   "metadata": {
    "id": "tCijq3260q1N"
   },
   "source": [
    "## Ingreso"
   ]
  },
  {
   "cell_type": "markdown",
   "metadata": {
    "id": "9nq5IAcy0q1O"
   },
   "source": [
    "[Del mismo modo que has estudiado el comportamiento de los usuarios, describe estadísticamente los ingresos de los planes.]"
   ]
  },
  {
   "cell_type": "code",
   "execution_count": 82,
   "metadata": {
    "trusted": true
   },
   "outputs": [
    {
     "name": "stdout",
     "output_type": "stream",
     "text": [
      "<class 'pandas.core.frame.DataFrame'>\n",
      "Int64Index: 2303 entries, 0 to 2302\n",
      "Data columns (total 30 columns):\n",
      " #   Column                 Non-Null Count  Dtype         \n",
      "---  ------                 --------------  -----         \n",
      " 0   user_id                2303 non-null   int64         \n",
      " 1   first_name             2303 non-null   object        \n",
      " 2   last_name              2303 non-null   object        \n",
      " 3   age                    2303 non-null   int64         \n",
      " 4   city                   2303 non-null   object        \n",
      " 5   reg_date               2303 non-null   datetime64[ns]\n",
      " 6   plan                   2303 non-null   object        \n",
      " 7   churn_date             160 non-null    datetime64[ns]\n",
      " 8   status                 2303 non-null   object        \n",
      " 9   month                  2293 non-null   float64       \n",
      " 10  num_calls              2303 non-null   float64       \n",
      " 11  total_minutes          2303 non-null   float64       \n",
      " 12  num_messages           2303 non-null   float64       \n",
      " 13  total_mb_used          2303 non-null   float64       \n",
      " 14  messages_included      2303 non-null   int64         \n",
      " 15  mb_per_month_included  2303 non-null   int64         \n",
      " 16  minutes_included       2303 non-null   int64         \n",
      " 17  usd_monthly_pay        2303 non-null   int64         \n",
      " 18  usd_per_gb             2303 non-null   int64         \n",
      " 19  usd_per_message        2303 non-null   float64       \n",
      " 20  usd_per_minute         2303 non-null   float64       \n",
      " 21  gb_per_month_included  2303 non-null   float64       \n",
      " 22  extra_minutes          2303 non-null   float64       \n",
      " 23  extra_messages         2303 non-null   float64       \n",
      " 24  extra_mb               2303 non-null   float64       \n",
      " 25  extra_gb               2303 non-null   float64       \n",
      " 26  extra_minutes_cost     2303 non-null   float64       \n",
      " 27  extra_messages_cost    2303 non-null   float64       \n",
      " 28  extra_mb_cost          2303 non-null   float64       \n",
      " 29  total_revenue          2303 non-null   float64       \n",
      "dtypes: datetime64[ns](2), float64(16), int64(7), object(5)\n",
      "memory usage: 622.3+ KB\n"
     ]
    }
   ],
   "source": [
    "user_plan.info()"
   ]
  },
  {
   "cell_type": "code",
   "execution_count": 99,
   "metadata": {
    "id": "tz-dq_V00q1O",
    "trusted": true
   },
   "outputs": [
    {
     "data": {
      "image/png": "[encoded data removed]",
      "text/plain": [
       "<Figure size 640x480 with 1 Axes>"
      ]
     },
     "metadata": {},
     "output_type": "display_data"
    }
   ],
   "source": [
    "ingresos_group=user_plan.groupby(['month','plan'])['total_revenue'].sum().unstack()\n",
    "#print(ingresos_group)\n",
    "\n",
    "ingresos_group.plot(xlabel='Mes',ylabel='Ingresos totales',legend='Plan',kind='bar')\n",
    "plt.show()"
   ]
  },
  {
   "cell_type": "code",
   "execution_count": 100,
   "metadata": {
    "id": "0Y1v8ZUz0q1P",
    "trusted": true
   },
   "outputs": [
    {
     "data": {
      "image/png": "[encoded data removed]",
      "text/plain": [
       "<Figure size 1000x600 with 1 Axes>"
      ]
     },
     "metadata": {},
     "output_type": "display_data"
    }
   ],
   "source": [
    "#Histograma 'Distribucion de trafico de internet por plan'\n",
    "import matplotlib.pyplot as plt\n",
    "\n",
    "\n",
    "plt.figure(figsize=(10, 6))\n",
    "\n",
    "# Plotting the histogram of messages for all users in each plan\n",
    "for plan in user_plan['plan'].unique():\n",
    "    # Filter the data for each plan\n",
    "    plan_data_revenue = user_plan[user_plan['plan'] == plan]\n",
    "    \n",
    "    # Plotting the histogram for total minutes used in this plan\n",
    "    plt.hist(plan_data_revenue['total_revenue'], bins=30, alpha=0.7, label=plan)\n",
    "\n",
    "# Adding labels and title\n",
    "plt.title('Distribucion de ingresos al mes por plan')\n",
    "plt.xlabel('Ingreso total')\n",
    "plt.ylabel('Numero de usuarios')\n",
    "plt.legend(title=\"Planes\")\n",
    "\n",
    "# Show the plot\n",
    "plt.tight_layout()\n",
    "plt.show()"
   ]
  },
  {
   "cell_type": "code",
   "execution_count": 85,
   "metadata": {
    "id": "bYmwxyVh0q1P",
    "trusted": true
   },
   "outputs": [
    {
     "data": {
      "image/png": "[encoded data removed]",
      "text/plain": [
       "<Figure size 640x480 with 1 Axes>"
      ]
     },
     "metadata": {},
     "output_type": "display_data"
    },
    {
     "data": {
      "text/plain": [
       "<Figure size 1000x600 with 0 Axes>"
      ]
     },
     "metadata": {},
     "output_type": "display_data"
    }
   ],
   "source": [
    "# Traza un diagrama de caja para visualizar la distribución mensual de trafico de internet\n",
    "import seaborn as sns\n",
    "sns.boxplot(x='month',y='total_revenue',hue=\"plan\",data=user_plan)\n",
    "\n",
    "plt.xlabel('Meses')\n",
    "plt.ylabel('Ingresos')\n",
    "plt.title('Distribucion mensual de ingresos')\n",
    "plt.figure(figsize=[10,6])\n",
    "plt.show()\n",
    "\n"
   ]
  },
  {
   "cell_type": "markdown",
   "metadata": {
    "id": "KAFidcXZ0q1P"
   },
   "source": [
    "[Elabora las conclusiones sobre cómo difiere el ingreso entre los planes.]"
   ]
  },
  {
   "cell_type": "markdown",
   "metadata": {},
   "source": [
    "En base a la comparacion de:\n",
    "\n",
    "* Ingresos por planes\n",
    "* Histograma\n",
    "* Boxplot\n",
    "\n",
    "Podemos ver que los ingresos del plan surf superan a los del plan ultimate. El plan surf tuvo mayor presencia en todos los meses del año. Esto puede deberse a que el precio del plan surf es menor al del plan ultimate, y a pesar de que un usuario se exceda en el uso, ya que esta pagando nada más 20$, el exceso no sería demasiado.   "
   ]
  },
  {
   "cell_type": "markdown",
   "metadata": {
    "id": "ajJ7VKeI0q1Q"
   },
   "source": [
    "## Prueba las hipótesis estadísticas"
   ]
  },
  {
   "cell_type": "markdown",
   "metadata": {
    "id": "AdXAZ-yL0q1Q"
   },
   "source": [
    "[Prueba la hipótesis de que son diferentes los ingresos promedio procedentes de los usuarios de los planes de llamada Ultimate y Surf.]"
   ]
  },
  {
   "cell_type": "markdown",
   "metadata": {
    "id": "IQwa_hsh0q1Q"
   },
   "source": [
    "[Elabora las hipótesis nula y alternativa, escoge la prueba estadística, determina el valor alfa.]"
   ]
  },
  {
   "cell_type": "markdown",
   "metadata": {},
   "source": [
    "Hipótesis:\n",
    "\n",
    "* 𝐻0 → No hay diferencia en los ingresos promedio de los planes.\n",
    "* 𝐻𝑎 → Sí hay una diferencia en los ingresos promedio de los planes.\n",
    "\n",
    " \n",
    "Prueba usada:\n",
    "\n",
    "* Prueba t de Student para dos muestras independientes.\n",
    "\n",
    "\n",
    "Nivel de significancia:\n",
    "\n",
    "* α=0.05.\n",
    "\n",
    "\n",
    "Interpretación:\n",
    "\n",
    "* Si el valor p es menor a 0.05, hay diferencia entre los planes. Si no, no podemos afirmar que haya diferencia."
   ]
  },
  {
   "cell_type": "code",
   "execution_count": 110,
   "metadata": {
    "id": "nFoPNlPq0q1R",
    "trusted": true
   },
   "outputs": [
    {
     "name": "stdout",
     "output_type": "stream",
     "text": [
      "Estadístico t: 10.6905\n",
      "Valor p: 0.0000\n",
      "Rechazamos la hipótesis nula: Hay una diferencia significativa en los ingresos promedio entre Ultimate y Surf.\n"
     ]
    }
   ],
   "source": [
    "# Prueba las hipótesis\n",
    "import scipy.stats as stats\n",
    "\n",
    "# Filtrar ingresos por tipo de plan\n",
    "ultimate_revenue = user_plan[user_plan[\"plan\"] == \"ultimate\"][\"total_revenue\"]\n",
    "surf_revenue = user_plan[user_plan[\"plan\"] == \"surf\"][\"total_revenue\"]\n",
    "\n",
    "# Prueba t de Student para dos muestras independientes\n",
    "t_stat, p_value = stats.ttest_ind(ultimate_revenue, surf_revenue, equal_var=False)\n",
    "\n",
    "# Nivel de significancia\n",
    "alpha = 0.05\n",
    "\n",
    "# Resultados\n",
    "print(f\"Estadístico t: {t_stat:.4f}\")\n",
    "print(f\"Valor p: {p_value:.4f}\")\n",
    "\n",
    "# Interpretación\n",
    "if p_value < alpha:\n",
    "    print(\"Rechazamos la hipótesis nula: Hay una diferencia significativa en los ingresos promedio entre Ultimate y Surf.\")\n",
    "else:\n",
    "    print(\"No podemos rechazar la hipótesis nula: No hay evidencia suficiente para afirmar que los ingresos promedio sean diferentes.\")\n",
    "\n"
   ]
  },
  {
   "cell_type": "markdown",
   "metadata": {
    "id": "tCcAruM60q1R"
   },
   "source": [
    "[Prueba la hipótesis de que el ingreso promedio de los usuarios del área NY-NJ es diferente al de los usuarios de otras regiones.]"
   ]
  },
  {
   "cell_type": "markdown",
   "metadata": {
    "id": "LsBgitqj0q1R"
   },
   "source": [
    "[Elabora las hipótesis nula y alternativa, escoge la prueba estadística, determina el valor alfa.]"
   ]
  },
  {
   "cell_type": "markdown",
   "metadata": {},
   "source": [
    "Hipótesis:\n",
    "\n",
    "* 𝐻0 → El ingreso promedio de los usuarios del área NY-NJ es igual al de los usuarios de otras regiones.\n",
    "* 𝐻𝑎 → El ingreso promedio de los usuarios del área NY-NJ es diferente al de los usuarios de otras regiones.\n",
    "\n",
    "Prueba usada:\n",
    "\n",
    "* Prueba t de Student para dos muestras independientes (asumiendo varianzas desiguales).\n",
    "\n",
    "Nivel de significancia:\n",
    "\n",
    "* α=0.05.\n",
    "\n",
    "Interpretación:\n",
    "\n",
    "* Si el valor p es menor a 0.05, rechazamos la hipótesis nula y concluimos que hay diferencia significativa entre los ingresos promedio de usuarios del área NY-NJ y otras regiones. Si el valor p es mayor o igual a 0.05, no podemos rechazar la hipótesis nula y no tenemos suficiente evidencia para afirmar que existe diferencia."
   ]
  },
  {
   "cell_type": "code",
   "execution_count": 112,
   "metadata": {
    "id": "Cqcj7wrZ0q1S",
    "trusted": true
   },
   "outputs": [
    {
     "name": "stdout",
     "output_type": "stream",
     "text": [
      "Rechazamos la hipótesis nula: Hay una diferencia significativa en los ingresos promedio entre usuarios de NY-NJ y otras regiones.\n"
     ]
    }
   ],
   "source": [
    "# Prueba las hipótesis\n",
    "\n",
    "import pandas as pd\n",
    "import numpy as np\n",
    "from scipy import stats\n",
    "\n",
    "# Assuming your DataFrame is called user_plan\n",
    "\n",
    "# 1. Create a binary variable for NY-NJ region\n",
    "# This assumes cities in NY-NJ have \"New York\", \"NY\", \"New Jersey\", \"NJ\" in their names\n",
    "user_plan['is_ny_nj'] = user_plan['city'].str.contains('New York|NY|New Jersey|NJ', case=False, na=False)\n",
    "\n",
    "# 2. Split data into two groups\n",
    "ny_nj_income = user_plan[user_plan['is_ny_nj']]['usd_monthly_pay']\n",
    "other_income = user_plan[~user_plan['is_ny_nj']]['usd_monthly_pay']\n",
    "\n",
    "# 3. Perform two-sample t-test\n",
    "t_stat, p_value = stats.ttest_ind(ny_nj_income, other_income, equal_var=False)\n",
    "\n",
    "# 4. Set alpha\n",
    "alpha = 0.05\n",
    "\n",
    "# 5. Print results\n",
    "# Interpretación del resultado\n",
    "if p_value < alpha:\n",
    "    print(\"Rechazamos la hipótesis nula: Hay una diferencia significativa en los ingresos promedio entre usuarios de NY-NJ y otras regiones.\")\n",
    "else:\n",
    "    print(\"No podemos rechazar la hipótesis nula: No hay evidencia suficiente para afirmar que los ingresos promedio sean diferentes entre NY-NJ y otras regiones.\")\n"
   ]
  },
  {
   "cell_type": "markdown",
   "metadata": {
    "id": "bbTR8UQO0q1T"
   },
   "source": [
    "## Conclusión general\n",
    "\n",
    "[En esta sección final, enumera tus conclusiones importantes. Asegúrate de que estas abarquen todas las decisiones (suposiciones) importantes que adoptaste y que determinaron la forma elegida para procesar y analizar los datos.]"
   ]
  },
  {
   "cell_type": "markdown",
   "metadata": {},
   "source": [
    "Basándome en el análisis realizado, sí, parece razonable sugerir que Megaline debería considerar enfocar más su presupuesto publicitario en el plan Surf. Aquí están las razones principales:\n",
    "\n",
    "* Mayor generación de ingresos totales: Los datos muestran que el plan Surf generó más ingresos totales que el plan Ultimate consistentemente durante todos los meses del año.\n",
    "* Mayor base de usuarios activos: El análisis muestra que hay más usuarios del plan Surf, lo que contribuye a un mayor volumen de ingresos totales.\n",
    "* Mayor actividad de uso: Los usuarios de Surf mostraron mayor actividad en mensajería y consumo de internet, lo que podría traducirse en más ingresos por servicios adicionales.\n",
    "* Potencial para crecimiento: El menor precio base del plan Surf ($20) parece ser atractivo para los usuarios, quienes luego generan ingresos adicionales al exceder los límites incluidos en el plan.\n",
    "\n",
    "\n",
    "A través de la prueba de hipótesis, pudimos constatar que hay una diferencia significativa en los ingresos promedio entre Ultimate y Surf. Esto valida nuestros anteriores análisis, y podemos confirmar que el plan \"Surf\" genera más ingresos a la compañía Megaline.\n",
    "\n",
    "Recomendaría:\n",
    "\n",
    "* Aumentar la inversión publicitaria en el plan Surf para atraer más usuarios, dado su atractivo precio base y su capacidad demostrada para generar ingresos.\n",
    "* Continuar ofreciendo ambos planes, ya que atienden a diferentes segmentos de mercado.\n",
    "* En base a nuestra segunda hipótesis, enfocarnos en ciudades grandes como New York. Ya que ahí se encuentran la mayoría de los clientes potenciales."
   ]
  }
 ],
 "metadata": {
  "ExecuteTimeLog": [
   {
    "duration": 828,
    "start_time": "2021-11-16T09:21:11.304Z"
   },
   {
    "duration": 893,
    "start_time": "2021-11-16T09:21:17.728Z"
   },
   {
    "duration": 1150,
    "start_time": "2021-11-16T09:21:29.568Z"
   },
   {
    "duration": 3,
    "start_time": "2021-11-16T09:24:14.495Z"
   },
   {
    "duration": 120,
    "start_time": "2021-11-16T09:24:46.630Z"
   },
   {
    "duration": 3,
    "start_time": "2021-11-16T09:28:27.882Z"
   },
   {
    "duration": 4,
    "start_time": "2021-11-16T09:29:54.281Z"
   },
   {
    "duration": 3,
    "start_time": "2021-11-16T09:30:45.936Z"
   },
   {
    "duration": 4,
    "start_time": "2021-11-16T09:31:06.300Z"
   },
   {
    "duration": 113,
    "start_time": "2021-11-16T09:31:37.208Z"
   },
   {
    "duration": 143,
    "start_time": "2021-11-16T09:31:48.656Z"
   },
   {
    "duration": 98,
    "start_time": "2021-11-16T09:31:55.678Z"
   },
   {
    "duration": 3,
    "start_time": "2021-11-16T09:32:08.535Z"
   },
   {
    "duration": 111,
    "start_time": "2021-11-16T09:32:10.120Z"
   },
   {
    "duration": 3,
    "start_time": "2021-11-16T09:32:15.732Z"
   },
   {
    "duration": 4,
    "start_time": "2021-11-16T09:32:29.423Z"
   },
   {
    "duration": 3,
    "start_time": "2021-11-16T10:03:03.074Z"
   },
   {
    "duration": 3,
    "start_time": "2021-11-16T10:10:01.288Z"
   },
   {
    "duration": 3,
    "start_time": "2021-11-16T10:10:46.923Z"
   },
   {
    "duration": 121,
    "start_time": "2021-11-16T10:37:46.494Z"
   },
   {
    "duration": 125,
    "start_time": "2021-11-16T10:38:20.632Z"
   },
   {
    "duration": 112,
    "start_time": "2021-11-16T10:46:53.001Z"
   },
   {
    "duration": 110,
    "start_time": "2021-11-16T10:48:25.775Z"
   },
   {
    "duration": 3,
    "start_time": "2021-11-16T10:50:18.720Z"
   },
   {
    "duration": 4,
    "start_time": "2021-11-16T10:50:37.649Z"
   },
   {
    "duration": 2,
    "start_time": "2021-11-16T10:50:51.884Z"
   },
   {
    "duration": 3,
    "start_time": "2021-11-16T10:51:56.237Z"
   },
   {
    "duration": 101,
    "start_time": "2021-11-16T10:53:13.791Z"
   },
   {
    "duration": 3,
    "start_time": "2021-11-16T10:55:59.186Z"
   },
   {
    "duration": 3,
    "start_time": "2021-11-16T10:56:10.751Z"
   },
   {
    "duration": 3,
    "start_time": "2021-11-16T10:56:49.038Z"
   },
   {
    "duration": 3,
    "start_time": "2021-11-16T10:56:49.174Z"
   },
   {
    "duration": 4,
    "start_time": "2021-11-16T10:56:49.414Z"
   },
   {
    "duration": 3,
    "start_time": "2021-11-16T10:56:49.680Z"
   },
   {
    "duration": 3,
    "start_time": "2021-11-16T10:56:50.370Z"
   },
   {
    "duration": 114,
    "start_time": "2021-11-16T10:59:34.518Z"
   },
   {
    "duration": 3,
    "start_time": "2021-11-16T11:01:41.201Z"
   },
   {
    "duration": 116,
    "start_time": "2021-11-16T11:01:48.754Z"
   },
   {
    "duration": 3,
    "start_time": "2021-11-16T11:02:16.685Z"
   },
   {
    "duration": 3,
    "start_time": "2021-11-16T11:02:19.479Z"
   },
   {
    "duration": 3,
    "start_time": "2021-11-16T11:02:47.067Z"
   },
   {
    "duration": 3,
    "start_time": "2021-11-16T11:02:49.353Z"
   },
   {
    "duration": 3,
    "start_time": "2021-11-16T11:03:07.835Z"
   },
   {
    "duration": 3,
    "start_time": "2021-11-16T11:03:07.953Z"
   },
   {
    "duration": 112,
    "start_time": "2021-11-16T11:07:52.072Z"
   },
   {
    "duration": 187,
    "start_time": "2021-11-16T11:09:23.468Z"
   },
   {
    "duration": 4,
    "start_time": "2021-11-16T11:10:01.455Z"
   },
   {
    "duration": 3,
    "start_time": "2021-11-16T11:10:05.069Z"
   },
   {
    "duration": 4,
    "start_time": "2021-11-16T11:10:13.376Z"
   },
   {
    "duration": 3,
    "start_time": "2021-11-16T11:10:14.434Z"
   },
   {
    "duration": 3,
    "start_time": "2021-11-16T11:10:22.853Z"
   },
   {
    "duration": 4,
    "start_time": "2021-11-16T11:27:29.279Z"
   },
   {
    "duration": 4,
    "start_time": "2021-11-16T11:29:08.919Z"
   },
   {
    "duration": 118,
    "start_time": "2021-11-16T11:29:46.703Z"
   },
   {
    "duration": 437,
    "start_time": "2021-11-16T11:36:02.181Z"
   },
   {
    "duration": 157,
    "start_time": "2021-11-16T11:36:14.388Z"
   },
   {
    "duration": 207,
    "start_time": "2021-11-16T11:47:15.898Z"
   },
   {
    "duration": 3,
    "start_time": "2021-11-16T11:53:52.092Z"
   },
   {
    "duration": 3,
    "start_time": "2021-11-16T11:53:52.236Z"
   },
   {
    "duration": 3,
    "start_time": "2021-11-16T11:59:12.005Z"
   },
   {
    "duration": 112,
    "start_time": "2021-11-16T12:00:33.446Z"
   },
   {
    "duration": 3,
    "start_time": "2021-11-16T12:02:14.453Z"
   },
   {
    "duration": 3,
    "start_time": "2021-11-16T12:02:39.512Z"
   },
   {
    "duration": 106,
    "start_time": "2021-11-16T12:03:03.460Z"
   },
   {
    "duration": 3,
    "start_time": "2021-11-17T20:37:21.139Z"
   },
   {
    "duration": 3,
    "start_time": "2021-11-17T20:37:22.229Z"
   },
   {
    "duration": 3,
    "start_time": "2021-11-17T20:38:38.806Z"
   },
   {
    "duration": 3,
    "start_time": "2021-11-17T20:38:41.958Z"
   },
   {
    "duration": 3,
    "start_time": "2021-11-17T20:43:46.551Z"
   },
   {
    "duration": 4,
    "start_time": "2021-11-17T20:58:21.835Z"
   },
   {
    "duration": 3,
    "start_time": "2021-11-17T20:59:21.872Z"
   },
   {
    "duration": 4,
    "start_time": "2021-11-17T20:59:45.352Z"
   },
   {
    "duration": 4,
    "start_time": "2021-11-17T20:59:49.646Z"
   },
   {
    "duration": 159,
    "start_time": "2021-11-17T21:02:26.949Z"
   },
   {
    "duration": 3,
    "start_time": "2021-11-17T21:03:53.461Z"
   },
   {
    "duration": 3,
    "start_time": "2021-11-17T21:03:53.694Z"
   },
   {
    "duration": 3,
    "start_time": "2021-11-17T21:05:28.145Z"
   },
   {
    "duration": 116,
    "start_time": "2021-11-17T21:05:57.787Z"
   },
   {
    "duration": 3,
    "start_time": "2021-11-17T21:06:37.993Z"
   },
   {
    "duration": 3,
    "start_time": "2021-11-17T21:06:38.261Z"
   },
   {
    "duration": 3,
    "start_time": "2021-11-17T21:11:54.358Z"
   },
   {
    "duration": 3,
    "start_time": "2021-11-17T21:12:43.846Z"
   },
   {
    "duration": 4,
    "start_time": "2021-11-17T21:13:08.773Z"
   },
   {
    "duration": 3,
    "start_time": "2021-11-17T21:14:44.441Z"
   },
   {
    "duration": 3,
    "start_time": "2021-11-17T21:15:42.059Z"
   },
   {
    "duration": 4,
    "start_time": "2021-11-17T21:15:51.995Z"
   },
   {
    "duration": 3,
    "start_time": "2021-11-17T21:15:53.923Z"
   },
   {
    "duration": 3,
    "start_time": "2021-11-17T21:15:55.282Z"
   },
   {
    "duration": 3,
    "start_time": "2021-11-17T21:16:28.492Z"
   },
   {
    "duration": 3,
    "start_time": "2021-11-17T21:16:32.603Z"
   },
   {
    "duration": 3,
    "start_time": "2021-11-17T21:17:06.941Z"
   },
   {
    "duration": 98,
    "start_time": "2021-11-17T21:18:05.733Z"
   },
   {
    "duration": 4,
    "start_time": "2021-11-17T21:21:35.255Z"
   },
   {
    "duration": 3,
    "start_time": "2021-11-17T21:21:37.804Z"
   },
   {
    "duration": 4,
    "start_time": "2021-11-17T21:23:06.071Z"
   },
   {
    "duration": 3,
    "start_time": "2021-11-17T21:23:24.799Z"
   },
   {
    "duration": 3,
    "start_time": "2021-11-17T21:23:32.591Z"
   },
   {
    "duration": 98,
    "start_time": "2021-11-17T21:28:31.559Z"
   },
   {
    "duration": 3,
    "start_time": "2021-11-17T21:28:45.448Z"
   },
   {
    "duration": 3,
    "start_time": "2021-11-17T21:29:17.303Z"
   },
   {
    "duration": 3,
    "start_time": "2021-11-17T21:29:29.617Z"
   },
   {
    "duration": 3,
    "start_time": "2021-11-17T21:29:32.681Z"
   },
   {
    "duration": 3,
    "start_time": "2021-11-17T21:36:11.474Z"
   },
   {
    "duration": 3,
    "start_time": "2021-11-17T21:36:14.791Z"
   },
   {
    "duration": 3,
    "start_time": "2021-11-17T21:36:53.943Z"
   },
   {
    "duration": 3,
    "start_time": "2021-11-17T21:36:56.165Z"
   },
   {
    "duration": 4,
    "start_time": "2021-11-17T21:37:16.590Z"
   },
   {
    "duration": 3,
    "start_time": "2021-11-17T21:37:22.702Z"
   },
   {
    "duration": 4,
    "start_time": "2021-11-17T21:38:03.479Z"
   },
   {
    "duration": 3,
    "start_time": "2021-11-17T21:38:08.601Z"
   },
   {
    "duration": 3,
    "start_time": "2021-11-17T21:38:12.928Z"
   },
   {
    "duration": 3,
    "start_time": "2021-11-17T21:38:48.896Z"
   },
   {
    "duration": 2,
    "start_time": "2021-11-17T21:38:49.171Z"
   },
   {
    "duration": 4,
    "start_time": "2021-11-17T21:39:57.889Z"
   },
   {
    "duration": 3,
    "start_time": "2021-11-17T21:39:58.057Z"
   },
   {
    "duration": 3,
    "start_time": "2021-11-17T21:41:20.108Z"
   },
   {
    "duration": 3,
    "start_time": "2021-11-17T21:41:20.629Z"
   },
   {
    "duration": 3,
    "start_time": "2021-11-17T21:42:49.136Z"
   },
   {
    "duration": 3,
    "start_time": "2021-11-17T21:43:15.137Z"
   },
   {
    "duration": 4,
    "start_time": "2021-11-17T21:43:16.766Z"
   },
   {
    "duration": 4,
    "start_time": "2021-11-17T21:43:31.711Z"
   },
   {
    "duration": 3,
    "start_time": "2021-11-17T21:43:36.312Z"
   },
   {
    "duration": 4,
    "start_time": "2021-11-17T21:45:08.825Z"
   },
   {
    "duration": 4,
    "start_time": "2021-11-17T21:45:10.119Z"
   },
   {
    "duration": 4,
    "start_time": "2021-11-17T21:45:13.748Z"
   },
   {
    "duration": 3,
    "start_time": "2021-11-17T21:45:22.219Z"
   },
   {
    "duration": 3,
    "start_time": "2021-11-17T21:45:33.412Z"
   },
   {
    "duration": 2,
    "start_time": "2021-11-17T21:46:01.885Z"
   },
   {
    "duration": 3,
    "start_time": "2021-11-17T21:46:03.628Z"
   },
   {
    "duration": 107,
    "start_time": "2021-11-17T21:47:32.512Z"
   },
   {
    "duration": 103,
    "start_time": "2021-11-17T21:50:36.243Z"
   },
   {
    "duration": 3,
    "start_time": "2021-11-18T06:28:31.440Z"
   },
   {
    "duration": 3,
    "start_time": "2021-11-18T06:29:00.168Z"
   },
   {
    "duration": 3,
    "start_time": "2021-11-18T06:31:27.008Z"
   },
   {
    "duration": 2,
    "start_time": "2021-11-18T06:35:34.288Z"
   },
   {
    "duration": 2,
    "start_time": "2021-11-18T06:38:04.527Z"
   },
   {
    "duration": 595,
    "start_time": "2025-03-13T05:17:08.781Z"
   },
   {
    "duration": 219,
    "start_time": "2025-03-13T05:21:33.218Z"
   },
   {
    "duration": 175,
    "start_time": "2025-03-13T05:21:35.402Z"
   },
   {
    "duration": 3,
    "start_time": "2025-03-13T05:32:26.529Z"
   },
   {
    "duration": 161,
    "start_time": "2025-03-13T05:32:28.664Z"
   },
   {
    "duration": 47,
    "start_time": "2025-03-13T05:35:53.951Z"
   },
   {
    "duration": 8,
    "start_time": "2025-03-13T05:38:58.376Z"
   },
   {
    "duration": 6,
    "start_time": "2025-03-13T05:39:06.099Z"
   },
   {
    "duration": 2,
    "start_time": "2025-03-13T05:51:19.711Z"
   },
   {
    "duration": 189,
    "start_time": "2025-03-13T05:51:21.943Z"
   },
   {
    "duration": 59,
    "start_time": "2025-03-13T05:51:24.291Z"
   },
   {
    "duration": 4,
    "start_time": "2025-03-13T05:51:29.259Z"
   },
   {
    "duration": 17,
    "start_time": "2025-03-13T05:59:34.632Z"
   },
   {
    "duration": 6,
    "start_time": "2025-03-13T06:15:32.298Z"
   },
   {
    "duration": 597,
    "start_time": "2025-03-18T04:36:07.157Z"
   },
   {
    "duration": 253,
    "start_time": "2025-03-18T04:36:09.187Z"
   },
   {
    "duration": 48,
    "start_time": "2025-03-18T04:36:12.881Z"
   },
   {
    "duration": 9,
    "start_time": "2025-03-18T04:36:20.370Z"
   },
   {
    "duration": 7,
    "start_time": "2025-03-18T04:36:24.867Z"
   },
   {
    "duration": 8,
    "start_time": "2025-03-18T04:37:06.339Z"
   },
   {
    "duration": 6,
    "start_time": "2025-03-18T04:37:51.608Z"
   },
   {
    "duration": 5,
    "start_time": "2025-03-18T04:39:20.169Z"
   },
   {
    "duration": 6,
    "start_time": "2025-03-18T04:40:17.572Z"
   },
   {
    "duration": 436,
    "start_time": "2025-03-18T04:43:28.911Z"
   },
   {
    "duration": 3,
    "start_time": "2025-03-18T04:43:44.356Z"
   },
   {
    "duration": 163,
    "start_time": "2025-03-18T04:43:46.532Z"
   },
   {
    "duration": 49,
    "start_time": "2025-03-18T04:43:49.721Z"
   },
   {
    "duration": 9,
    "start_time": "2025-03-18T04:43:54.159Z"
   },
   {
    "duration": 4,
    "start_time": "2025-03-18T04:43:57.962Z"
   },
   {
    "duration": 25,
    "start_time": "2025-03-18T04:44:04.441Z"
   },
   {
    "duration": 28,
    "start_time": "2025-03-18T04:45:36.544Z"
   },
   {
    "duration": 10,
    "start_time": "2025-03-18T04:46:26.340Z"
   },
   {
    "duration": 26,
    "start_time": "2025-03-18T04:46:45.113Z"
   },
   {
    "duration": 25,
    "start_time": "2025-03-18T04:46:54.050Z"
   },
   {
    "duration": 23,
    "start_time": "2025-03-18T04:47:02.476Z"
   },
   {
    "duration": 25,
    "start_time": "2025-03-18T04:47:08.032Z"
   },
   {
    "duration": 24,
    "start_time": "2025-03-18T04:47:18.110Z"
   },
   {
    "duration": 6,
    "start_time": "2025-03-18T04:48:16.975Z"
   },
   {
    "duration": 24,
    "start_time": "2025-03-18T04:48:48.952Z"
   },
   {
    "duration": 10,
    "start_time": "2025-03-18T04:48:54.379Z"
   },
   {
    "duration": 4,
    "start_time": "2025-03-18T04:50:25.375Z"
   },
   {
    "duration": 4,
    "start_time": "2025-03-18T04:51:38.734Z"
   },
   {
    "duration": 4,
    "start_time": "2025-03-18T04:51:55.279Z"
   },
   {
    "duration": 11,
    "start_time": "2025-03-18T04:56:22.632Z"
   },
   {
    "duration": 11,
    "start_time": "2025-03-18T04:56:55.725Z"
   },
   {
    "duration": 9,
    "start_time": "2025-03-18T04:57:29.169Z"
   },
   {
    "duration": 9,
    "start_time": "2025-03-18T05:02:21.760Z"
   },
   {
    "duration": 203,
    "start_time": "2025-03-18T05:05:42.804Z"
   },
   {
    "duration": 4,
    "start_time": "2025-03-18T05:06:21.118Z"
   },
   {
    "duration": 13,
    "start_time": "2025-03-18T05:07:30.858Z"
   },
   {
    "duration": 5,
    "start_time": "2025-03-18T05:09:08.570Z"
   },
   {
    "duration": 8,
    "start_time": "2025-03-18T05:12:52.944Z"
   },
   {
    "duration": 7,
    "start_time": "2025-03-18T05:14:31.895Z"
   },
   {
    "duration": 7,
    "start_time": "2025-03-18T05:15:12.723Z"
   },
   {
    "duration": 13,
    "start_time": "2025-03-18T05:16:03.029Z"
   },
   {
    "duration": 7,
    "start_time": "2025-03-18T05:16:09.250Z"
   },
   {
    "duration": 7,
    "start_time": "2025-03-18T05:16:54.756Z"
   },
   {
    "duration": 7,
    "start_time": "2025-03-18T05:17:18.180Z"
   },
   {
    "duration": 16,
    "start_time": "2025-03-18T05:20:25.472Z"
   },
   {
    "duration": 7,
    "start_time": "2025-03-18T05:20:52.987Z"
   },
   {
    "duration": 34,
    "start_time": "2025-03-18T05:22:00.224Z"
   },
   {
    "duration": 14,
    "start_time": "2025-03-18T05:22:16.668Z"
   },
   {
    "duration": 9,
    "start_time": "2025-03-18T05:22:29.273Z"
   },
   {
    "duration": 11,
    "start_time": "2025-03-18T05:22:52.002Z"
   },
   {
    "duration": 20,
    "start_time": "2025-03-18T05:33:26.414Z"
   },
   {
    "duration": 20,
    "start_time": "2025-03-18T05:33:49.973Z"
   },
   {
    "duration": 153,
    "start_time": "2025-03-18T05:34:08.601Z"
   },
   {
    "duration": 18,
    "start_time": "2025-03-18T05:34:34.046Z"
   },
   {
    "duration": 26,
    "start_time": "2025-03-18T05:39:38.653Z"
   },
   {
    "duration": 8,
    "start_time": "2025-03-18T05:40:39.348Z"
   },
   {
    "duration": 46,
    "start_time": "2025-03-18T05:43:00.469Z"
   },
   {
    "duration": 49,
    "start_time": "2025-03-18T05:43:08.998Z"
   },
   {
    "duration": 12,
    "start_time": "2025-03-18T05:43:55.927Z"
   },
   {
    "duration": 13,
    "start_time": "2025-03-18T05:44:20.134Z"
   },
   {
    "duration": 6,
    "start_time": "2025-03-18T05:44:26.242Z"
   },
   {
    "duration": 18,
    "start_time": "2025-03-18T05:44:54.770Z"
   },
   {
    "duration": 19,
    "start_time": "2025-03-18T05:45:24.558Z"
   },
   {
    "duration": 10,
    "start_time": "2025-03-18T05:49:47.437Z"
   },
   {
    "duration": 37,
    "start_time": "2025-03-18T05:51:23.359Z"
   },
   {
    "duration": 35,
    "start_time": "2025-03-18T05:52:24.525Z"
   },
   {
    "duration": 45,
    "start_time": "2025-03-18T05:53:20.730Z"
   },
   {
    "duration": 48,
    "start_time": "2025-03-18T05:54:11.646Z"
   },
   {
    "duration": 37,
    "start_time": "2025-03-18T05:54:23.715Z"
   },
   {
    "duration": 36,
    "start_time": "2025-03-18T05:55:04.579Z"
   },
   {
    "duration": 10,
    "start_time": "2025-03-18T05:55:22.716Z"
   },
   {
    "duration": 80,
    "start_time": "2025-03-18T05:55:28.595Z"
   },
   {
    "duration": 30,
    "start_time": "2025-03-18T05:55:38.473Z"
   },
   {
    "duration": 32,
    "start_time": "2025-03-18T05:55:47.993Z"
   },
   {
    "duration": 29,
    "start_time": "2025-03-18T05:56:12.716Z"
   },
   {
    "duration": 28,
    "start_time": "2025-03-18T05:56:33.733Z"
   },
   {
    "duration": 36,
    "start_time": "2025-03-18T05:56:44.627Z"
   },
   {
    "duration": 30,
    "start_time": "2025-03-18T06:00:03.789Z"
   },
   {
    "duration": 14,
    "start_time": "2025-03-18T06:00:41.371Z"
   },
   {
    "duration": 6,
    "start_time": "2025-03-18T06:01:01.549Z"
   },
   {
    "duration": 37,
    "start_time": "2025-03-18T06:02:08.364Z"
   },
   {
    "duration": 38,
    "start_time": "2025-03-18T06:03:16.629Z"
   },
   {
    "duration": 7,
    "start_time": "2025-03-18T06:03:52.812Z"
   },
   {
    "duration": 7,
    "start_time": "2025-03-18T06:04:04.650Z"
   },
   {
    "duration": 13,
    "start_time": "2025-03-18T06:05:45.647Z"
   },
   {
    "duration": 19,
    "start_time": "2025-03-18T06:05:55.270Z"
   },
   {
    "duration": 6,
    "start_time": "2025-03-18T06:06:32.173Z"
   },
   {
    "duration": 37,
    "start_time": "2025-03-18T06:07:01.745Z"
   },
   {
    "duration": 50,
    "start_time": "2025-03-18T06:10:29.393Z"
   },
   {
    "duration": 5,
    "start_time": "2025-03-18T06:11:10.519Z"
   },
   {
    "duration": 624,
    "start_time": "2025-03-19T04:18:01.431Z"
   },
   {
    "duration": 227,
    "start_time": "2025-03-19T04:18:02.057Z"
   },
   {
    "duration": 44,
    "start_time": "2025-03-19T04:18:02.288Z"
   },
   {
    "duration": 8,
    "start_time": "2025-03-19T04:18:02.334Z"
   },
   {
    "duration": 7,
    "start_time": "2025-03-19T04:18:02.343Z"
   },
   {
    "duration": 11,
    "start_time": "2025-03-19T04:18:02.352Z"
   },
   {
    "duration": 7,
    "start_time": "2025-03-19T04:18:02.364Z"
   },
   {
    "duration": 36,
    "start_time": "2025-03-19T04:18:02.373Z"
   },
   {
    "duration": 14,
    "start_time": "2025-03-19T04:18:02.412Z"
   },
   {
    "duration": 14,
    "start_time": "2025-03-19T04:18:02.431Z"
   },
   {
    "duration": 9,
    "start_time": "2025-03-19T04:18:02.447Z"
   },
   {
    "duration": 15,
    "start_time": "2025-03-19T04:18:02.458Z"
   },
   {
    "duration": 21,
    "start_time": "2025-03-19T04:18:02.505Z"
   },
   {
    "duration": 24,
    "start_time": "2025-03-19T04:18:02.528Z"
   },
   {
    "duration": 71,
    "start_time": "2025-03-19T04:18:02.554Z"
   },
   {
    "duration": 14,
    "start_time": "2025-03-19T04:18:02.627Z"
   },
   {
    "duration": 20,
    "start_time": "2025-03-19T04:18:02.643Z"
   },
   {
    "duration": 17,
    "start_time": "2025-03-19T04:18:02.665Z"
   },
   {
    "duration": 34,
    "start_time": "2025-03-19T04:18:02.706Z"
   },
   {
    "duration": 13,
    "start_time": "2025-03-19T04:18:02.741Z"
   },
   {
    "duration": 62,
    "start_time": "2025-03-19T04:18:02.756Z"
   },
   {
    "duration": 20,
    "start_time": "2025-03-19T04:18:02.821Z"
   },
   {
    "duration": 48,
    "start_time": "2025-03-19T04:18:02.843Z"
   },
   {
    "duration": 10,
    "start_time": "2025-03-19T04:18:02.905Z"
   },
   {
    "duration": 2,
    "start_time": "2025-03-19T04:18:02.917Z"
   },
   {
    "duration": 5,
    "start_time": "2025-03-19T04:18:02.922Z"
   },
   {
    "duration": 2,
    "start_time": "2025-03-19T04:18:02.929Z"
   },
   {
    "duration": 3,
    "start_time": "2025-03-19T04:18:02.935Z"
   },
   {
    "duration": 2,
    "start_time": "2025-03-19T04:18:02.940Z"
   },
   {
    "duration": 3,
    "start_time": "2025-03-19T04:18:02.944Z"
   },
   {
    "duration": 3,
    "start_time": "2025-03-19T04:18:02.949Z"
   },
   {
    "duration": 3,
    "start_time": "2025-03-19T04:18:02.953Z"
   },
   {
    "duration": 3,
    "start_time": "2025-03-19T04:18:02.958Z"
   },
   {
    "duration": 45,
    "start_time": "2025-03-19T04:18:02.963Z"
   },
   {
    "duration": 4,
    "start_time": "2025-03-19T04:18:03.010Z"
   },
   {
    "duration": 2,
    "start_time": "2025-03-19T04:18:03.016Z"
   },
   {
    "duration": 3,
    "start_time": "2025-03-19T04:18:03.020Z"
   },
   {
    "duration": 3,
    "start_time": "2025-03-19T04:18:03.024Z"
   },
   {
    "duration": 4,
    "start_time": "2025-03-19T04:18:03.028Z"
   },
   {
    "duration": 22,
    "start_time": "2025-03-19T04:22:26.149Z"
   },
   {
    "duration": 22,
    "start_time": "2025-03-19T04:22:36.479Z"
   },
   {
    "duration": 5,
    "start_time": "2025-03-19T04:25:17.195Z"
   },
   {
    "duration": 518,
    "start_time": "2025-03-19T04:33:34.022Z"
   },
   {
    "duration": 6,
    "start_time": "2025-03-19T04:33:47.736Z"
   },
   {
    "duration": 7,
    "start_time": "2025-03-19T04:37:39.933Z"
   },
   {
    "duration": 5,
    "start_time": "2025-03-19T04:38:11.969Z"
   },
   {
    "duration": 6,
    "start_time": "2025-03-19T04:38:16.871Z"
   },
   {
    "duration": 5,
    "start_time": "2025-03-19T04:38:44.671Z"
   },
   {
    "duration": 17,
    "start_time": "2025-03-19T04:39:45.677Z"
   },
   {
    "duration": 7,
    "start_time": "2025-03-19T04:39:53.878Z"
   },
   {
    "duration": 10,
    "start_time": "2025-03-19T04:41:22.154Z"
   },
   {
    "duration": 13,
    "start_time": "2025-03-19T04:42:23.250Z"
   },
   {
    "duration": 34,
    "start_time": "2025-03-19T04:42:36.812Z"
   },
   {
    "duration": 5,
    "start_time": "2025-03-19T04:43:32.301Z"
   },
   {
    "duration": 42,
    "start_time": "2025-03-19T04:45:15.889Z"
   },
   {
    "duration": 39,
    "start_time": "2025-03-19T04:45:21.766Z"
   },
   {
    "duration": 173,
    "start_time": "2025-03-19T04:51:01.797Z"
   },
   {
    "duration": 14,
    "start_time": "2025-03-19T04:51:17.507Z"
   },
   {
    "duration": 13,
    "start_time": "2025-03-19T04:51:26.089Z"
   },
   {
    "duration": 650,
    "start_time": "2025-03-19T04:51:37.526Z"
   },
   {
    "duration": 236,
    "start_time": "2025-03-19T04:51:40.658Z"
   },
   {
    "duration": 45,
    "start_time": "2025-03-19T04:51:43.400Z"
   },
   {
    "duration": 2,
    "start_time": "2025-03-19T04:51:49.732Z"
   },
   {
    "duration": 159,
    "start_time": "2025-03-19T04:51:49.736Z"
   },
   {
    "duration": 48,
    "start_time": "2025-03-19T04:51:49.897Z"
   },
   {
    "duration": 8,
    "start_time": "2025-03-19T04:51:49.947Z"
   },
   {
    "duration": 5,
    "start_time": "2025-03-19T04:51:49.958Z"
   },
   {
    "duration": 13,
    "start_time": "2025-03-19T04:51:49.965Z"
   },
   {
    "duration": 25,
    "start_time": "2025-03-19T04:51:49.980Z"
   },
   {
    "duration": 9,
    "start_time": "2025-03-19T04:51:50.007Z"
   },
   {
    "duration": 13,
    "start_time": "2025-03-19T04:51:50.017Z"
   },
   {
    "duration": 12,
    "start_time": "2025-03-19T04:51:50.031Z"
   },
   {
    "duration": 7,
    "start_time": "2025-03-19T04:51:50.044Z"
   },
   {
    "duration": 15,
    "start_time": "2025-03-19T04:51:50.053Z"
   },
   {
    "duration": 55,
    "start_time": "2025-03-19T04:51:50.069Z"
   },
   {
    "duration": 30,
    "start_time": "2025-03-19T04:51:50.129Z"
   },
   {
    "duration": 67,
    "start_time": "2025-03-19T04:51:50.162Z"
   },
   {
    "duration": 15,
    "start_time": "2025-03-19T04:51:50.232Z"
   },
   {
    "duration": 24,
    "start_time": "2025-03-19T04:51:50.252Z"
   },
   {
    "duration": 36,
    "start_time": "2025-03-19T04:51:50.278Z"
   },
   {
    "duration": 32,
    "start_time": "2025-03-19T04:51:50.317Z"
   },
   {
    "duration": 15,
    "start_time": "2025-03-19T04:51:50.352Z"
   },
   {
    "duration": 58,
    "start_time": "2025-03-19T04:51:50.370Z"
   },
   {
    "duration": 32,
    "start_time": "2025-03-19T04:51:50.430Z"
   },
   {
    "duration": 69,
    "start_time": "2025-03-19T04:51:50.464Z"
   },
   {
    "duration": 5,
    "start_time": "2025-03-19T04:51:50.535Z"
   },
   {
    "duration": 15,
    "start_time": "2025-03-19T04:51:50.543Z"
   },
   {
    "duration": 53,
    "start_time": "2025-03-19T04:51:50.561Z"
   },
   {
    "duration": 10,
    "start_time": "2025-03-19T04:51:50.616Z"
   },
   {
    "duration": 46,
    "start_time": "2025-03-19T04:51:50.627Z"
   },
   {
    "duration": 156,
    "start_time": "2025-03-19T04:52:08.050Z"
   },
   {
    "duration": 629,
    "start_time": "2025-03-19T04:52:33.146Z"
   },
   {
    "duration": 215,
    "start_time": "2025-03-19T04:52:33.777Z"
   },
   {
    "duration": 46,
    "start_time": "2025-03-19T04:52:33.993Z"
   },
   {
    "duration": 7,
    "start_time": "2025-03-19T04:52:34.042Z"
   },
   {
    "duration": 6,
    "start_time": "2025-03-19T04:52:34.051Z"
   },
   {
    "duration": 12,
    "start_time": "2025-03-19T04:52:34.059Z"
   },
   {
    "duration": 33,
    "start_time": "2025-03-19T04:52:34.072Z"
   },
   {
    "duration": 8,
    "start_time": "2025-03-19T04:52:34.107Z"
   },
   {
    "duration": 13,
    "start_time": "2025-03-19T04:52:34.116Z"
   },
   {
    "duration": 11,
    "start_time": "2025-03-19T04:52:34.132Z"
   },
   {
    "duration": 17,
    "start_time": "2025-03-19T04:52:34.144Z"
   },
   {
    "duration": 14,
    "start_time": "2025-03-19T04:52:34.163Z"
   },
   {
    "duration": 39,
    "start_time": "2025-03-19T04:52:34.179Z"
   },
   {
    "duration": 25,
    "start_time": "2025-03-19T04:52:34.220Z"
   },
   {
    "duration": 67,
    "start_time": "2025-03-19T04:52:34.247Z"
   },
   {
    "duration": 12,
    "start_time": "2025-03-19T04:52:34.316Z"
   },
   {
    "duration": 22,
    "start_time": "2025-03-19T04:52:34.329Z"
   },
   {
    "duration": 17,
    "start_time": "2025-03-19T04:52:34.352Z"
   },
   {
    "duration": 60,
    "start_time": "2025-03-19T04:52:34.371Z"
   },
   {
    "duration": 14,
    "start_time": "2025-03-19T04:52:34.433Z"
   },
   {
    "duration": 60,
    "start_time": "2025-03-19T04:52:34.448Z"
   },
   {
    "duration": 21,
    "start_time": "2025-03-19T04:52:34.510Z"
   },
   {
    "duration": 47,
    "start_time": "2025-03-19T04:52:34.534Z"
   },
   {
    "duration": 4,
    "start_time": "2025-03-19T04:52:34.584Z"
   },
   {
    "duration": 15,
    "start_time": "2025-03-19T04:52:34.605Z"
   },
   {
    "duration": 36,
    "start_time": "2025-03-19T04:52:34.623Z"
   },
   {
    "duration": 9,
    "start_time": "2025-03-19T04:52:34.661Z"
   },
   {
    "duration": 64,
    "start_time": "2025-03-19T04:52:34.673Z"
   },
   {
    "duration": 634,
    "start_time": "2025-03-19T04:53:33.515Z"
   },
   {
    "duration": 241,
    "start_time": "2025-03-19T04:53:41.801Z"
   },
   {
    "duration": 2,
    "start_time": "2025-03-19T04:53:51.473Z"
   },
   {
    "duration": 225,
    "start_time": "2025-03-19T04:53:51.485Z"
   },
   {
    "duration": 43,
    "start_time": "2025-03-19T04:53:51.713Z"
   },
   {
    "duration": 7,
    "start_time": "2025-03-19T04:53:51.758Z"
   },
   {
    "duration": 5,
    "start_time": "2025-03-19T04:53:51.767Z"
   },
   {
    "duration": 35,
    "start_time": "2025-03-19T04:53:51.774Z"
   },
   {
    "duration": 6,
    "start_time": "2025-03-19T04:53:51.810Z"
   },
   {
    "duration": 8,
    "start_time": "2025-03-19T04:53:51.818Z"
   },
   {
    "duration": 11,
    "start_time": "2025-03-19T04:53:51.828Z"
   },
   {
    "duration": 11,
    "start_time": "2025-03-19T04:53:51.840Z"
   },
   {
    "duration": 6,
    "start_time": "2025-03-19T04:53:51.854Z"
   },
   {
    "duration": 48,
    "start_time": "2025-03-19T04:53:51.862Z"
   },
   {
    "duration": 17,
    "start_time": "2025-03-19T04:53:51.912Z"
   },
   {
    "duration": 23,
    "start_time": "2025-03-19T04:53:51.931Z"
   },
   {
    "duration": 70,
    "start_time": "2025-03-19T04:53:51.955Z"
   },
   {
    "duration": 11,
    "start_time": "2025-03-19T04:53:52.026Z"
   },
   {
    "duration": 18,
    "start_time": "2025-03-19T04:53:52.038Z"
   },
   {
    "duration": 15,
    "start_time": "2025-03-19T04:53:52.059Z"
   },
   {
    "duration": 53,
    "start_time": "2025-03-19T04:53:52.076Z"
   },
   {
    "duration": 14,
    "start_time": "2025-03-19T04:53:52.130Z"
   },
   {
    "duration": 60,
    "start_time": "2025-03-19T04:53:52.145Z"
   },
   {
    "duration": 22,
    "start_time": "2025-03-19T04:53:52.206Z"
   },
   {
    "duration": 47,
    "start_time": "2025-03-19T04:53:52.230Z"
   },
   {
    "duration": 4,
    "start_time": "2025-03-19T04:53:52.279Z"
   },
   {
    "duration": 32,
    "start_time": "2025-03-19T04:53:52.285Z"
   },
   {
    "duration": 36,
    "start_time": "2025-03-19T04:53:52.319Z"
   },
   {
    "duration": 9,
    "start_time": "2025-03-19T04:53:52.357Z"
   },
   {
    "duration": 69,
    "start_time": "2025-03-19T04:53:52.368Z"
   },
   {
    "duration": 40,
    "start_time": "2025-03-19T04:53:59.262Z"
   },
   {
    "duration": 162,
    "start_time": "2025-03-19T04:54:07.752Z"
   },
   {
    "duration": 3,
    "start_time": "2025-03-19T04:56:18.690Z"
   },
   {
    "duration": 13,
    "start_time": "2025-03-19T04:56:22.511Z"
   },
   {
    "duration": 667,
    "start_time": "2025-03-19T04:56:34.513Z"
   },
   {
    "duration": 220,
    "start_time": "2025-03-19T04:56:36.283Z"
   },
   {
    "duration": 44,
    "start_time": "2025-03-19T04:56:38.634Z"
   },
   {
    "duration": 8,
    "start_time": "2025-03-19T04:56:45.111Z"
   },
   {
    "duration": 12,
    "start_time": "2025-03-19T04:56:48.332Z"
   },
   {
    "duration": 6,
    "start_time": "2025-03-19T04:56:51.529Z"
   },
   {
    "duration": 8,
    "start_time": "2025-03-19T04:56:54.635Z"
   },
   {
    "duration": 12,
    "start_time": "2025-03-19T04:56:58.440Z"
   },
   {
    "duration": 12,
    "start_time": "2025-03-19T04:57:01.387Z"
   },
   {
    "duration": 8,
    "start_time": "2025-03-19T04:57:05.256Z"
   },
   {
    "duration": 16,
    "start_time": "2025-03-19T04:57:08.888Z"
   },
   {
    "duration": 18,
    "start_time": "2025-03-19T04:57:11.534Z"
   },
   {
    "duration": 28,
    "start_time": "2025-03-19T04:57:16.169Z"
   },
   {
    "duration": 48,
    "start_time": "2025-03-19T04:57:19.557Z"
   },
   {
    "duration": 11,
    "start_time": "2025-03-19T04:57:23.091Z"
   },
   {
    "duration": 21,
    "start_time": "2025-03-19T04:57:25.709Z"
   },
   {
    "duration": 17,
    "start_time": "2025-03-19T04:57:28.891Z"
   },
   {
    "duration": 29,
    "start_time": "2025-03-19T04:57:31.750Z"
   },
   {
    "duration": 14,
    "start_time": "2025-03-19T04:57:35.120Z"
   },
   {
    "duration": 21,
    "start_time": "2025-03-19T04:57:38.636Z"
   },
   {
    "duration": 50,
    "start_time": "2025-03-19T04:57:40.688Z"
   },
   {
    "duration": 5,
    "start_time": "2025-03-19T04:57:43.995Z"
   },
   {
    "duration": 13,
    "start_time": "2025-03-19T04:57:47.315Z"
   },
   {
    "duration": 9,
    "start_time": "2025-03-19T04:57:50.440Z"
   },
   {
    "duration": 47,
    "start_time": "2025-03-19T04:57:53.700Z"
   },
   {
    "duration": 36,
    "start_time": "2025-03-19T04:57:55.994Z"
   },
   {
    "duration": 37,
    "start_time": "2025-03-19T04:58:33.920Z"
   },
   {
    "duration": 162,
    "start_time": "2025-03-19T04:59:22.786Z"
   },
   {
    "duration": 308,
    "start_time": "2025-03-19T04:59:41.968Z"
   },
   {
    "duration": 392,
    "start_time": "2025-03-19T05:01:34.409Z"
   },
   {
    "duration": 217,
    "start_time": "2025-03-19T05:01:34.804Z"
   },
   {
    "duration": 44,
    "start_time": "2025-03-19T05:01:35.023Z"
   },
   {
    "duration": 8,
    "start_time": "2025-03-19T05:01:35.069Z"
   },
   {
    "duration": 5,
    "start_time": "2025-03-19T05:01:35.080Z"
   },
   {
    "duration": 27,
    "start_time": "2025-03-19T05:01:35.087Z"
   },
   {
    "duration": 6,
    "start_time": "2025-03-19T05:01:35.116Z"
   },
   {
    "duration": 7,
    "start_time": "2025-03-19T05:01:35.124Z"
   },
   {
    "duration": 11,
    "start_time": "2025-03-19T05:01:35.133Z"
   },
   {
    "duration": 10,
    "start_time": "2025-03-19T05:01:35.147Z"
   },
   {
    "duration": 7,
    "start_time": "2025-03-19T05:01:35.158Z"
   },
   {
    "duration": 48,
    "start_time": "2025-03-19T05:01:35.166Z"
   },
   {
    "duration": 20,
    "start_time": "2025-03-19T05:01:35.215Z"
   },
   {
    "duration": 25,
    "start_time": "2025-03-19T05:01:35.237Z"
   },
   {
    "duration": 76,
    "start_time": "2025-03-19T05:01:35.264Z"
   },
   {
    "duration": 11,
    "start_time": "2025-03-19T05:01:35.342Z"
   },
   {
    "duration": 19,
    "start_time": "2025-03-19T05:01:35.354Z"
   },
   {
    "duration": 33,
    "start_time": "2025-03-19T05:01:35.375Z"
   },
   {
    "duration": 29,
    "start_time": "2025-03-19T05:01:35.410Z"
   },
   {
    "duration": 12,
    "start_time": "2025-03-19T05:01:35.441Z"
   },
   {
    "duration": 64,
    "start_time": "2025-03-19T05:01:35.455Z"
   },
   {
    "duration": 20,
    "start_time": "2025-03-19T05:01:35.521Z"
   },
   {
    "duration": 65,
    "start_time": "2025-03-19T05:01:35.542Z"
   },
   {
    "duration": 5,
    "start_time": "2025-03-19T05:01:35.609Z"
   },
   {
    "duration": 14,
    "start_time": "2025-03-19T05:01:35.615Z"
   },
   {
    "duration": 35,
    "start_time": "2025-03-19T05:01:35.631Z"
   },
   {
    "duration": 37,
    "start_time": "2025-03-19T05:01:35.668Z"
   },
   {
    "duration": 38,
    "start_time": "2025-03-19T05:01:35.709Z"
   },
   {
    "duration": 568,
    "start_time": "2025-03-19T05:02:03.583Z"
   },
   {
    "duration": 241,
    "start_time": "2025-03-19T05:02:04.154Z"
   },
   {
    "duration": 45,
    "start_time": "2025-03-19T05:02:04.396Z"
   },
   {
    "duration": 8,
    "start_time": "2025-03-19T05:02:04.445Z"
   },
   {
    "duration": 6,
    "start_time": "2025-03-19T05:02:04.455Z"
   },
   {
    "duration": 10,
    "start_time": "2025-03-19T05:02:04.463Z"
   },
   {
    "duration": 6,
    "start_time": "2025-03-19T05:02:04.475Z"
   },
   {
    "duration": 31,
    "start_time": "2025-03-19T05:02:04.482Z"
   },
   {
    "duration": 12,
    "start_time": "2025-03-19T05:02:04.515Z"
   },
   {
    "duration": 10,
    "start_time": "2025-03-19T05:02:04.530Z"
   },
   {
    "duration": 6,
    "start_time": "2025-03-19T05:02:04.542Z"
   },
   {
    "duration": 14,
    "start_time": "2025-03-19T05:02:04.550Z"
   },
   {
    "duration": 50,
    "start_time": "2025-03-19T05:02:04.565Z"
   },
   {
    "duration": 28,
    "start_time": "2025-03-19T05:02:04.616Z"
   },
   {
    "duration": 63,
    "start_time": "2025-03-19T05:02:04.645Z"
   },
   {
    "duration": 13,
    "start_time": "2025-03-19T05:02:04.710Z"
   },
   {
    "duration": 18,
    "start_time": "2025-03-19T05:02:04.725Z"
   },
   {
    "duration": 19,
    "start_time": "2025-03-19T05:02:04.745Z"
   },
   {
    "duration": 55,
    "start_time": "2025-03-19T05:02:04.766Z"
   },
   {
    "duration": 13,
    "start_time": "2025-03-19T05:02:04.823Z"
   },
   {
    "duration": 43,
    "start_time": "2025-03-19T05:02:04.838Z"
   },
   {
    "duration": 43,
    "start_time": "2025-03-19T05:02:04.883Z"
   },
   {
    "duration": 48,
    "start_time": "2025-03-19T05:02:04.929Z"
   },
   {
    "duration": 4,
    "start_time": "2025-03-19T05:02:04.979Z"
   },
   {
    "duration": 12,
    "start_time": "2025-03-19T05:02:05.005Z"
   },
   {
    "duration": 36,
    "start_time": "2025-03-19T05:02:05.019Z"
   },
   {
    "duration": 10,
    "start_time": "2025-03-19T05:02:05.057Z"
   },
   {
    "duration": 60,
    "start_time": "2025-03-19T05:02:05.071Z"
   },
   {
    "duration": 2,
    "start_time": "2025-03-19T05:02:05.133Z"
   },
   {
    "duration": 3,
    "start_time": "2025-03-19T05:02:05.136Z"
   },
   {
    "duration": 3,
    "start_time": "2025-03-19T05:02:05.141Z"
   },
   {
    "duration": 3,
    "start_time": "2025-03-19T05:02:05.145Z"
   },
   {
    "duration": 3,
    "start_time": "2025-03-19T05:02:05.150Z"
   },
   {
    "duration": 3,
    "start_time": "2025-03-19T05:02:05.154Z"
   },
   {
    "duration": 2,
    "start_time": "2025-03-19T05:02:05.160Z"
   },
   {
    "duration": 3,
    "start_time": "2025-03-19T05:02:05.164Z"
   },
   {
    "duration": 2,
    "start_time": "2025-03-19T05:02:05.169Z"
   },
   {
    "duration": 33,
    "start_time": "2025-03-19T05:02:05.173Z"
   },
   {
    "duration": 3,
    "start_time": "2025-03-19T05:02:05.207Z"
   },
   {
    "duration": 600,
    "start_time": "2025-03-19T05:03:15.849Z"
   },
   {
    "duration": 229,
    "start_time": "2025-03-19T05:03:16.452Z"
   },
   {
    "duration": 45,
    "start_time": "2025-03-19T05:03:16.683Z"
   },
   {
    "duration": 8,
    "start_time": "2025-03-19T05:03:16.731Z"
   },
   {
    "duration": 7,
    "start_time": "2025-03-19T05:03:16.740Z"
   },
   {
    "duration": 10,
    "start_time": "2025-03-19T05:03:16.749Z"
   },
   {
    "duration": 6,
    "start_time": "2025-03-19T05:03:16.760Z"
   },
   {
    "duration": 37,
    "start_time": "2025-03-19T05:03:16.768Z"
   },
   {
    "duration": 15,
    "start_time": "2025-03-19T05:03:16.807Z"
   },
   {
    "duration": 11,
    "start_time": "2025-03-19T05:03:16.825Z"
   },
   {
    "duration": 7,
    "start_time": "2025-03-19T05:03:16.838Z"
   },
   {
    "duration": 13,
    "start_time": "2025-03-19T05:03:16.847Z"
   },
   {
    "duration": 53,
    "start_time": "2025-03-19T05:03:16.862Z"
   },
   {
    "duration": 24,
    "start_time": "2025-03-19T05:03:16.917Z"
   },
   {
    "duration": 47,
    "start_time": "2025-03-19T05:03:16.943Z"
   },
   {
    "duration": 12,
    "start_time": "2025-03-19T05:03:17.006Z"
   },
   {
    "duration": 18,
    "start_time": "2025-03-19T05:03:17.020Z"
   },
   {
    "duration": 17,
    "start_time": "2025-03-19T05:03:17.040Z"
   },
   {
    "duration": 53,
    "start_time": "2025-03-19T05:03:17.059Z"
   },
   {
    "duration": 13,
    "start_time": "2025-03-19T05:03:17.114Z"
   },
   {
    "duration": 43,
    "start_time": "2025-03-19T05:03:17.129Z"
   },
   {
    "duration": 41,
    "start_time": "2025-03-19T05:03:17.174Z"
   },
   {
    "duration": 51,
    "start_time": "2025-03-19T05:03:17.217Z"
   },
   {
    "duration": 5,
    "start_time": "2025-03-19T05:03:17.270Z"
   },
   {
    "duration": 34,
    "start_time": "2025-03-19T05:03:17.277Z"
   },
   {
    "duration": 38,
    "start_time": "2025-03-19T05:03:17.313Z"
   },
   {
    "duration": 9,
    "start_time": "2025-03-19T05:03:17.353Z"
   },
   {
    "duration": 59,
    "start_time": "2025-03-19T05:03:17.366Z"
   },
   {
    "duration": 2,
    "start_time": "2025-03-19T05:03:17.427Z"
   },
   {
    "duration": 3,
    "start_time": "2025-03-19T05:03:17.430Z"
   },
   {
    "duration": 2,
    "start_time": "2025-03-19T05:03:17.436Z"
   },
   {
    "duration": 3,
    "start_time": "2025-03-19T05:03:17.440Z"
   },
   {
    "duration": 3,
    "start_time": "2025-03-19T05:03:17.444Z"
   },
   {
    "duration": 2,
    "start_time": "2025-03-19T05:03:17.450Z"
   },
   {
    "duration": 2,
    "start_time": "2025-03-19T05:03:17.454Z"
   },
   {
    "duration": 3,
    "start_time": "2025-03-19T05:03:17.458Z"
   },
   {
    "duration": 3,
    "start_time": "2025-03-19T05:03:17.463Z"
   },
   {
    "duration": 38,
    "start_time": "2025-03-19T05:03:17.467Z"
   },
   {
    "duration": 2,
    "start_time": "2025-03-19T05:03:17.507Z"
   },
   {
    "duration": 14,
    "start_time": "2025-03-19T05:04:30.889Z"
   },
   {
    "duration": 261,
    "start_time": "2025-03-19T05:07:32.651Z"
   },
   {
    "duration": 17,
    "start_time": "2025-03-19T05:07:48.025Z"
   },
   {
    "duration": 22,
    "start_time": "2025-03-19T05:11:06.706Z"
   },
   {
    "duration": 12,
    "start_time": "2025-03-19T05:13:01.541Z"
   },
   {
    "duration": 20,
    "start_time": "2025-03-19T05:13:22.674Z"
   },
   {
    "duration": 10,
    "start_time": "2025-03-19T05:14:12.561Z"
   },
   {
    "duration": 9,
    "start_time": "2025-03-19T05:14:32.016Z"
   },
   {
    "duration": 10,
    "start_time": "2025-03-19T05:14:44.794Z"
   },
   {
    "duration": 15,
    "start_time": "2025-03-19T05:15:06.656Z"
   },
   {
    "duration": 13,
    "start_time": "2025-03-19T05:15:21.740Z"
   },
   {
    "duration": 11,
    "start_time": "2025-03-19T05:15:34.562Z"
   },
   {
    "duration": 12,
    "start_time": "2025-03-19T05:16:25.617Z"
   },
   {
    "duration": 13,
    "start_time": "2025-03-19T05:17:02.502Z"
   },
   {
    "duration": 23,
    "start_time": "2025-03-19T05:17:21.148Z"
   },
   {
    "duration": 13,
    "start_time": "2025-03-19T05:18:23.885Z"
   },
   {
    "duration": 15,
    "start_time": "2025-03-19T05:18:31.871Z"
   },
   {
    "duration": 12,
    "start_time": "2025-03-19T05:21:37.785Z"
   },
   {
    "duration": 23,
    "start_time": "2025-03-19T05:23:13.742Z"
   },
   {
    "duration": 26,
    "start_time": "2025-03-19T05:23:29.669Z"
   },
   {
    "duration": 21,
    "start_time": "2025-03-19T05:25:00.125Z"
   },
   {
    "duration": 13,
    "start_time": "2025-03-19T05:25:07.683Z"
   },
   {
    "duration": 14,
    "start_time": "2025-03-19T05:25:13.801Z"
   },
   {
    "duration": 9,
    "start_time": "2025-03-19T05:25:31.860Z"
   },
   {
    "duration": 12,
    "start_time": "2025-03-19T05:26:05.974Z"
   },
   {
    "duration": 13,
    "start_time": "2025-03-19T05:26:26.702Z"
   },
   {
    "duration": 20,
    "start_time": "2025-03-19T05:26:46.100Z"
   },
   {
    "duration": 16,
    "start_time": "2025-03-19T05:26:55.883Z"
   },
   {
    "duration": 17,
    "start_time": "2025-03-19T05:28:07.532Z"
   },
   {
    "duration": 17,
    "start_time": "2025-03-19T05:28:43.081Z"
   },
   {
    "duration": 21,
    "start_time": "2025-03-19T05:29:11.247Z"
   },
   {
    "duration": 5,
    "start_time": "2025-03-19T05:30:17.788Z"
   },
   {
    "duration": 9,
    "start_time": "2025-03-19T05:30:54.258Z"
   },
   {
    "duration": 20,
    "start_time": "2025-03-19T05:33:13.563Z"
   },
   {
    "duration": 16,
    "start_time": "2025-03-19T05:33:39.277Z"
   },
   {
    "duration": 13,
    "start_time": "2025-03-19T05:34:38.695Z"
   },
   {
    "duration": 17,
    "start_time": "2025-03-19T05:53:34.231Z"
   },
   {
    "duration": 410,
    "start_time": "2025-03-19T05:57:17.347Z"
   },
   {
    "duration": 52,
    "start_time": "2025-03-19T05:57:56.301Z"
   },
   {
    "duration": 15,
    "start_time": "2025-03-19T05:58:38.201Z"
   },
   {
    "duration": 15,
    "start_time": "2025-03-19T05:58:49.334Z"
   },
   {
    "duration": 15,
    "start_time": "2025-03-19T06:01:23.549Z"
   },
   {
    "duration": 16,
    "start_time": "2025-03-19T06:06:07.049Z"
   },
   {
    "duration": 14,
    "start_time": "2025-03-19T06:07:45.725Z"
   },
   {
    "duration": 17,
    "start_time": "2025-03-19T06:08:58.634Z"
   },
   {
    "duration": 17,
    "start_time": "2025-03-19T06:09:38.113Z"
   },
   {
    "duration": 17,
    "start_time": "2025-03-19T06:12:57.297Z"
   },
   {
    "duration": 18,
    "start_time": "2025-03-19T06:13:08.160Z"
   },
   {
    "duration": 27,
    "start_time": "2025-03-19T06:14:29.633Z"
   },
   {
    "duration": 48,
    "start_time": "2025-03-19T06:15:12.710Z"
   },
   {
    "duration": 62,
    "start_time": "2025-03-19T06:16:18.688Z"
   },
   {
    "duration": 17,
    "start_time": "2025-03-19T06:16:38.718Z"
   },
   {
    "duration": 18,
    "start_time": "2025-03-19T06:17:53.455Z"
   },
   {
    "duration": 24,
    "start_time": "2025-03-19T06:19:49.576Z"
   },
   {
    "duration": 7,
    "start_time": "2025-03-19T06:22:17.240Z"
   },
   {
    "duration": 2116,
    "start_time": "2025-03-19T06:24:31.055Z"
   },
   {
    "duration": 266,
    "start_time": "2025-03-19T06:24:56.159Z"
   },
   {
    "duration": 216,
    "start_time": "2025-03-19T06:25:02.682Z"
   },
   {
    "duration": 212,
    "start_time": "2025-03-19T06:27:27.121Z"
   },
   {
    "duration": 3,
    "start_time": "2025-03-19T06:28:08.018Z"
   },
   {
    "duration": 210,
    "start_time": "2025-03-19T06:28:14.583Z"
   },
   {
    "duration": 3,
    "start_time": "2025-03-19T06:28:34.984Z"
   },
   {
    "duration": 194,
    "start_time": "2025-03-19T06:28:40.251Z"
   },
   {
    "duration": 230,
    "start_time": "2025-03-19T06:29:03.879Z"
   },
   {
    "duration": 309,
    "start_time": "2025-03-19T06:29:48.510Z"
   },
   {
    "duration": 313,
    "start_time": "2025-03-19T06:30:25.756Z"
   },
   {
    "duration": 279,
    "start_time": "2025-03-19T06:31:00.444Z"
   },
   {
    "duration": 4,
    "start_time": "2025-03-19T06:33:15.216Z"
   },
   {
    "duration": 3,
    "start_time": "2025-03-19T06:33:34.358Z"
   },
   {
    "duration": 3,
    "start_time": "2025-03-19T06:33:54.749Z"
   },
   {
    "duration": 5,
    "start_time": "2025-03-19T06:34:13.911Z"
   },
   {
    "duration": 5,
    "start_time": "2025-03-19T06:35:33.234Z"
   },
   {
    "duration": 205,
    "start_time": "2025-03-19T06:36:17.064Z"
   },
   {
    "duration": 237,
    "start_time": "2025-03-19T06:36:50.978Z"
   },
   {
    "duration": 482,
    "start_time": "2025-03-19T06:39:05.864Z"
   },
   {
    "duration": 2548,
    "start_time": "2025-03-20T04:12:42.585Z"
   },
   {
    "duration": 231,
    "start_time": "2025-03-20T04:12:45.136Z"
   },
   {
    "duration": 66,
    "start_time": "2025-03-20T04:12:45.370Z"
   },
   {
    "duration": 10,
    "start_time": "2025-03-20T04:12:45.439Z"
   },
   {
    "duration": 6,
    "start_time": "2025-03-20T04:12:45.451Z"
   },
   {
    "duration": 12,
    "start_time": "2025-03-20T04:12:45.458Z"
   },
   {
    "duration": 7,
    "start_time": "2025-03-20T04:12:45.472Z"
   },
   {
    "duration": 9,
    "start_time": "2025-03-20T04:12:45.481Z"
   },
   {
    "duration": 43,
    "start_time": "2025-03-20T04:12:45.492Z"
   },
   {
    "duration": 11,
    "start_time": "2025-03-20T04:12:45.539Z"
   },
   {
    "duration": 7,
    "start_time": "2025-03-20T04:12:45.552Z"
   },
   {
    "duration": 23,
    "start_time": "2025-03-20T04:12:45.563Z"
   },
   {
    "duration": 43,
    "start_time": "2025-03-20T04:12:45.589Z"
   },
   {
    "duration": 28,
    "start_time": "2025-03-20T04:12:45.634Z"
   },
   {
    "duration": 49,
    "start_time": "2025-03-20T04:12:45.665Z"
   },
   {
    "duration": 25,
    "start_time": "2025-03-20T04:12:45.716Z"
   },
   {
    "duration": 19,
    "start_time": "2025-03-20T04:12:45.743Z"
   },
   {
    "duration": 17,
    "start_time": "2025-03-20T04:12:45.764Z"
   },
   {
    "duration": 55,
    "start_time": "2025-03-20T04:12:45.783Z"
   },
   {
    "duration": 16,
    "start_time": "2025-03-20T04:12:45.840Z"
   },
   {
    "duration": 71,
    "start_time": "2025-03-20T04:12:45.860Z"
   },
   {
    "duration": 32,
    "start_time": "2025-03-20T04:12:45.933Z"
   },
   {
    "duration": 79,
    "start_time": "2025-03-20T04:12:45.967Z"
   },
   {
    "duration": 5,
    "start_time": "2025-03-20T04:12:46.048Z"
   },
   {
    "duration": 16,
    "start_time": "2025-03-20T04:12:46.055Z"
   },
   {
    "duration": 12,
    "start_time": "2025-03-20T04:12:46.073Z"
   },
   {
    "duration": 11,
    "start_time": "2025-03-20T04:12:46.087Z"
   },
   {
    "duration": 12,
    "start_time": "2025-03-20T04:12:46.132Z"
   },
   {
    "duration": 22,
    "start_time": "2025-03-20T04:12:46.146Z"
   },
   {
    "duration": 32,
    "start_time": "2025-03-20T04:12:46.169Z"
   },
   {
    "duration": 29,
    "start_time": "2025-03-20T04:12:46.203Z"
   },
   {
    "duration": 27,
    "start_time": "2025-03-20T04:12:46.234Z"
   },
   {
    "duration": 377,
    "start_time": "2025-03-20T04:12:46.263Z"
   },
   {
    "duration": 337,
    "start_time": "2025-03-20T04:12:46.642Z"
   },
   {
    "duration": 3,
    "start_time": "2025-03-20T04:12:46.981Z"
   },
   {
    "duration": 2,
    "start_time": "2025-03-20T04:12:46.988Z"
   },
   {
    "duration": 5,
    "start_time": "2025-03-20T04:12:46.992Z"
   },
   {
    "duration": 2,
    "start_time": "2025-03-20T04:12:47.001Z"
   },
   {
    "duration": 3,
    "start_time": "2025-03-20T04:12:47.005Z"
   },
   {
    "duration": 21,
    "start_time": "2025-03-20T04:12:47.010Z"
   },
   {
    "duration": 372,
    "start_time": "2025-03-20T04:14:36.659Z"
   },
   {
    "duration": 18,
    "start_time": "2025-03-20T04:16:56.165Z"
   },
   {
    "duration": 231,
    "start_time": "2025-03-20T04:17:44.429Z"
   },
   {
    "duration": 67,
    "start_time": "2025-03-20T04:22:24.561Z"
   },
   {
    "duration": 17,
    "start_time": "2025-03-20T04:24:08.518Z"
   },
   {
    "duration": 9,
    "start_time": "2025-03-20T04:25:10.692Z"
   },
   {
    "duration": 7,
    "start_time": "2025-03-20T04:25:21.114Z"
   },
   {
    "duration": 7,
    "start_time": "2025-03-20T04:25:42.971Z"
   },
   {
    "duration": 4,
    "start_time": "2025-03-20T04:30:49.219Z"
   },
   {
    "duration": 3,
    "start_time": "2025-03-20T04:31:08.629Z"
   },
   {
    "duration": 22,
    "start_time": "2025-03-20T04:31:23.428Z"
   },
   {
    "duration": 4,
    "start_time": "2025-03-20T04:33:14.765Z"
   },
   {
    "duration": 80,
    "start_time": "2025-03-20T04:35:48.015Z"
   },
   {
    "duration": 257,
    "start_time": "2025-03-20T04:36:00.835Z"
   },
   {
    "duration": 185,
    "start_time": "2025-03-20T04:37:45.032Z"
   },
   {
    "duration": 199,
    "start_time": "2025-03-20T04:38:12.162Z"
   },
   {
    "duration": 197,
    "start_time": "2025-03-20T04:39:21.268Z"
   },
   {
    "duration": 9,
    "start_time": "2025-03-20T04:40:54.683Z"
   },
   {
    "duration": 294,
    "start_time": "2025-03-20T04:41:01.314Z"
   },
   {
    "duration": 209,
    "start_time": "2025-03-20T04:41:39.528Z"
   },
   {
    "duration": 405,
    "start_time": "2025-03-20T04:42:31.736Z"
   },
   {
    "duration": 10,
    "start_time": "2025-03-20T04:47:32.463Z"
   },
   {
    "duration": 5,
    "start_time": "2025-03-20T04:49:09.098Z"
   },
   {
    "duration": 9,
    "start_time": "2025-03-20T04:49:24.547Z"
   },
   {
    "duration": 7,
    "start_time": "2025-03-20T04:49:52.271Z"
   },
   {
    "duration": 339,
    "start_time": "2025-03-20T04:53:20.305Z"
   },
   {
    "duration": 341,
    "start_time": "2025-03-20T04:53:54.516Z"
   },
   {
    "duration": 8,
    "start_time": "2025-03-20T04:55:43.185Z"
   },
   {
    "duration": 954,
    "start_time": "2025-03-20T04:56:21.725Z"
   },
   {
    "duration": 184,
    "start_time": "2025-03-20T04:59:28.747Z"
   },
   {
    "duration": 50,
    "start_time": "2025-03-20T05:00:15.604Z"
   },
   {
    "duration": 45,
    "start_time": "2025-03-20T05:00:41.665Z"
   },
   {
    "duration": 214,
    "start_time": "2025-03-20T05:01:58.042Z"
   },
   {
    "duration": 461,
    "start_time": "2025-03-20T05:02:29.000Z"
   },
   {
    "duration": 341,
    "start_time": "2025-03-20T05:03:17.513Z"
   },
   {
    "duration": 210,
    "start_time": "2025-03-20T05:03:31.199Z"
   },
   {
    "duration": 214,
    "start_time": "2025-03-20T05:03:49.047Z"
   },
   {
    "duration": 417,
    "start_time": "2025-03-20T05:04:58.939Z"
   },
   {
    "duration": 13,
    "start_time": "2025-03-20T05:10:05.287Z"
   },
   {
    "duration": 7,
    "start_time": "2025-03-20T05:10:28.790Z"
   },
   {
    "duration": 442,
    "start_time": "2025-03-20T05:11:45.869Z"
   },
   {
    "duration": 410,
    "start_time": "2025-03-20T05:13:45.949Z"
   },
   {
    "duration": 13,
    "start_time": "2025-03-20T05:18:15.816Z"
   },
   {
    "duration": 5,
    "start_time": "2025-03-20T05:19:11.564Z"
   },
   {
    "duration": 8,
    "start_time": "2025-03-20T05:19:15.778Z"
   },
   {
    "duration": 18,
    "start_time": "2025-03-20T05:21:54.897Z"
   },
   {
    "duration": 225,
    "start_time": "2025-03-20T05:21:59.520Z"
   },
   {
    "duration": 359,
    "start_time": "2025-03-20T05:23:13.440Z"
   },
   {
    "duration": 623,
    "start_time": "2025-03-20T05:23:58.411Z"
   },
   {
    "duration": 11,
    "start_time": "2025-03-20T05:27:28.858Z"
   },
   {
    "duration": 3,
    "start_time": "2025-03-20T05:29:21.230Z"
   },
   {
    "duration": 9,
    "start_time": "2025-03-20T05:29:24.722Z"
   },
   {
    "duration": 6,
    "start_time": "2025-03-20T05:31:14.689Z"
   },
   {
    "duration": 5,
    "start_time": "2025-03-20T05:32:26.049Z"
   },
   {
    "duration": 10,
    "start_time": "2025-03-20T05:33:10.089Z"
   },
   {
    "duration": 10,
    "start_time": "2025-03-20T05:35:08.935Z"
   },
   {
    "duration": 8,
    "start_time": "2025-03-22T07:33:20.363Z"
   },
   {
    "duration": 157,
    "start_time": "2025-03-22T07:33:38.466Z"
   },
   {
    "duration": 2435,
    "start_time": "2025-03-22T07:33:44.947Z"
   },
   {
    "duration": 3,
    "start_time": "2025-03-22T07:33:57.157Z"
   },
   {
    "duration": 225,
    "start_time": "2025-03-22T07:33:57.161Z"
   },
   {
    "duration": 44,
    "start_time": "2025-03-22T07:33:57.388Z"
   },
   {
    "duration": 13,
    "start_time": "2025-03-22T07:33:57.434Z"
   },
   {
    "duration": 6,
    "start_time": "2025-03-22T07:33:57.450Z"
   },
   {
    "duration": 16,
    "start_time": "2025-03-22T07:33:57.457Z"
   },
   {
    "duration": 6,
    "start_time": "2025-03-22T07:33:57.474Z"
   },
   {
    "duration": 8,
    "start_time": "2025-03-22T07:33:57.481Z"
   },
   {
    "duration": 11,
    "start_time": "2025-03-22T07:33:57.491Z"
   },
   {
    "duration": 13,
    "start_time": "2025-03-22T07:34:00.050Z"
   },
   {
    "duration": 480,
    "start_time": "2025-03-22T07:35:13.930Z"
   },
   {
    "duration": 73,
    "start_time": "2025-03-22T07:37:11.228Z"
   },
   {
    "duration": 4,
    "start_time": "2025-03-22T07:38:59.544Z"
   },
   {
    "duration": 2,
    "start_time": "2025-03-22T07:39:10.947Z"
   },
   {
    "duration": 86,
    "start_time": "2025-03-22T07:43:17.164Z"
   },
   {
    "duration": 2,
    "start_time": "2025-03-22T07:43:27.994Z"
   },
   {
    "duration": 159,
    "start_time": "2025-03-22T07:43:27.999Z"
   },
   {
    "duration": 43,
    "start_time": "2025-03-22T07:43:28.160Z"
   },
   {
    "duration": 7,
    "start_time": "2025-03-22T07:43:28.207Z"
   },
   {
    "duration": 5,
    "start_time": "2025-03-22T07:43:28.216Z"
   },
   {
    "duration": 29,
    "start_time": "2025-03-22T07:43:28.222Z"
   },
   {
    "duration": 8,
    "start_time": "2025-03-22T07:43:28.252Z"
   },
   {
    "duration": 7,
    "start_time": "2025-03-22T07:43:28.262Z"
   },
   {
    "duration": 10,
    "start_time": "2025-03-22T07:43:28.271Z"
   },
   {
    "duration": 10,
    "start_time": "2025-03-22T07:43:28.283Z"
   },
   {
    "duration": 7,
    "start_time": "2025-03-22T07:43:28.297Z"
   },
   {
    "duration": 49,
    "start_time": "2025-03-22T07:43:28.305Z"
   },
   {
    "duration": 17,
    "start_time": "2025-03-22T07:43:28.356Z"
   },
   {
    "duration": 24,
    "start_time": "2025-03-22T07:43:28.375Z"
   },
   {
    "duration": 73,
    "start_time": "2025-03-22T07:43:28.400Z"
   },
   {
    "duration": 11,
    "start_time": "2025-03-22T07:43:28.475Z"
   },
   {
    "duration": 19,
    "start_time": "2025-03-22T07:43:28.488Z"
   },
   {
    "duration": 38,
    "start_time": "2025-03-22T07:43:28.509Z"
   },
   {
    "duration": 30,
    "start_time": "2025-03-22T07:43:28.549Z"
   },
   {
    "duration": 14,
    "start_time": "2025-03-22T07:43:28.581Z"
   },
   {
    "duration": 64,
    "start_time": "2025-03-22T07:43:28.597Z"
   },
   {
    "duration": 20,
    "start_time": "2025-03-22T07:43:28.663Z"
   },
   {
    "duration": 66,
    "start_time": "2025-03-22T07:43:28.684Z"
   },
   {
    "duration": 4,
    "start_time": "2025-03-22T07:43:28.752Z"
   },
   {
    "duration": 16,
    "start_time": "2025-03-22T07:43:28.758Z"
   },
   {
    "duration": 2,
    "start_time": "2025-03-22T07:43:28.775Z"
   },
   {
    "duration": 11,
    "start_time": "2025-03-22T07:43:28.779Z"
   },
   {
    "duration": 11,
    "start_time": "2025-03-22T07:43:28.792Z"
   },
   {
    "duration": 42,
    "start_time": "2025-03-22T07:43:28.806Z"
   },
   {
    "duration": 15,
    "start_time": "2025-03-22T07:43:28.850Z"
   },
   {
    "duration": 21,
    "start_time": "2025-03-22T07:43:28.866Z"
   },
   {
    "duration": 14,
    "start_time": "2025-03-22T07:43:28.889Z"
   },
   {
    "duration": 55,
    "start_time": "2025-03-22T07:43:28.904Z"
   },
   {
    "duration": 24,
    "start_time": "2025-03-22T07:43:33.822Z"
   },
   {
    "duration": 24,
    "start_time": "2025-03-22T07:45:13.456Z"
   },
   {
    "duration": 322,
    "start_time": "2025-03-22T07:45:13.482Z"
   },
   {
    "duration": 347,
    "start_time": "2025-03-22T07:45:13.807Z"
   },
   {
    "duration": 23,
    "start_time": "2025-03-22T07:45:14.157Z"
   },
   {
    "duration": 0,
    "start_time": "2025-03-22T07:45:14.183Z"
   },
   {
    "duration": 1,
    "start_time": "2025-03-22T07:45:14.184Z"
   },
   {
    "duration": 0,
    "start_time": "2025-03-22T07:45:14.186Z"
   },
   {
    "duration": 0,
    "start_time": "2025-03-22T07:45:14.187Z"
   },
   {
    "duration": 0,
    "start_time": "2025-03-22T07:45:14.189Z"
   },
   {
    "duration": 0,
    "start_time": "2025-03-22T07:45:14.191Z"
   },
   {
    "duration": 0,
    "start_time": "2025-03-22T07:45:14.192Z"
   },
   {
    "duration": 0,
    "start_time": "2025-03-22T07:45:14.193Z"
   },
   {
    "duration": 0,
    "start_time": "2025-03-22T07:45:14.195Z"
   },
   {
    "duration": 0,
    "start_time": "2025-03-22T07:45:14.197Z"
   },
   {
    "duration": 0,
    "start_time": "2025-03-22T07:45:14.198Z"
   },
   {
    "duration": 0,
    "start_time": "2025-03-22T07:45:14.200Z"
   },
   {
    "duration": 0,
    "start_time": "2025-03-22T07:45:14.201Z"
   },
   {
    "duration": 0,
    "start_time": "2025-03-22T07:45:14.203Z"
   },
   {
    "duration": 0,
    "start_time": "2025-03-22T07:45:14.203Z"
   },
   {
    "duration": 0,
    "start_time": "2025-03-22T07:45:14.204Z"
   },
   {
    "duration": 23,
    "start_time": "2025-03-22T07:45:55.990Z"
   },
   {
    "duration": 24,
    "start_time": "2025-03-22T07:46:01.930Z"
   },
   {
    "duration": 11,
    "start_time": "2025-03-22T07:46:37.260Z"
   },
   {
    "duration": 5,
    "start_time": "2025-03-22T07:47:36.478Z"
   },
   {
    "duration": 3,
    "start_time": "2025-03-22T07:48:46.650Z"
   },
   {
    "duration": 5,
    "start_time": "2025-03-22T07:49:46.370Z"
   },
   {
    "duration": 3,
    "start_time": "2025-03-22T07:50:13.992Z"
   },
   {
    "duration": 27,
    "start_time": "2025-03-22T07:50:50.730Z"
   },
   {
    "duration": 5,
    "start_time": "2025-03-22T07:51:34.962Z"
   },
   {
    "duration": 4,
    "start_time": "2025-03-22T07:51:46.860Z"
   },
   {
    "duration": 26,
    "start_time": "2025-03-22T07:51:49.026Z"
   },
   {
    "duration": 26,
    "start_time": "2025-03-22T07:52:39.623Z"
   },
   {
    "duration": 282,
    "start_time": "2025-03-22T07:52:39.652Z"
   },
   {
    "duration": 330,
    "start_time": "2025-03-22T07:52:39.935Z"
   },
   {
    "duration": 10,
    "start_time": "2025-03-22T07:52:40.268Z"
   },
   {
    "duration": 512,
    "start_time": "2025-03-22T07:52:40.279Z"
   },
   {
    "duration": 10,
    "start_time": "2025-03-22T07:52:40.793Z"
   },
   {
    "duration": 6,
    "start_time": "2025-03-22T07:52:40.804Z"
   },
   {
    "duration": 351,
    "start_time": "2025-03-22T07:52:40.812Z"
   },
   {
    "duration": 197,
    "start_time": "2025-03-22T07:52:41.165Z"
   },
   {
    "duration": 338,
    "start_time": "2025-03-22T07:52:41.364Z"
   },
   {
    "duration": 10,
    "start_time": "2025-03-22T07:52:41.704Z"
   },
   {
    "duration": 6,
    "start_time": "2025-03-22T07:52:41.715Z"
   },
   {
    "duration": 344,
    "start_time": "2025-03-22T07:52:41.723Z"
   },
   {
    "duration": 347,
    "start_time": "2025-03-22T07:52:42.069Z"
   },
   {
    "duration": 10,
    "start_time": "2025-03-22T07:52:42.417Z"
   },
   {
    "duration": 176,
    "start_time": "2025-03-22T07:52:42.429Z"
   },
   {
    "duration": 456,
    "start_time": "2025-03-22T07:52:42.607Z"
   },
   {
    "duration": 337,
    "start_time": "2025-03-22T07:52:43.065Z"
   },
   {
    "duration": 6,
    "start_time": "2025-03-22T07:52:43.403Z"
   },
   {
    "duration": 8,
    "start_time": "2025-03-22T07:52:43.410Z"
   },
   {
    "duration": 295,
    "start_time": "2025-03-22T07:52:55.537Z"
   },
   {
    "duration": 319,
    "start_time": "2025-03-22T07:53:03.145Z"
   },
   {
    "duration": 9,
    "start_time": "2025-03-22T07:53:10.968Z"
   },
   {
    "duration": 337,
    "start_time": "2025-03-22T07:53:24.376Z"
   },
   {
    "duration": 7,
    "start_time": "2025-03-22T07:53:44.850Z"
   },
   {
    "duration": 303,
    "start_time": "2025-03-22T07:53:46.978Z"
   },
   {
    "duration": 193,
    "start_time": "2025-03-22T07:53:53.098Z"
   },
   {
    "duration": 458,
    "start_time": "2025-03-22T07:54:01.930Z"
   },
   {
    "duration": 7,
    "start_time": "2025-03-22T07:54:10.689Z"
   },
   {
    "duration": 319,
    "start_time": "2025-03-22T07:54:14.642Z"
   },
   {
    "duration": 334,
    "start_time": "2025-03-22T07:54:18.930Z"
   },
   {
    "duration": 162,
    "start_time": "2025-03-22T07:54:24.543Z"
   },
   {
    "duration": 344,
    "start_time": "2025-03-22T07:54:30.431Z"
   },
   {
    "duration": 7,
    "start_time": "2025-03-22T07:54:39.766Z"
   },
   {
    "duration": 6,
    "start_time": "2025-03-22T07:54:49.628Z"
   },
   {
    "duration": 4,
    "start_time": "2025-03-22T07:56:33.859Z"
   },
   {
    "duration": 6,
    "start_time": "2025-03-22T07:56:47.622Z"
   },
   {
    "duration": 3,
    "start_time": "2025-03-22T07:57:24.236Z"
   },
   {
    "duration": 6,
    "start_time": "2025-03-22T07:57:47.676Z"
   },
   {
    "duration": 10,
    "start_time": "2025-03-22T07:58:42.273Z"
   },
   {
    "duration": 4,
    "start_time": "2025-03-22T07:58:59.598Z"
   },
   {
    "duration": 3,
    "start_time": "2025-03-22T07:59:16.686Z"
   },
   {
    "duration": 10,
    "start_time": "2025-03-22T07:59:48.921Z"
   },
   {
    "duration": 8,
    "start_time": "2025-03-22T08:00:24.552Z"
   },
   {
    "duration": 9,
    "start_time": "2025-03-22T08:02:05.991Z"
   }
  ],
  "colab": {
   "provenance": []
  },
  "kernelspec": {
   "display_name": "Python 3 (ipykernel)",
   "language": "python",
   "name": "python3"
  },
  "language_info": {
   "codemirror_mode": {
    "name": "ipython",
    "version": 3
   },
   "file_extension": ".py",
   "mimetype": "text/x-python",
   "name": "python",
   "nbconvert_exporter": "python",
   "pygments_lexer": "ipython3",
   "version": "3.9.19"
  },
  "toc": {
   "base_numbering": 1,
   "nav_menu": {
    "height": "190.989px",
    "width": "321px"
   },
   "number_sections": true,
   "sideBar": true,
   "skip_h1_title": false,
   "title_cell": "Table of Contents",
   "title_sidebar": "Contents",
   "toc_cell": false,
   "toc_position": {
    "height": "calc(100% - 180px)",
    "left": "10px",
    "top": "150px",
    "width": "165px"
   },
   "toc_section_display": true,
   "toc_window_display": true
  }
 },
 "nbformat": 4,
 "nbformat_minor": 1
}
